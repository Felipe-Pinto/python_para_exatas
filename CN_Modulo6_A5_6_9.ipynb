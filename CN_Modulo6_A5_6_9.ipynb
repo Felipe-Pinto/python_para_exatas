{
  "nbformat": 4,
  "nbformat_minor": 0,
  "metadata": {
    "colab": {
      "provenance": [],
      "include_colab_link": true
    },
    "kernelspec": {
      "name": "python3",
      "display_name": "Python 3"
    }
  },
  "cells": [
    {
      "cell_type": "markdown",
      "metadata": {
        "id": "view-in-github",
        "colab_type": "text"
      },
      "source": [
        "<a href=\"https://colab.research.google.com/github/Felipe-Pinto/python_para_exatas/blob/main/CN_Modulo6_A5_6_9.ipynb\" target=\"_parent\"><img src=\"https://colab.research.google.com/assets/colab-badge.svg\" alt=\"Open In Colab\"/></a>"
      ]
    },
    {
      "cell_type": "markdown",
      "metadata": {
        "id": "WdZ6Fg4QPzbS"
      },
      "source": [
        "# 1. Método dos Quadrados Mínimos\n",
        "\n",
        "O método dos quadrados mínimos consiste em escolher os coeficientes $\\alpha_1, \\alpha_2, \\cdots, \\alpha_n$ de modo a encontrar uma função $\\varphi(x)$ que minimize a seguinte função:\n",
        "\n",
        "**Min** F($\\alpha_1, \\alpha_2, \\cdots, \\alpha_n$) = $\\displaystyle \\sum_{k=1}^{m} d_k^2 = \\displaystyle \\sum_{k=1}^{m} (f(x_k) - \\varphi(x_k))^2$\n",
        "\n",
        "onde:\n",
        "\n",
        "$\\varphi(x_k) = \\alpha_1 g_1(x_k) + \\alpha_2 g_2(x_k) + \\cdots + \\alpha_n g_n(x_k)$, $g_i(x_k), \\forall i = 1,\\cdots, n$ são funções $n$ contínuas em $[a,b]$, $d_k^2$ são os desvios quadráticos entre o valor tabelado $f(x_k)$ e o modelo proposto pela função $\\varphi(x)$ no k-ésimo ponto tabelado $x_k$.\n",
        "\n",
        "É importante frisar que os n pontos tabelados devem ser distintos e a representação geométrica para encontrar a reta que minimiza os erros entre os valores tabelados é representada pela Figura 1.\n",
        "\n",
        "![](https://drive.google.com/uc?export=view&id=1M1iSigR_fpvq8YFBemgHH5J6Jyj_lCZ5)\n",
        "Figura 1: Reta que minimiza o erro entre valores tabelados e o valor fornecido pelo modelo.\n",
        "\n",
        "É importante ressaltar que neste caso: $\\varphi(x) = a + bx$, tal que $g_1(x) = 1$, $g_2(x) = x$, $\\alpha_1 = a$ e $\\alpha_2 = b$.\n",
        "\n",
        "A resolução deste problema consiste na obtenção e resolução de um sistema de equações associado, denominado **sistema normal A x = b**.\n",
        "\n",
        "\n",
        "![](https://drive.google.com/uc?export=view&id=1ZxmzkRJgjH_6ZBNeeUW_P_hRmOsguhAa)\n",
        "\n",
        "\n",
        "Um exemplo numérico que ilustra a obtenção do sistema linear associado à resolução do problema de quadrados mínimos é dado a seguir.\n",
        "\n",
        "![](https://drive.google.com/uc?export=view&id=1AaAqw4OIF244YpjBl6kSJiUtbbKsr4Ei)\n",
        "\n",
        "Aplicando-se a definição das funções **$g_1(x) = 1$**, **$g_2(x) = x$** e **$g_3(x) = x^2$**, o sistema será simplificado para:\n",
        "\n",
        "![](https://drive.google.com/uc?export=view&id=1MNwv5si9JDb8oKGMpUSqdo5EptoWLzA8)\n",
        "\n",
        "Esse sistema pode ser reagrupado para deixar em evidência os componentes da matriz **A** e do vetor **b** do **sistema normal** associado.\n",
        "\n",
        "\n",
        "![](https://drive.google.com/uc?export=view&id=1dYUvNKPseOUSvxRikyQPL6YWrNpgwHBs)\n",
        "\n",
        "O código dado a seguir fornece a melhor curva para qualquer polinômio de grau **dim-1**. Por exemplo, se **dim = 3**, então, serão usadas as funções $g_1(x) = 1$, $g_2(x) = x$ e $g_3(x) = x^2$. O código irá determinar quais são os valores $\\alpha_1$, $\\alpha_2$ e $\\alpha_3$ associados que minimizam a soma do erro quadrático entre o valor tabelado $f(x)$ e $\\varphi$ nos m pontos tabelados dados.\n"
      ]
    },
    {
      "cell_type": "code",
      "metadata": {
        "id": "OhkxnEzLs2dT",
        "colab": {
          "base_uri": "https://localhost:8080/"
        },
        "outputId": "a00fc656-ff2b-4a68-d92d-3c6f9f494927"
      },
      "source": [
        "import numpy as np\n",
        "\n",
        "def sistemaAumentado(x,y,dim):\n",
        "  n = len(x)\n",
        "  A = np.empty((dim,dim))\n",
        "  b = np.empty((dim))\n",
        "  soma = []\n",
        "  for i in range(0,2*dim+1):\n",
        "    aux = 0\n",
        "    for k in range(0,n):\n",
        "      aux = aux + x[k]**i\n",
        "    soma.append(aux)\n",
        "\n",
        "  for i in range(0,dim):\n",
        "    for j in range(i,dim):\n",
        "      A[i,j] = soma[i+j]\n",
        "      if (i != j):\n",
        "        A[j,i] = A[i,j]\n",
        "\n",
        "\n",
        "  b = []\n",
        "  for i in range(0,dim):\n",
        "    aux = 0\n",
        "    for k in range(0,n):\n",
        "      aux = aux + y[k]*(x[k]**(i))\n",
        "    b.append(aux)\n",
        "\n",
        "  return A, b\n",
        "\n",
        "x = [-1.0, -0.75, -0.6,\t-0.5,\t-0.3, 0, 0.2, 0.4, 0.5,\t0.7, 1]\n",
        "y = [2.05, 1.153, 0.45,\t0.4,\t0.5, 0,\t0.2, 0.6, 0.512, 1.2, 2.05]\n",
        "A, b = sistemaAumentado(x,y,3)\n",
        "print(\"A = \",A)\n",
        "print(\"b = \",b)\n",
        "coef = np.linalg.solve(A,b)\n",
        "print(\"coef = \",coef)"
      ],
      "execution_count": null,
      "outputs": [
        {
          "output_type": "stream",
          "text": [
            "A =  [[11.         -0.35        4.2025    ]\n",
            " [-0.35        4.2025     -0.249875  ]\n",
            " [ 4.2025     -0.249875    2.84640625]]\n",
            "b =  [9.115, -0.10874999999999968, 5.8755625]\n",
            "coef =  [0.09141166 0.09695181 1.93775251]\n"
          ],
          "name": "stdout"
        }
      ]
    },
    {
      "cell_type": "code",
      "metadata": {
        "id": "A5EzwNzaTjlx",
        "colab": {
          "base_uri": "https://localhost:8080/",
          "height": 265
        },
        "outputId": "4164c9ed-2e59-46b2-c437-ab8faf55c727"
      },
      "source": [
        "import numpy as np\n",
        "import matplotlib.pyplot as plt\n",
        "\n",
        "plt.plot(x, y,'ro')\n",
        "data = np.linspace(min(x), max(x), 100)\n",
        "# p = coe[0]*x^2 + coef[1]*x + coef[0]\n",
        "c = coef[::-1].copy()\n",
        "p = np.poly1d(c)\n",
        "plt.plot(data, p(data),'b-')\n",
        "plt.grid()\n",
        "plt.show()\n"
      ],
      "execution_count": null,
      "outputs": [
        {
          "output_type": "display_data",
          "data": {
            "image/png": "[encoded data removed]",
            "text/plain": [
              "<Figure size 432x288 with 1 Axes>"
            ]
          },
          "metadata": {
            "tags": [],
            "needs_background": "light"
          }
        }
      ]
    },
    {
      "cell_type": "code",
      "metadata": {
        "id": "yV88X8AgXW0K",
        "colab": {
          "base_uri": "https://localhost:8080/"
        },
        "outputId": "78d3f557-64f3-477a-afd9-3297326d536f"
      },
      "source": [
        "import numpy as np\n",
        "\n",
        "def sistemaAumentado(x,y,dim):\n",
        "  n = len(x)\n",
        "  A = np.empty((dim,dim))\n",
        "  b = np.empty((dim))\n",
        "  soma = []\n",
        "  for i in range(0,dim+2):\n",
        "    aux = 0\n",
        "    for k in range(0,n):\n",
        "      aux = aux + x[k]**i\n",
        "    soma.append(aux)\n",
        "\n",
        "  for i in range(0,dim):\n",
        "    for j in range(i,dim):\n",
        "      A[i,j] = soma[i+j]\n",
        "      if (i != j):\n",
        "        A[j,i] = A[i,j]\n",
        "\n",
        "\n",
        "  b = []\n",
        "  for i in range(0,dim):\n",
        "    aux = 0\n",
        "    for k in range(0,n):\n",
        "      aux = aux + y[k]*(x[k]**(i))\n",
        "    b.append(aux)\n",
        "\n",
        "  return A, b\n",
        "\n",
        "x  = [-1.0, -0.7, -0.4,\t-0.1,\t0.2, 0.5, 0.8, 1.0]\n",
        "y  = [36.547, 17.264, 8.155, 3.852, 1.820, 0.860, 0.406, 0.246]\n",
        "ly = np.log(y)\n",
        "A, b = sistemaAumentado(x,ly,2)\n",
        "print(\"A = \",A)\n",
        "print(\"b = \",b)\n",
        "coef = np.linalg.solve(A,b)\n",
        "print(\"coef = \",coef)"
      ],
      "execution_count": null,
      "outputs": [
        {
          "output_type": "stream",
          "text": [
            "A =  [[8.   0.3 ]\n",
            " [0.3  3.59]]\n",
            "b =  [8.038633990932304, -8.646136816471202]\n",
            "coef =  [ 1.09858669 -2.50019856]\n"
          ],
          "name": "stdout"
        }
      ]
    },
    {
      "cell_type": "markdown",
      "metadata": {
        "id": "EXZLGoqufR_s"
      },
      "source": [
        "# 2. Caso Não-Linear\n",
        "\n",
        "![](https://drive.google.com/uc?export=view&id=1K4PnkKMtg2KU4aIUBXvfMoLoj0LbxT7R)\n",
        "\n",
        "\n",
        "![](https://drive.google.com/uc?export=view&id=1-WhHfDhU_IYbn0Qi5DIAWPX2uq3cSyf8)\n",
        "\n",
        "\n",
        "![](https://drive.google.com/uc?export=view&id=1h2jEyMG5oxFpHp14uPnJilxWqyk8Xv00)\n",
        "\n",
        "\n",
        "![](https://drive.google.com/uc?export=view&id=1LKUVzpRFLT4RLV6wrg_w15uQdSJFb_q4)\n",
        "\n"
      ]
    },
    {
      "cell_type": "code",
      "metadata": {
        "id": "QF1qGkkCcy1y",
        "colab": {
          "base_uri": "https://localhost:8080/",
          "height": 265
        },
        "outputId": "ab704a02-d44e-4d16-ce00-09a93a54215a"
      },
      "source": [
        "import numpy as np\n",
        "import matplotlib.pyplot as plt\n",
        "\n",
        "def p(coef,x):\n",
        "   y = np.exp(coef[0])*np.exp(coef[1]*x)\n",
        "   return y\n",
        "\n",
        "plt.plot(x, y,'ro')\n",
        "data = np.linspace(min(x), max(x), 100)\n",
        "plt.plot(data, p(coef,data),'b-')\n",
        "plt.grid()\n",
        "plt.show()"
      ],
      "execution_count": null,
      "outputs": [
        {
          "output_type": "display_data",
          "data": {
            "image/png": "[encoded data removed]",
            "text/plain": [
              "<Figure size 432x288 with 1 Axes>"
            ]
          },
          "metadata": {
            "tags": [],
            "needs_background": "light"
          }
        }
      ]
    }
  ]
}