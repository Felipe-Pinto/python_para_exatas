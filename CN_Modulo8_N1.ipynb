{
  "nbformat": 4,
  "nbformat_minor": 0,
  "metadata": {
    "colab": {
      "provenance": [],
      "include_colab_link": true
    },
    "kernelspec": {
      "name": "python3",
      "display_name": "Python 3"
    }
  },
  "cells": [
    {
      "cell_type": "markdown",
      "metadata": {
        "id": "view-in-github",
        "colab_type": "text"
      },
      "source": [
        "<a href=\"https://colab.research.google.com/github/Felipe-Pinto/python_para_exatas/blob/main/CN_Modulo8_N1.ipynb\" target=\"_parent\"><img src=\"https://colab.research.google.com/assets/colab-badge.svg\" alt=\"Open In Colab\"/></a>"
      ]
    },
    {
      "cell_type": "markdown",
      "metadata": {
        "id": "VDjOu8i2Hpli"
      },
      "source": [
        "# 1. Equações diferenciais ordinárias: Problema de valor inicial e Problema de valor de contorno\n",
        "\n",
        "Equações diferenciais ordinárias (EDOs) são obtidas ao se estabelecer como se dá a variação de uma primeira grandeza em relação a segunda grandeza. A primeira grandeza deve ser função apenas da segunda grandeza.\n",
        "\n",
        "Um exemplo de uma EDO na qual a grandeza x varia em relação a uma grandeza t é dado por:  \n",
        "\n",
        "$\\frac{dx}{dt} = x(\\alpha - \\beta y)$\n",
        "\n",
        "Para o caso no qual a primeira grandeza é função de mais uma variável têm-se uma Equação diferencial parcial (EDP) e um exemplo é dado por:\n",
        "\n",
        "$\\frac{\\partial^2 u}{\\partial x^2} + \\frac{\\partial^2 u}{\\partial y^2} = 0$\n",
        "\n",
        "Exemplos de solução de um EDO são dados para o seguintes casos:\n",
        "\n",
        "**Caso 1**: $\\frac{\\partial y}{\\partial t} = \\dot{y} = y \\rightarrow y(x) = ae^x, \\forall \\in \\mathbb{R}$.\n",
        "\n",
        "**Caso 2**: $u''' = 0 \\rightarrow u(x) = p_2(x), \\forall p_2(x)$.\n",
        "\n",
        "As EDOs podem ser classificadas quanto a sua ordem, isto é, a maior ordem de derivação presente na equação. No **Caso 1**, a EDO é de **ordem 1** ao passo que no **Caso 2** a EDO é de **ordem 3**.\n",
        "\n",
        "Além disso, os dois casos servem para ilustrar o princípio geral de que EDOs possuem uma família de soluções (múltiplas soluções).\n",
        "\n",
        "Porém, é possível **impor condições adicionais** tal que para uma **EDO** tenha **solução única**. De modo geral, se a **EDO** possui **ordem m**, então, são necessárias **m condições adicionais** para se ter solução única. Exemplos dessas condições são:\n",
        "\n",
        "$$y(0) = 1$$, $$y'(4) = 5$$ e $$y(2) + 5y'(3) = 6$$.\n",
        "\n",
        "\n",
        "Um problema de valor inicial (PVI) consiste em uma **EDO de ordem m** consiste em especificar em um **mesmo ponto** as **derivadas** até **ordem m-1**.\n",
        "\n",
        "Um exemplo de PVI é dado por:\n",
        "\n",
        "$$\\dot{y} = y,  y(0) = 1$$\n",
        "\n",
        "Já no **problema de valor de contorno** (**PVC**), a **EDO de ordem m**, $m \\geq 2$, as **m condições** fornecidas **não são** todas de um **mesmo ponto**. Porém, a **unicidade de solução não é garantida** como no PVI.\n",
        "\n",
        "A seguir serão mostrados métodos para a resolução de um PVI.\n",
        "\n",
        "\n",
        "\n",
        "\n"
      ]
    },
    {
      "cell_type": "markdown",
      "metadata": {
        "id": "0nmj_jzROrQq"
      },
      "source": [
        "# 2. Resolução de PVIs\n",
        "\n",
        "A seguir serão mostrados os seguintes métodos de PVIs:\n",
        "\n",
        "* Método de Euler;\n",
        "* Métodos de Runge-Kutta de ordem 2, 3 e 4."
      ]
    },
    {
      "cell_type": "markdown",
      "metadata": {
        "id": "BUQWEyqOPmhB"
      },
      "source": [
        "## 2.1. Método de Euler\n",
        "\n",
        "Seja o PVI:\n",
        "\n",
        "$y' = f(x,y)$ e $ y(x_0) = y_0$.\n",
        "\n",
        "O **método de Euler** consiste em estimar o valor de $y_1(x)$ empregando a reta $r_0(x)$ que passa pelo ponto $(x_0, y_0)$ com coeficiente angular $y'(x_0)$:\n",
        "\n",
        "$r_0(x) = y(x_0) + (x-x_0)y'(x_0)$.\n",
        "\n",
        "\n",
        "Seja $h = x_{i+1} - x_i$, para i = 1, $h = x_1 - x_0$. E $y'(x_0) = f(x_0,y_0)$, bem como $y_0 = y(x_0)$, então:\n",
        "\n",
        "$y_1 = y_0 + hf(x_0,y_0)$.\n",
        "\n",
        "De modo geral:\n",
        "\n",
        "$y_{i+1} = y_{i} + hf(x_i,y_i), i \\in {0,1,2,...}$.\n",
        "\n",
        "Seja **a** o valor de **x no ponto inicial** e **b** o valor de **x no ponto** para o qual deseja-se **conhecer o valor da função y**. Se o espaçamento $h$ é tal que divide o intervalo **[a, b]** em **n subintervalos**: $[x_0, x_1, x_2, ..., x_n]$, então:\n",
        "\n",
        "$h = \\frac{b-a}{n}$\n",
        "\n",
        "Ou\n",
        "\n",
        "$n = \\frac{b-a}{h}$.\n",
        "\n",
        "\n"
      ]
    },
    {
      "cell_type": "markdown",
      "metadata": {
        "id": "MXUM7wTAY83j"
      },
      "source": [
        "## 2.2. Exemplo numérico\n",
        "\n",
        "Para ilustrar a aplicação do método seja o PVI dado por:\n",
        "\n",
        "$y'= 1 - y/x$ e $y(2) = 2$.\n",
        "\n",
        "\n",
        "Deseja-se calcular **y(2.1)** pelo **método de Euler** usando **h = 0.1**."
      ]
    },
    {
      "cell_type": "code",
      "metadata": {
        "colab": {
          "base_uri": "https://localhost:8080/"
        },
        "id": "g_YmJ9_gFFau",
        "outputId": "642fb3ad-d3be-4174-da4e-1213bf796bbc"
      },
      "source": [
        "def f1(x,y):\n",
        "  return 1 - y/x\n",
        "\n",
        "def runge1(f,x0,xf,y0,h):\n",
        "\n",
        "   y1 = y0 + h*f(x0,y0)\n",
        "   x1 = x0 + h\n",
        "\n",
        "   n = int((xf-x0)/h)\n",
        "   for i in range(1,n):\n",
        "     x0 = x1\n",
        "     y0 = y1\n",
        "     y1 = y0 + h*f(x0,y0)\n",
        "     x1 = x0 + h\n",
        "\n",
        "   return x1,y1\n",
        "\n",
        "f = f1\n",
        "x0 = 2\n",
        "xf = 2.1\n",
        "y0 = 2\n",
        "h = 0.1\n",
        "\n",
        "x1,y1 = runge1(f,x0,xf,y0,h)\n",
        "print(\"Runge 1: y(\",x1,\") = \",y1)\n"
      ],
      "execution_count": null,
      "outputs": [
        {
          "output_type": "stream",
          "text": [
            "Runge 1: y( 2.1 ) =  2.0\n"
          ],
          "name": "stdout"
        }
      ]
    },
    {
      "cell_type": "markdown",
      "metadata": {
        "id": "MJzKlRZJYZVE"
      },
      "source": [
        "## 2.2. Métodos de Runge-Kutta de ordem 2, 3 e 4\n",
        "\n",
        "Através de desenvolvimentos em **série de Taylor** é possível obter métodos de maior precisão.\n",
        "\n",
        "O **método de Runge-Kutta de ordem 2** ou **método de Euler Aperfeiçoado** possui o seguinte equacionamento:\n",
        "\n",
        "$y_{n+1} = y_n + \\frac{h}{2}\\left[f(x_n,y_n) + f(x_n + h, y_n + hy_n') \\right], k = 0, 1, 2, ...$\n",
        "\n",
        "O **método de Runge-Kutta de ordem 3** possui o seguinte equacionamento:\n",
        "\n",
        "$y_{n+1} = y_n + \\frac{2}{9}k_1 + \\frac{1}{3}k_2 + \\frac{4}{9}k_3 , k = 0, 1, 2, ...$\n",
        "\n",
        "$k_1 = hf(x_n,y_n)$,\n",
        "$k_2 = hf(x_n+h/2,y_n+k_1/2)$,\n",
        "$k_3 = hf(x_n+3h/4,y_n+3k_2/4)$.\n",
        "\n",
        "\n",
        "O **método de Runge-Kutta de ordem 4** possui o seguinte equacionamento:\n",
        "\n",
        "$y_{n+1} = y_n + \\frac{1}{6} \\left( k_1 + 2k_2 + 2k_3 + k_4 \\right) , k = 0, 1, 2, ...$\n",
        "\n",
        "$k_1 = hf(x_n,y_n)$,\n",
        "$k_2 = hf(x_n+h/2,y_n+k_1/2)$,\n",
        "$k_3 = hf(x_n+h/2,y_n+k_2/2)$,\n",
        "$k_4 = hf(x_n+h,y_n+k_3)$.\n",
        "\n"
      ]
    },
    {
      "cell_type": "markdown",
      "metadata": {
        "id": "AwiymxhJcA0U"
      },
      "source": [
        "## 2.4. Exemplo numérico\n",
        "\n",
        "Fazer um comparativo da aplicação dos **método de Euler** e **Runge-Kutta de ordem 2 e 3** para o seguinte **PVI**:\n",
        "\n",
        "$y'= 0.04y$ e $y(0) = 1000$.\n",
        "\n",
        "\n",
        "Deseja-se calcular **y(1)** por todos os métodos usando **h = 0.1, 0.5 e 1**.\n",
        "\n",
        "Observar que a solução exata é dada por: $y(1) = 1000e^{0.04} = 1040.8108$."
      ]
    },
    {
      "cell_type": "code",
      "metadata": {
        "colab": {
          "base_uri": "https://localhost:8080/"
        },
        "id": "b8t54DJhdWCN",
        "outputId": "5afc9caf-9394-4f46-d175-db106eb58960"
      },
      "source": [
        "def f1(x,y):\n",
        "  return 1 - y/x\n",
        "\n",
        "def f2(x,y):\n",
        "  return 0.04*y\n",
        "\n",
        "\n",
        "def runge1(f,x0,xf,y0,h):\n",
        "\n",
        "   y1 = y0 + h*f(x0,y0)\n",
        "   x1 = x0 + h\n",
        "\n",
        "   n = int((xf-x0)/h)\n",
        "   for i in range(1,n):\n",
        "     x0 = x1\n",
        "     y0 = y1\n",
        "     y1 = y0 + h*f(x0,y0)\n",
        "     x1 = x0 + h\n",
        "\n",
        "   return x1,y1\n",
        "\n",
        "\n",
        "def runge2(f,x0,xf,y0,h):\n",
        "\n",
        "  y1 = y0 + h/2*(f(x0,y0) + f(x0+h,y0+h*f(x0,y0)))\n",
        "  x1 = x0 + h\n",
        "\n",
        "  n = int((xf-x0)/h)\n",
        "  for i in range(1,n):\n",
        "    x0 = x1\n",
        "    y0 = y1\n",
        "    y1 = y0 + h/2*(f(x0,y0) + f(x0+h,y0+h*f(x0,y0)))\n",
        "    x1 = x0 + h\n",
        "\n",
        "  return x1,y1\n",
        "\n",
        "\n",
        "def runge3(f,x0,xf,y0,h):\n",
        "\n",
        "  k1 = h*f(x0,y0)\n",
        "  k2 = h*f(x0+h/2,y0+k1/2)\n",
        "  k3 = h*f(x0+3*h/4,y0+3*k2/4)\n",
        "  y1 = y0 + (2/9)*k1 + (1/3)*k2 + (4/9)*k3\n",
        "  x1 = x0 + h\n",
        "\n",
        "  n = int((xf-x0)/h)\n",
        "  for i in range(1,n):\n",
        "    x0 = x1\n",
        "    y0 = y1\n",
        "    k1 = h*f(x0,y0)\n",
        "    k2 = h*f(x0+h/2,y0+k1/2)\n",
        "    k3 = h*f(x0+3*h/4,y0+3*k2/4)\n",
        "    y1 = y0 + (2/9)*k1 + (1/3)*k2 + (4/9)*k3\n",
        "    x1 = x0 + h\n",
        "\n",
        "  return x1,y1\n",
        "\n",
        "\n",
        "f = f2\n",
        "x0 = 0\n",
        "xf = 1\n",
        "y0 = 1000\n",
        "h = 0.1\n",
        "\n",
        "x1,y1 = runge1(f,x0,xf,y0,h)\n",
        "print(\"Runge 1: y(\",x1,\") = \",y1)\n",
        "x1,y1 = runge2(f,x0,xf,y0,h)\n",
        "print(\"Runge 2: y(\",x1,\") = \",y1)\n",
        "x1,y1 = runge3(f,x0,xf,y0,h)\n",
        "print(\"Runge 3: y(\",x1,\") = \",y1)"
      ],
      "execution_count": null,
      "outputs": [
        {
          "output_type": "stream",
          "text": [
            "Runge 1: y( 0.9999999999999999 ) =  1040.72773401891\n",
            "Runge 2: y( 0.9999999999999999 ) =  1040.810663505105\n",
            "Runge 3: y( 0.9999999999999999 ) =  1040.8107740817231\n"
          ],
          "name": "stdout"
        }
      ]
    },
    {
      "cell_type": "markdown",
      "metadata": {
        "id": "T8CjMFGJfjeh"
      },
      "source": [
        "# 3. Resolução de PVCs\n",
        "\n",
        "Um método para a resolução numérica de PVCs é baseado em **diferenças finitas**. Elas são aproximações da **derivada primeira** e podem empregar três pontos:\n",
        "$(x_{i-1}, y_{i-1})$, $(x_{i}, y_{i})$, e $(x_{i+1}, y_{i+1})$. Elas podem ser:\n",
        "\n",
        "* Diferença Avançada:\n",
        "$y'(x_i) \\approx \\frac{y_{i+1} - y_i}{h}$\n",
        "\n",
        "* Diferença Atrasada:\n",
        "$y'(x_i) \\approx \\frac{y_{i} - y_{i-1}}{h}$\n",
        "\n",
        "* Diferença Centrada:\n",
        "$y'(x_i) \\approx \\frac{y_{i+1} - y_{i-1}}{2h}$\n",
        "\n",
        "\n"
      ]
    },
    {
      "cell_type": "markdown",
      "metadata": {
        "id": "4_y68zU04-oa"
      },
      "source": [
        "## 3.1. Derivadas segundas:\n",
        "\n",
        "É possível provar as **diferenças divididas centradas** possuem **menor erro** e podem ser derivadas a partir delas aproximações para a **derivada segunda centrada**:\n",
        "$y''(x_i) \\approx \\frac{y_{i+1} -2y_i + y_{i-1}}{h^2}$\n"
      ]
    },
    {
      "cell_type": "markdown",
      "metadata": {
        "id": "B8QXgkfQjTA7"
      },
      "source": [
        "## 3.2. Exemplo numérico\n",
        "\n",
        "Seja o PVC dado por:\n",
        "\n",
        "$y''(x) + 2y'(x) + y(x) = x$, $y(0) = 0$, e  $y(1) = -1$.\n",
        "\n",
        "Fixando-se **n**, o espaçamento **h** será dado por **1/n**. O intervalo **[a,b]** será dividido em $x_0 = 0$, $x_1 = h$, $x_2 = 2h$, ..., $x_j = jh$, ..., $x_{n-1} = (n-1)h$, e $x_n = 1$. Como $y(0) = y(x_0) = 0$ e $y(1) = y(x_n) = 1$ são dados, então, são incógnitas: $y_1$, $y_2$, ..., $y_{n-1}$.\n",
        "\n",
        "Usa-se a **diferença centrada**:\n",
        "\n",
        "* Para a derivada primeira:\n",
        "$y'(x_i) \\approx \\frac{y_{i+1} - y_{i-1}}{2h}$\n",
        "\n",
        "* Para a derivada segunda:\n",
        "$y''(x_i) \\approx \\frac{y_{i+1} -2y_i + y_{i-1}}{h^2}$\n",
        "\n",
        "Após a aplicação desse equacionamento é obtido o seguinte **sistema linear** $Ax = b$.\n",
        "\n",
        "\n",
        "\n",
        "$A_{n-1,n-1} =\n",
        "   \\begin{bmatrix}\n",
        "   d_{1} &  c_{1} &   0   &  0  & \\cdots &0 & 0 & 0 \\\\\n",
        "   a_{2} &  d_{2} & c_{2} &  0  & \\cdots &0 & 0 & 0 \\\\\n",
        "     0   &  a_{3} & d_{3} &  c_{3}  & \\cdots & 0 & 0 & 0 \\\\\n",
        "   \\vdots  & \\vdots & \\vdots & \\vdots &\\ddots & \\vdots & \\vdots & \\vdots \\\\\n",
        "   0 & 0 & 0 & 0 & \\cdots & a_{n-2} & d_{n-2} & c_{n-2}\n",
        "\\\\\n",
        "   0 & 0 & 0 & 0 & \\cdots & 0 & a_{n-1} & d_{n-1}\n",
        "   \\end{bmatrix}$\n",
        "\n",
        "onde: $d_i = (h^2 - 2)$, $c_i = (1 + h)$, e $a_i = (1 - h)$, $\\forall i = 1,...,n-1$.\n",
        "\n",
        "\n",
        "E $b_{n-1,1} =\n",
        "   \\begin{pmatrix}\n",
        "   h^3     \\\\\n",
        "   2h^3    \\\\\n",
        "   \\vdots  \\\\\n",
        "  (n-2)h^3 \\\\\n",
        "  (n-1)h^3+(h+1)\n",
        "   \\end{pmatrix}$\n",
        "\n",
        "\n",
        "Esse sistema linear é construído e resolvido pelo código dado a seguir.\n",
        "\n",
        "\n"
      ]
    },
    {
      "cell_type": "code",
      "metadata": {
        "colab": {
          "base_uri": "https://localhost:8080/",
          "height": 1000
        },
        "id": "SM1TPstYqfql",
        "outputId": "0586e272-423f-4b70-b1c6-7d8f6c837897"
      },
      "source": [
        "import numpy as np\n",
        "import matplotlib.pylab as plt\n",
        "import scipy.sparse as sps\n",
        "\n",
        "def sistemaTrid(h):\n",
        "\n",
        "  n = int(1/h)\n",
        "  A = np.zeros((n-1,n-1))\n",
        "  b = np.zeros((n-1))\n",
        "\n",
        "  for i in range(0,n-1):\n",
        "    for j in range(0,n-1):\n",
        "      if (i == j):     # di = (h^2-2)\n",
        "        A[i,j] = (h**2 - 2)\n",
        "      if ((j-1) == i): # ci = (1+h)\n",
        "        A[i,j] = (1 + h)\n",
        "      if ((i-1) == j): # ai = (1-h)\n",
        "        A[i,j] = (1 - h)\n",
        "\n",
        "    b[i]   = (i+1)*(h**3)\n",
        "    if (i == (n-2)):\n",
        "      b[i] = b[i] + (h+1)\n",
        "\n",
        "  return A,b\n",
        "\n",
        "# Determinando a precisão da solução.\n",
        "h = 0.01\n",
        "# Construindo o sistema tridiagonal.\n",
        "A,b = sistemaTrid(h)\n",
        "print(\"A = \",A)\n",
        "print(\"b = \",b)\n",
        "# Visualizando a estrutura esparsa da matriz.\n",
        "M = sps.csr_matrix(A)\n",
        "plt.spy(M)\n",
        "plt.show()\n",
        "# Achando a solução do sistema linear.\n",
        "y  = np.linalg.solve(A,b)\n",
        "print(\"y = \",y)\n"
      ],
      "execution_count": null,
      "outputs": [
        {
          "output_type": "stream",
          "text": [
            "A =  [[-1.9999  1.01    0.     ...  0.      0.      0.    ]\n",
            " [ 0.99   -1.9999  1.01   ...  0.      0.      0.    ]\n",
            " [ 0.      0.99   -1.9999 ...  0.      0.      0.    ]\n",
            " ...\n",
            " [ 0.      0.      0.     ... -1.9999  1.01    0.    ]\n",
            " [ 0.      0.      0.     ...  0.99   -1.9999  1.01  ]\n",
            " [ 0.      0.      0.     ...  0.      0.99   -1.9999]]\n",
            "b =  [1.000000e-06 2.000000e-06 3.000000e-06 4.000000e-06 5.000000e-06\n",
            " 6.000000e-06 7.000000e-06 8.000000e-06 9.000000e-06 1.000000e-05\n",
            " 1.100000e-05 1.200000e-05 1.300000e-05 1.400000e-05 1.500000e-05\n",
            " 1.600000e-05 1.700000e-05 1.800000e-05 1.900000e-05 2.000000e-05\n",
            " 2.100000e-05 2.200000e-05 2.300000e-05 2.400000e-05 2.500000e-05\n",
            " 2.600000e-05 2.700000e-05 2.800000e-05 2.900000e-05 3.000000e-05\n",
            " 3.100000e-05 3.200000e-05 3.300000e-05 3.400000e-05 3.500000e-05\n",
            " 3.600000e-05 3.700000e-05 3.800000e-05 3.900000e-05 4.000000e-05\n",
            " 4.100000e-05 4.200000e-05 4.300000e-05 4.400000e-05 4.500000e-05\n",
            " 4.600000e-05 4.700000e-05 4.800000e-05 4.900000e-05 5.000000e-05\n",
            " 5.100000e-05 5.200000e-05 5.300000e-05 5.400000e-05 5.500000e-05\n",
            " 5.600000e-05 5.700000e-05 5.800000e-05 5.900000e-05 6.000000e-05\n",
            " 6.100000e-05 6.200000e-05 6.300000e-05 6.400000e-05 6.500000e-05\n",
            " 6.600000e-05 6.700000e-05 6.800000e-05 6.900000e-05 7.000000e-05\n",
            " 7.100000e-05 7.200000e-05 7.300000e-05 7.400000e-05 7.500000e-05\n",
            " 7.600000e-05 7.700000e-05 7.800000e-05 7.900000e-05 8.000000e-05\n",
            " 8.100000e-05 8.200000e-05 8.300000e-05 8.400000e-05 8.500000e-05\n",
            " 8.600000e-05 8.700000e-05 8.800000e-05 8.900000e-05 9.000000e-05\n",
            " 9.100000e-05 9.200000e-05 9.300000e-05 9.400000e-05 9.500000e-05\n",
            " 9.600000e-05 9.700000e-05 9.800000e-05 1.010099e+00]\n"
          ],
          "name": "stdout"
        },
        {
          "output_type": "display_data",
          "data": {
            "image/png": "[encoded data removed]",
            "text/plain": [
              "<Figure size 432x288 with 1 Axes>"
            ]
          },
          "metadata": {
            "tags": [],
            "needs_background": "light"
          }
        },
        {
          "output_type": "stream",
          "text": [
            "y =  [-0.02970215 -0.0588122  -0.08733801 -0.11528734 -0.14266784 -0.16948708\n",
            " -0.19575252 -0.22147154 -0.24665142 -0.27129937 -0.29542247 -0.31902774\n",
            " -0.34212212 -0.36471244 -0.38680545 -0.40840783 -0.42952616 -0.45016694\n",
            " -0.47033661 -0.49004149 -0.50928786 -0.5280819  -0.54642971 -0.56433732\n",
            " -0.58181069 -0.59885569 -0.61547814 -0.63168375 -0.6474782  -0.66286707\n",
            " -0.67785587 -0.69245006 -0.70665501 -0.72047603 -0.73391838 -0.74698722\n",
            " -0.75968767 -0.77202477 -0.78400351 -0.79562882 -0.80690554 -0.81783847\n",
            " -0.82843235 -0.83869185 -0.84862159 -0.85822613 -0.86750996 -0.87647753\n",
            " -0.88513321 -0.89348135 -0.9015262  -0.909272   -0.9167229  -0.92388302\n",
            " -0.93075642 -0.9373471  -0.94365902 -0.94969608 -0.95546214 -0.96096101\n",
            " -0.96619644 -0.97117213 -0.97589176 -0.98035893 -0.98457721 -0.98855012\n",
            " -0.99228114 -0.99577369 -0.99903116 -1.0020569  -1.0048542  -1.00742633\n",
            " -1.00977648 -1.01190785 -1.01382355 -1.01552668 -1.0170203  -1.0183074\n",
            " -1.01939096 -1.02027393 -1.02095918 -1.02144958 -1.02174794 -1.02185706\n",
            " -1.02177968 -1.0215185  -1.0210762  -1.02045543 -1.01965879 -1.01868884\n",
            " -1.01754814 -1.01623917 -1.01476442 -1.01312632 -1.01132728 -1.00936968\n",
            " -1.00725585 -1.00498811 -1.00256874]\n"
          ],
          "name": "stdout"
        }
      ]
    },
    {
      "cell_type": "markdown",
      "metadata": {
        "id": "HkOlbaTXajg-"
      },
      "source": [
        "# 4. Sistema de Equações diferenciais ordinárias com valores iniciais\n",
        "\n",
        "Seja o sistema de Equações diferenciais ordinárias com valores iniciais cuja forma é dada por:\n",
        "\n",
        "$\\frac{\\partial x}{\\partial t} = f(x,y)$\n",
        "\n",
        "$\\frac{\\partial y}{\\partial t} = g(x,y)$\n",
        "\n",
        "E dados: $x_0$, $y(x_0) = y_0$.\n",
        "\n",
        "\n",
        "\n",
        "\n"
      ]
    },
    {
      "cell_type": "markdown",
      "metadata": {
        "id": "xMlZ-3xC5TPl"
      },
      "source": [
        "## 4.1. Adaptando o método de Euler:\n",
        "\n",
        "O método de Euler pode ser aplicado para resolver o sistema da seguinte forma:\n",
        "\n",
        "$x_{i+1} = x_i + hf(x_i,y_i)$,\n",
        "\n",
        "$y_{i+1} = y_i + hg(x_i,y_i)$."
      ]
    },
    {
      "cell_type": "markdown",
      "metadata": {
        "id": "Pqg9Mz810yf9"
      },
      "source": [
        "## 4.2. Exemplo numérico:\n",
        "\n",
        "O problema presa-predador pode ser formulado da seguinte forma:\n",
        "\n",
        "$\\frac{\\partial x}{\\partial t} = f(x,y)$,\n",
        "\n",
        "$\\frac{\\partial y}{\\partial t} = g(x,y)$,\n",
        "\n",
        "tal que:\n",
        "\n",
        "$f(x,y) = x \\left( \\alpha - \\beta y \\right)$,\n",
        "\n",
        "$g(x,y) = y \\left( \\delta x - \\gamma \\right)$.\n",
        "\n",
        "\n",
        "onde:\n",
        "\n",
        "* Variáveis do problema:\n",
        "\n",
        "> $x$ - quantidade de presas,\n",
        "\n",
        "> $y$ - quantidade de predadores,\n",
        "\n",
        "* Parâmetros do problema:\n",
        "\n",
        "> $\\alpha$ - taxa de crescimento da população de presas (= 1.00),\n",
        "\n",
        "> $\\beta$ - taxa de encontro entre predadores e presas (= 0.10),\n",
        "\n",
        "> $\\delta$ - taxa de crescimento da população de predadores (= 0.075),\n",
        "\n",
        "> $\\gamma$ - taxa de mortalidade da população de predadores (= 1.50).\n",
        "\n",
        "* Dados iniciais:\n",
        "\n",
        "> $x_0 = 10$,\n",
        "\n",
        "> $y_0 = 5$.\n",
        "\n",
        "\n",
        "O código a seguir emprega o **método de Euler** para obter a solução\n",
        "do problema presa-predador. Isto significa a partir do sistema de EDOs\n",
        "e condições iniciais, bem como os parâmetros especificados, obter os\n",
        "valores de quantidade da população de presas ($x_i$) e predadores ($y_i$) ao longo de um horizonte de tempo que vai do instante $t_0 = 0$ até o instante $t_f = 15$.  \n",
        "\n",
        "Os resultados são mostrados em um gráfico com cor vermelha para as presas (coelhos) e predadores (raposas).\n",
        "\n",
        "\n",
        "\n",
        "\n",
        "\n",
        "\n",
        "\n"
      ]
    },
    {
      "cell_type": "code",
      "metadata": {
        "colab": {
          "base_uri": "https://localhost:8080/",
          "height": 279
        },
        "id": "I5YEjoVh4OMs",
        "outputId": "6d30aae8-92c0-4462-f4c8-9c143c69894b"
      },
      "source": [
        "import matplotlib.pyplot as plt\n",
        "\n",
        "# Função para o sistema.\n",
        "def F1(x,y,a,b,c,d):\n",
        "  return x*(a-b*y), y*(c*x-d)\n",
        "\n",
        "# Método de Euler para resolver um sistema.\n",
        "def rungeS1(f,t0,tf,x0,y0,h,a,b,c,d):\n",
        "\n",
        "   x = [x0]\n",
        "   y = [y0]\n",
        "   t = [t0]\n",
        "\n",
        "   fxy, gxy = f(x0,y0,a,b,c,d)\n",
        "   x1 = x0 + h*fxy\n",
        "   y1 = y0 + h*gxy\n",
        "   t1 = t0 + h\n",
        "   x.append(x1)\n",
        "   y.append(y1)\n",
        "   t.append(t1)\n",
        "\n",
        "   n = int((tf-t0)/h)\n",
        "   for i in range(1,n):\n",
        "     x0 = x1\n",
        "     y0 = y1\n",
        "     t0 = t1\n",
        "     fxy, gxy = f(x0,y0,a,b,c,d)\n",
        "     x1 = x0 + h*fxy\n",
        "     y1 = y0 + h*gxy\n",
        "     t1 = t0 + h\n",
        "     x.append(x1)\n",
        "     y.append(y1)\n",
        "     t.append(t1)\n",
        "\n",
        "   return x,y,t\n",
        "\n",
        "# Definição de parâmetros.\n",
        "f = F1\n",
        "t0 = 0\n",
        "tf = 15\n",
        "x0 = 10\n",
        "y0 = 1\n",
        "h = 0.01\n",
        "a = 1.0\n",
        "b = 0.1\n",
        "c = 0.075\n",
        "d = 1.5\n",
        "\n",
        "# Aplicando o método, obtendo e desenhando\n",
        "# a solução.\n",
        "x,y,t = rungeS1(f,t0,tf,x0,y0,h,a,b,c,d)\n",
        "plt.plot(t,x,'r-')\n",
        "plt.plot(t,y,'b-.')\n",
        "plt.legend(['Coelhos', 'Raposas'])\n",
        "plt.xlabel('Tempo')\n",
        "plt.ylabel('População')\n",
        "plt.grid()\n",
        "plt.show()\n"
      ],
      "execution_count": null,
      "outputs": [
        {
          "output_type": "display_data",
          "data": {
            "image/png": "[encoded data removed]",
            "text/plain": [
              "<Figure size 432x288 with 1 Axes>"
            ]
          },
          "metadata": {
            "tags": [],
            "needs_background": "light"
          }
        }
      ]
    }
  ]
}