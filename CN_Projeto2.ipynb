{
  "nbformat": 4,
  "nbformat_minor": 0,
  "metadata": {
    "colab": {
      "provenance": [],
      "include_colab_link": true
    },
    "kernelspec": {
      "name": "python3",
      "display_name": "Python 3"
    }
  },
  "cells": [
    {
      "cell_type": "markdown",
      "metadata": {
        "id": "view-in-github",
        "colab_type": "text"
      },
      "source": [
        "<a href=\"https://colab.research.google.com/github/Felipe-Pinto/python_para_exatas/blob/main/CN_Projeto2.ipynb\" target=\"_parent\"><img src=\"https://colab.research.google.com/assets/colab-badge.svg\" alt=\"Open In Colab\"/></a>"
      ]
    },
    {
      "cell_type": "markdown",
      "metadata": {
        "id": "9G1MUQZV9xW2"
      },
      "source": [
        "# Projeto 2: Comparando o desempenho de métodos numéricos para encontrar raízes de função\n",
        "\n",
        "O projeto 2 tem por objetivo verificar o comportamento dos métodos propostos no módulo 2.\n",
        "\n",
        "Para tanto, será fixada uma precisão $\\epsilon = 0,01$ e número máximo de iterações $maxiter = 20$ e as condições:\n",
        "\n",
        "1. para uma dada função $f(x)$;\n",
        "2. um ponto inicial $x_0$ ou um intervalo inicial $[a,b]$.\n",
        "\n",
        "Para cada método deverá ser fornecido:\n",
        "\n",
        "1. Um gráfico com a função e as sucessivas aproximações ${x^{(k)}}$ para uma raíz $\\xi$ tal que $f(\\xi) = 0$;\n",
        "2. Se convergiu ou não para uma raiz;\n",
        "3. O número de iterações e se parou devido ao máximo de iterações ou atingiu a precisão requerida.\n",
        "\n",
        "Para cada RA haverá um processo aleatório de escolha de:\n",
        "\n",
        "1. Função a ser analisada;\n",
        "2. Ponto inicial;\n",
        "3. Dois métodos a serem empregados.\n",
        "\n",
        "Por último, a vídeo-aula deverá conter também uma comparação do desempenho dos métodos selecionados.\n",
        "\n",
        "O código a seguir determina para cada valor de RA quais são os elementos que deverão estar na sua vídeo-aula explicativa."
      ]
    },
    {
      "cell_type": "code",
      "metadata": {
        "id": "Ns7ER5S-YKj7",
        "outputId": "b13ca13d-f3f7-43ba-c60d-44e6c432faf8",
        "colab": {
          "base_uri": "https://localhost:8080/",
          "height": 121
        }
      },
      "source": [
        "import random\n",
        "\n",
        "# Dicionários com opções de parâmetros para o problema a ser explicado em vídeo.\n",
        "funcao = {0: \"x^3-10*x+3\", 1: \"x^3-20*x+3\", 2: \"x^3-30*x+3\", 3: \"x^3-40*x+3\", 4: \"x^3-50*x+3\", 5: \"x^3-60*x+3\", 6: \"x^3-70*x+3\", 7: \"x^3-80*x+3\", 8: \"x^3-90*x+3\", 9: \"x^3-100*x+3\"}\n",
        "\n",
        "inicio1 = {0: \"[-10.0, 10.0]\", 1: \"[-10.0, 0.0]\", 2: \"[0.0, 10.0]\", 3: \"[-5.0, 5.0]\", 4: \"[-5.0, 0.0]\", 5: \"[0.0, 5.0]\", 6: \"[-2.5, 2.5]\"}\n",
        "\n",
        "inicio2 = {0: \"-10.0\", 1: \"10.0\", 2: \"0.0\", 3: \"-5.0\", 4: \"5.0\", 5: \"-2.5\", 6: \"2.5\"}\n",
        "\n",
        "metod1 = {0: \"Método da Bisecção\", 1: \"Método da Falsa Posição\"}\n",
        "\n",
        "metod2 = {0: \"Método de Newton\", 1: \"Método da Secante\"}\n",
        "\n",
        "texto    = input('Digite o número da matrícula: ')\n",
        "num      = int(texto)\n",
        "\n",
        "random.seed(num)\n",
        "val  = int(random.random()*100)\n",
        "opt1 = val % 10\n",
        "opt2 = val % 7\n",
        "opt3 = val % 2\n",
        "val  = int(random.random()*113)\n",
        "opt4 = val % 2\n",
        "opt5 = val % 7\n",
        "\n",
        "print(\"Função a ser estudada: \",funcao[opt1])\n",
        "print(\"Método 1: \",metod1[opt3])\n",
        "print(\"Ponto inicial: \",inicio1[opt2])\n",
        "print(\"Método 2: \",metod2[opt4])\n",
        "if (opt4 == 0):\n",
        "  print(\"Ponto inicial: \",inicio2[opt5])\n",
        "else:\n",
        "  print(\"Ponto inicial: \",inicio1[opt2])"
      ],
      "execution_count": null,
      "outputs": [
        {
          "output_type": "stream",
          "text": [
            "Digite o número da matrícula: 950219\n",
            "Função a ser estudada:  x^3-30*x+3\n",
            "Método 1:  Método da Bisecção\n",
            "Ponto inicial:  [-5.0, 0.0]\n",
            "Método 2:  Método da Secante\n",
            "Ponto inicial:  [-5.0, 0.0]\n"
          ],
          "name": "stdout"
        }
      ]
    }
  ]
}