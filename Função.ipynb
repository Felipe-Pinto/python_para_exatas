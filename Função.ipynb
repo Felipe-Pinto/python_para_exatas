{
  "nbformat": 4,
  "nbformat_minor": 0,
  "metadata": {
    "colab": {
      "provenance": [],
      "authorship_tag": "ABX9TyNhYUxSzSaopxMcnNYDAeQE",
      "include_colab_link": true
    },
    "kernelspec": {
      "name": "python3",
      "display_name": "Python 3"
    },
    "language_info": {
      "name": "python"
    }
  },
  "cells": [
    {
      "cell_type": "markdown",
      "metadata": {
        "id": "view-in-github",
        "colab_type": "text"
      },
      "source": [
        "<a href=\"https://colab.research.google.com/github/Felipe-Pinto/python_para_exatas/blob/main/Fun%C3%A7%C3%A3o.ipynb\" target=\"_parent\"><img src=\"https://colab.research.google.com/assets/colab-badge.svg\" alt=\"Open In Colab\"/></a>"
      ]
    },
    {
      "cell_type": "code",
      "execution_count": 3,
      "metadata": {
        "id": "Gy2CuWs6TQEe"
      },
      "outputs": [],
      "source": [
        "import numpy as np\n",
        "from scipy.integrate import odeint\n",
        "import matplotlib.pyplot as plt"
      ]
    },
    {
      "cell_type": "markdown",
      "source": [
        "Equações Diferencias com Python \\\n",
        "1) Equações de primeira ordem"
      ],
      "metadata": {
        "id": "TVz9UjRPUIc1"
      }
    },
    {
      "cell_type": "code",
      "source": [
        "# Função que retorna dy/dt\n",
        "def model(y,t):\n",
        "  k=0.3\n",
        "  dydt = -k*y\n",
        "  return dydt\n"
      ],
      "metadata": {
        "id": "TpLsHqiBUDZm"
      },
      "execution_count": 4,
      "outputs": []
    },
    {
      "cell_type": "code",
      "source": [
        "# Condição inicial\n",
        "y0 = 5"
      ],
      "metadata": {
        "id": "rrxsuPYrVPji"
      },
      "execution_count": 5,
      "outputs": []
    },
    {
      "cell_type": "code",
      "source": [
        "# Vetor com instantes de tempo\n",
        "t = np.linspace(0,20,100)"
      ],
      "metadata": {
        "id": "kb78B2-cVdoC"
      },
      "execution_count": 6,
      "outputs": []
    },
    {
      "cell_type": "code",
      "source": [
        "# Resolução da EDO\n",
        "y = odeint(model,y0,t)"
      ],
      "metadata": {
        "id": "1m4QIdV6VuKw"
      },
      "execution_count": 7,
      "outputs": []
    },
    {
      "cell_type": "code",
      "source": [
        "# Gerar o gráfico\n"
      ],
      "metadata": {
        "id": "SZgSuS69WBC2"
      },
      "execution_count": null,
      "outputs": []
    }
  ]
}