{
  "nbformat": 4,
  "nbformat_minor": 0,
  "metadata": {
    "colab": {
      "provenance": [],
      "include_colab_link": true
    },
    "kernelspec": {
      "name": "python3",
      "display_name": "Python 3"
    }
  },
  "cells": [
    {
      "cell_type": "markdown",
      "metadata": {
        "id": "view-in-github",
        "colab_type": "text"
      },
      "source": [
        "<a href=\"https://colab.research.google.com/github/Felipe-Pinto/python_para_exatas/blob/main/CN_Projeto3.ipynb\" target=\"_parent\"><img src=\"https://colab.research.google.com/assets/colab-badge.svg\" alt=\"Open In Colab\"/></a>"
      ]
    },
    {
      "cell_type": "markdown",
      "metadata": {
        "id": "vd4QbsQwN_-6"
      },
      "source": [
        "# Projeto 3: Estimando temperaturas em uma placa\n",
        "\n",
        "O projeto 3 tem por objetivo realizar a estimativa de temperaturas em uma placa através do uso de um método iterativo para sistemas lineares. Dois métodos deverão ser empregados: Gauss-Jacobi e Gauss-Seidel.\n",
        "\n",
        "Para tanto, será fixada uma precisão $\\epsilon = 0,01$ e número máximo de iterações $maxiter = 20$ e as condições:\n",
        "\n",
        "Para cada método deverá ser fornecido:\n",
        "\n",
        "1. A cada iteração fornecer o valor da aproximação das 4 temperaturas a serem estimadas na placa: $T_{11}$, $T_{12}$, $T_{21}$, e $T_{22}$;\n",
        "2. Se convergiu ou não para um dado conjunto de valores de temperatura dados;\n",
        "3. O número de iterações e se parou devido ao máximo de iterações ou atingiu a precisão requerida.\n",
        "\n",
        "Deverão ser utilizados dois RA para a geração de valores a serem substituídos nos valores dados x, y, w, e z na placa de calor. O link a seguir fornece uma figura geral que relaciona os valores dados ($x$, $y$, $w$, $z$) e as variáveis com a placa de calor ($T_{11}$, $T_{12}$, $T_{21}$, e $T_{22}$).\n",
        "\n",
        "https://drive.google.com/file/d/1Rl7Qic-u9ngemfHKEOlZvLQKN-QBhWJb/view?usp=sharing\n",
        "\n",
        "\n",
        "Os valores da temperaturas desconhecidas nos pontos dados podem ser calculadas por:\n",
        "\n",
        "\n",
        "$T_{11} = 1/4(100+25+T_{12}+T_{21})$,\n",
        "\n",
        "$T_{12} = 1/4(T_{11}+25+0+T_{22})$,\n",
        "\n",
        "$T_{21} = 1/4(100+T_{11}+T_{22}+75)$,\n",
        "\n",
        "$T_{22} = 1/4(T_{21}+T_{12}+0+75)$.\n",
        "\n",
        "\n",
        "Para cada RA deverá ser realizado um processo aleatório de escolha dos valores de x, y, w, e z.\n",
        "\n",
        "Uma figura que exemplifica uma placa de calor para os valores: x = 25, y = 75, w = 100, e z = 0.\n",
        "\n",
        "https://drive.google.com/file/d/1G6zwf8ELk236BPT7ZhfaffKSOkXiyl6a/view?usp=sharing\n",
        "\n",
        "Por último, a vídeo-aula deverá conter também uma comparação do desempenho dos métodos selecionados.\n",
        "\n",
        "O código a seguir determina para cada valor de RA quais são os elementos que deverão estar na sua vídeo-aula explicativa."
      ]
    },
    {
      "cell_type": "code",
      "metadata": {
        "id": "sT4EQAwcLa1V",
        "outputId": "0ff82204-2a4f-4ac5-f25d-e6cd0af44ee1",
        "colab": {
          "base_uri": "https://localhost:8080/"
        }
      },
      "source": [
        "import random\n",
        "\n",
        "# Obtendo valores para gerar as opções de parâmetros para o problema a ser explicado em vídeo.\n",
        "texto    = input('Digite o número da matrícula: ')\n",
        "num      = int(texto)\n",
        "\n",
        "random.seed(num)\n",
        "x = int(random.random()*20) + 20\n",
        "y = int(random.random()*80) + 30\n",
        "w = int(random.random()*160) + 80\n",
        "z = int(random.random()*5) + 1\n",
        "\n",
        "\n",
        "print(\" x = \",x)\n",
        "print(\" y = \",y)\n",
        "print(\" w = \",w)\n",
        "print(\" z = \",z)"
      ],
      "execution_count": null,
      "outputs": [
        {
          "output_type": "stream",
          "text": [
            "Digite o número da matrícula: 950219\n",
            " x =  26\n",
            " y =  73\n",
            " w =  90\n",
            " z =  2\n"
          ],
          "name": "stdout"
        }
      ]
    }
  ]
}