{
  "nbformat": 4,
  "nbformat_minor": 0,
  "metadata": {
    "colab": {
      "provenance": [],
      "include_colab_link": true
    },
    "kernelspec": {
      "name": "python3",
      "display_name": "Python 3"
    }
  },
  "cells": [
    {
      "cell_type": "markdown",
      "metadata": {
        "id": "view-in-github",
        "colab_type": "text"
      },
      "source": [
        "<a href=\"https://colab.research.google.com/github/Felipe-Pinto/python_para_exatas/blob/main/CN_Modulo5_N1.ipynb\" target=\"_parent\"><img src=\"https://colab.research.google.com/assets/colab-badge.svg\" alt=\"Open In Colab\"/></a>"
      ]
    },
    {
      "cell_type": "markdown",
      "metadata": {
        "id": "lULVnbTZ0X82"
      },
      "source": [
        "# 1. Interpolação via matriz de Vandermonde\n",
        "\n",
        "O código a seguir ilustra como obter os coeficientes de um polinômio interpolador para um dado conjunto de valores através da resolução do sistema linear com a matriz dos coeficientes A de **Vandermonde**.\n",
        "\n",
        "\n",
        ">$A x = b \\rightarrow\n",
        " \\begin{pmatrix}\n",
        "  1 & x_0 & \\cdots & x_0^n \\\\\n",
        "  1 & x_1 & \\cdots & x_1^n \\\\\n",
        "  \\vdots  & \\vdots & \\ddots & \\vdots  \\\\\n",
        "  1 & x_n & \\cdots & x_n^n\n",
        " \\end{pmatrix}\n",
        " \\begin{pmatrix}\n",
        "  a_0 \\\\\n",
        "  a_1 \\\\\n",
        "  \\vdots   \\\\\n",
        "  a_n\n",
        " \\end{pmatrix}\n",
        " =\n",
        " \\begin{pmatrix}\n",
        "  f(x_0) \\\\\n",
        "  f(x_1) \\\\\n",
        "  \\vdots   \\\\\n",
        "  f(x_n)\n",
        " \\end{pmatrix}\n",
        " $\n",
        "\n",
        " onde: $x_i, \\forall i = 0, 1, ..., n$ são os **n+1 pontos** distintos de **f(x)**.\n",
        "\n",
        "A solução desse sistema com **n+1 equações** e **n+1 variáveis** irá resultar na obtenção dos coeficientes do seguinte polinômio de **grau n**:\n",
        "\n",
        " $p_n(x) = a_0 + a_1x + a_2x^2 + ... + a_nx^n$.\n",
        "\n",
        "\n",
        "> O polinômio $p_n(x)$ é uma aproximação **g(x)** da função **f(x)**."
      ]
    },
    {
      "cell_type": "code",
      "metadata": {
        "id": "NU_4aWfe2dVO",
        "outputId": "9e0633fb-c5a6-43b6-ed69-b01e221527f0",
        "colab": {
          "base_uri": "https://localhost:8080/"
        }
      },
      "source": [
        "import numpy as np\n",
        "\n",
        "def sistemaVander(x,y):\n",
        "  n = len(x)\n",
        "  A = np.empty((n,n))\n",
        "  b = np.empty((n))\n",
        "  for i in range(0,n):\n",
        "    A[i,0] = 1\n",
        "    for j in range(1,n):\n",
        "      A[i,j] = A[i,j-1]*x[i]\n",
        "    b[i]   = y[i]\n",
        "\n",
        "  return A, b\n",
        "\n",
        "# Dados do problema.\n",
        "x  = [-1, 0, 2]\n",
        "y  = [4, 1, -1]\n",
        "A, b = sistemaVander(x,y)\n",
        "x  = np.linalg.solve(A,b)\n",
        "print(A)\n",
        "print(b)\n",
        "print(x)\n",
        "print(\"Polinômio interporlador obtido:\")\n",
        "n = len(x)\n",
        "s = \"\"\n",
        "for i in range(0,n):\n",
        "  if (i < (n-1)):\n",
        "    s = s + (str(x[i])+\"*x^\"+str(i)+\" + \")\n",
        "  else:\n",
        "    s = s + str(x[i])+\"*x^\"+str(i)\n",
        "    print(s)"
      ],
      "execution_count": null,
      "outputs": [
        {
          "output_type": "stream",
          "text": [
            "[[ 1. -1.  1.]\n",
            " [ 1.  0.  0.]\n",
            " [ 1.  2.  4.]]\n",
            "[ 4.  1. -1.]\n",
            "[ 1.         -2.33333333  0.66666667]\n",
            "Polinômio interporlador obtido:\n",
            "0.9999999999999996*x^0 + -2.3333333333333335*x^1 + 0.6666666666666667*x^2\n"
          ],
          "name": "stdout"
        }
      ]
    },
    {
      "cell_type": "markdown",
      "metadata": {
        "id": "85GIk4zG0o9j"
      },
      "source": [
        "# 2. Interpolação via forma de Lagrange\n",
        "\n",
        "Ao invés de obter explicitamente a expressão da função g(x) que interpola f(x) em um conjunto de pontos dados, este programa usa uma forma implícita. Nesse forma implícita basta fornecer o valor xp para se obter o valor g(xp) correspondente.\n",
        "\n",
        "A expressão geral do polinômio de **grau n** na forma de Lagrange é dada por:\n",
        "\n",
        "$p_n(x) = \\displaystyle \\sum_{k=0}^N y_k L_k(x)$\n",
        "\n",
        "onde:\n",
        "\n",
        "$L_k(x) = \\frac{\\displaystyle\\prod_{j=0,j \\neq k}^{n} (x - x_j)}{\\displaystyle\\prod_{j=0,j \\neq k}^{n} (x_k - x_j)}$\n",
        "\n",
        "Por exemplo, sejam os dados fornecidos pela seguinte tabela:\n",
        "\n",
        "\n",
        ">  x | -1  |  0  |  2\n",
        ">--- | --- | --- | ---\n",
        ">f(x)|  4  |  1  | -1\n",
        "\n",
        "\n",
        "Um polinômio de grau 2, na forma de Lagrange, que interpola nos 3 pontos dados será obtido com:\n",
        "\n",
        "\n",
        "$p_2(x) = y_0L_0(x) + y_1L_1(x) + y_2L_2(x)$\n",
        "\n",
        "onde:\n",
        "\n",
        "$L_0(x) = \\frac{(x - x_1) (x - x_2)}{ (x_0 - x_1) (x_0 - x_2)}$,\n",
        "\n",
        "$L_1(x) = \\frac{(x - x_0) (x - x_2)}{ (x_1 - x_0) (x_1 - x_2)}$,\n",
        "\n",
        "$L_2(x) = \\frac{(x - x_0) (x - x_1)}{ (x_2 - x_0) (x_2 - x_1)}$\n",
        "\n"
      ]
    },
    {
      "cell_type": "code",
      "metadata": {
        "id": "gAyD__jam1te",
        "outputId": "fc33f27a-5d08-4769-9f20-fb3483759d6c",
        "colab": {
          "base_uri": "https://localhost:8080/",
          "height": 300
        }
      },
      "source": [
        "import numpy as np\n",
        "import matplotlib.pyplot as plt\n",
        "\n",
        "def interpLagrange(xp,x,y,grau):\n",
        "  # Valor inicial de g(xp).\n",
        "  yp = 0\n",
        "  # Interpolação de Lagrange\n",
        "  for k in range(0,n+1):\n",
        "    p = 1\n",
        "    for j in range(0,n+1):\n",
        "      if k != j:\n",
        "        p = p*(xp - x[j])/(x[k] - x[j])\n",
        "\n",
        "    yp = yp + p * y[k]\n",
        "\n",
        "  return yp\n",
        "\n",
        "# Dados do problema.\n",
        "x = [-1, 0, 2]\n",
        "y = [4, 1, -1]\n",
        "\n",
        "# Ponto da interpolação\n",
        "xp = float(input('Entre com xp: '))\n",
        "# Grau da interpolação.\n",
        "n = 2\n",
        "# Interpolação de Lagrange.\n",
        "yp = interpLagrange(xp,x,y,n)\n",
        "\n",
        "# Valor interpolado encontrado\n",
        "print('g(%.3f) = %.3f' % (xp, yp))\n",
        "\n",
        "t  = np.arange(-1.0, 2.0, 0.1)\n",
        "yt = []\n",
        "for i in t:\n",
        "  yt.append(interpLagrange(i,x,y,n))\n",
        "plt.plot(t,yt,'b-')\n",
        "plt.plot(x,y,'ro')\n",
        "plt.plot(xp,yp,'g*')\n",
        "plt.show()"
      ],
      "execution_count": null,
      "outputs": [
        {
          "output_type": "stream",
          "text": [
            "Entre com xp: 0.5\n",
            "g(0.500) = 0.000\n"
          ],
          "name": "stdout"
        },
        {
          "output_type": "display_data",
          "data": {
            "image/png": "[encoded data removed]",
            "text/plain": [
              "<Figure size 432x288 with 1 Axes>"
            ]
          },
          "metadata": {
            "tags": [],
            "needs_background": "light"
          }
        }
      ]
    },
    {
      "cell_type": "markdown",
      "metadata": {
        "id": "fFUnnOtbWthb"
      },
      "source": [
        "# 3. Interpolação forma de Newton\n",
        "\n",
        "O programa a seguir fornece o cálculo da interpolação através do cálculo de diferenças divididas e o uso do produto de variáveis para cálculo dos sucessivos coeficientes do polinômio para avaliação em um dado **xp**.\n",
        "\n",
        "\n",
        "As diferenças divididas podem ser encontradas obtendo-se a seguinte tabela:\n",
        "\n",
        "\n",
        "Por exemplo, a partir de 3 coordenadas $(x,f(x))$ é possível construir a seguinte tabela:\n",
        "\n",
        "\n",
        ">  x  | Ordem 0 (f(x))|  ------------------Ordem 1-------------------   |  --------------------Ordem 2-----------------------\n",
        ">---  | ---            | ---    | ---\n",
        ">  -1 |  $f[x_0] = 4$  |$f[x_0,x_1]=(f[x_1]-f[x_0])/(x_1-x_0) = (1-4)/(0+1) = -3$        |  \n",
        ">   0 |  $f[x_1] = 1$  |  | $f[x_0, x_1, x_2] =\n",
        "(f[x_1, x_2]-f[x_0, x_1])/(x_2-x_0)=\n",
        "(-1+3)/(2+1) = 2/3$\n",
        ">   2 |  $f[x_2]-1$    | $f[x_1,x_2]=(f[x_2]-f[x_1])/(x_2-x_1) = (-1-1)/(2-0) = -1$       |\n",
        "\n",
        "\n",
        "O segundo passo é calcular a expressão $p_n(x)$ através das diferenças divididas dada por:\n",
        "\n",
        "$p_n(x) = f(x_0) + (x - x_0) f[x_0,x_1] + (x - x_0)(x - x_1)f[x_0,x_1,x_2] + ...+ (x - x_0)(x - x_1)...(x - x_{n-1}) f[x_0,x_1,...,x_n]$.\n",
        "\n",
        "Para o exemplo dado:\n",
        "\n",
        "$p_2(x) = 4 + (x - (-1)) (-3) + (x - (-1))(x - (0))(2/3) = 1 - 7/3x + 2/3x^2$\n",
        "\n",
        "\n",
        "\n",
        "\n"
      ]
    },
    {
      "cell_type": "code",
      "metadata": {
        "id": "SrbjXYjwXCzK",
        "outputId": "3e468fc3-59f8-4c2b-9a7a-5a5f5cda2db0",
        "colab": {
          "base_uri": "https://localhost:8080/"
        }
      },
      "source": [
        "import pandas as pd\n",
        "import numpy as np\n",
        "import matplotlib.pyplot as plt\n",
        "\n",
        "def interpNewton(x, y, xi):\n",
        "  #Número de dados\n",
        "  n = len(x)\n",
        "  #Inicialização da diferença dividida: n x n\n",
        "  fdd = [[None for x in range(n)] for x in range(n)]\n",
        "  #Valores da função f(X) em vários pontos\n",
        "  yint = [None for x in range(n)]\n",
        "\n",
        "  #Encontrando diferenças divididas.\n",
        "  for i in range(n):\n",
        "    fdd[i][0] = y[i]\n",
        "  for j in range(1,n):\n",
        "    for i in range(n-j):\n",
        "      fdd[i][j] = (fdd[i+1][j-1] - fdd[i][j-1])/(x[i+j]-x[i])\n",
        "\n",
        "  # Imprimindo diferenças divididas.\n",
        "  fdd_table = pd.DataFrame(fdd)\n",
        "  print(fdd_table)\n",
        "\n",
        "  #Interpolação para xi.\n",
        "  xterm = 1\n",
        "  yint = fdd[0][0]\n",
        "  for order in range(1, n):\n",
        "    xterm = xterm * (xi - x[order-1])\n",
        "    yint = yint + fdd[0][order]*xterm\n",
        "\n",
        "  #Retornando g(xi).\n",
        "  return yint\n",
        "\n",
        "\n",
        "x  = [-1, 0, 2]\n",
        "y  = [4, 1, -1]\n",
        "xp = 0.5\n",
        "yp = interpNewton(x, y, xp)\n",
        "\n",
        "# Valor interpolado encontrado\n",
        "print('g(%.3f) = %.3f' % (xp, yp))"
      ],
      "execution_count": null,
      "outputs": [
        {
          "output_type": "stream",
          "text": [
            "   0    1         2\n",
            "0  4 -3.0  0.666667\n",
            "1  1 -1.0       NaN\n",
            "2 -1  NaN       NaN\n",
            "g(0.500) = 0.000\n"
          ],
          "name": "stdout"
        }
      ]
    },
    {
      "cell_type": "code",
      "metadata": {
        "id": "hMzpkh51nDjw",
        "outputId": "8e7498ae-b532-4d7c-d11e-3fe22db02682",
        "colab": {
          "base_uri": "https://localhost:8080/",
          "height": 282
        }
      },
      "source": [
        "import pandas as pd\n",
        "import numpy as np\n",
        "import matplotlib.pyplot as plt\n",
        "\n",
        "def interpNewton(x, y, xi):\n",
        "  #Número de dados\n",
        "  n = len(x)\n",
        "  #Inicialização da diferença dividida: n x n\n",
        "  fdd = [[None for x in range(n)] for x in range(n)]\n",
        "  #Valores da função f(X) em vários pontos\n",
        "  yint = [None for x in range(n)]\n",
        "\n",
        "  #Encontrando diferenças divididas.\n",
        "  for i in range(n):\n",
        "    fdd[i][0] = y[i]\n",
        "  for j in range(1,n):\n",
        "    for i in range(n-j):\n",
        "      fdd[i][j] = (fdd[i+1][j-1] - fdd[i][j-1])/(x[i+j]-x[i])\n",
        "\n",
        "  # Imprimindo diferenças divididas.\n",
        "  fdd_table = pd.DataFrame(fdd)\n",
        "  #print(fdd_table)\n",
        "\n",
        "  #Interpolação para xi.\n",
        "  xterm = 1\n",
        "  yint = fdd[0][0]\n",
        "  for order in range(1, n):\n",
        "    xterm = xterm * (xi - x[order-1])\n",
        "    yint = yint + fdd[0][order]*xterm\n",
        "\n",
        "  #Retornando g(xi).\n",
        "  return yint\n",
        "\n",
        "\n",
        "x  = [-1, 0, 2]\n",
        "y  = [4, 1, -1]\n",
        "xp = 0.5\n",
        "yp = interpNewton(x, y, xp)\n",
        "\n",
        "# Valor interpolado encontrado\n",
        "print('g(%.3f) = %.3f' % (xp, yp))\n",
        "\n",
        "t  = np.arange(-1.0, 2.0, 0.1)\n",
        "yt = []\n",
        "for i in t:\n",
        "  yt.append(interpNewton(x, y, i))\n",
        "plt.plot(t,yt,'b-')\n",
        "plt.plot(x,y,'ro')\n",
        "plt.plot(xp,yp,'g*')\n",
        "plt.grid()\n",
        "plt.show()"
      ],
      "execution_count": null,
      "outputs": [
        {
          "output_type": "stream",
          "text": [
            "g(0.500) = 0.000\n"
          ],
          "name": "stdout"
        },
        {
          "output_type": "display_data",
          "data": {
            "image/png": "[encoded data removed]",
            "text/plain": [
              "<Figure size 432x288 with 1 Axes>"
            ]
          },
          "metadata": {
            "tags": [],
            "needs_background": "light"
          }
        }
      ]
    },
    {
      "cell_type": "markdown",
      "metadata": {
        "id": "Z5xgJQRNn8Qy"
      },
      "source": [
        "# 4. Grau do polinômio: usando diferenças divididas\n",
        "\n",
        "A partir da tabela de diferenças divididas é possível estabelecer qual deve ser o grau do polinômio interpolador. O código a seguir fornece um exemplo numérico do impacto da escolha de diferentes polinômios interpoladores.\n",
        "\n"
      ]
    },
    {
      "cell_type": "code",
      "metadata": {
        "id": "Kgfyjgn6oc1o",
        "outputId": "a2f6d26c-b9dc-4c3d-c6ae-eb9b50603a11",
        "colab": {
          "base_uri": "https://localhost:8080/"
        }
      },
      "source": [
        "import pandas as pd\n",
        "import numpy as np\n",
        "import matplotlib.pyplot as plt\n",
        "\n",
        "def interpNewton(x, y, xi):\n",
        "  #Número de dados\n",
        "  n = len(x)\n",
        "  #Inicialização da diferença dividida: n x n\n",
        "  fdd = [[None for x in range(n)] for x in range(n)]\n",
        "  #Valores da função f(X) em vários pontos\n",
        "  yint = [None for x in range(n)]\n",
        "\n",
        "  #Encontrando diferenças divididas.\n",
        "  for i in range(n):\n",
        "    fdd[i][0] = y[i]\n",
        "  for j in range(1,n):\n",
        "    for i in range(n-j):\n",
        "      fdd[i][j] = (fdd[i+1][j-1] - fdd[i][j-1])/(x[i+j]-x[i])\n",
        "\n",
        "  # Imprimindo diferenças divididas.\n",
        "  fdd_table = pd.DataFrame(fdd)\n",
        "  print(fdd_table)\n",
        "\n",
        "  #Interpolação para xi.\n",
        "  xterm = 1\n",
        "  yint = fdd[0][0]\n",
        "  for order in range(1, n):\n",
        "    xterm = xterm * (xi - x[order-1])\n",
        "    yint = yint + fdd[0][order]*xterm\n",
        "\n",
        "  #Retornando g(xi).\n",
        "  return yint\n",
        "\n",
        "\n",
        "x  = [1, 1.01, 1.02]\n",
        "y  = [1, 1.005, 1.01]\n",
        "xp = 1.015\n",
        "yp = interpNewton(x, y, xp)\n",
        "\n",
        "# Valor interpolado encontrado\n",
        "print('g(%.3f) = %.3f' % (xp, yp))"
      ],
      "execution_count": null,
      "outputs": [
        {
          "output_type": "stream",
          "text": [
            "       0    1             2\n",
            "0  1.000  0.5  1.110223e-12\n",
            "1  1.005  0.5           NaN\n",
            "2  1.010  NaN           NaN\n",
            "g(1.015) = 1.007\n"
          ],
          "name": "stdout"
        }
      ]
    },
    {
      "cell_type": "code",
      "metadata": {
        "id": "IRsEQ8g1p7Jz",
        "outputId": "14bb4703-939b-48b5-a604-3d85de822e05",
        "colab": {
          "base_uri": "https://localhost:8080/",
          "height": 282
        }
      },
      "source": [
        "import pandas as pd\n",
        "import numpy as np\n",
        "import matplotlib.pyplot as plt\n",
        "\n",
        "def interpNewton(x, y, xi, grau):\n",
        "  #Número de dados\n",
        "  n = len(x)\n",
        "  #Inicialização da diferença dividida: n x n\n",
        "  fdd = [[None for x in range(n)] for x in range(n)]\n",
        "  #Valores da função f(X) em vários pontos\n",
        "  yint = [None for x in range(n)]\n",
        "\n",
        "  #Encontrando diferenças divididas.\n",
        "  for i in range(n):\n",
        "    fdd[i][0] = y[i]\n",
        "  for j in range(1,n):\n",
        "    for i in range(n-j):\n",
        "      fdd[i][j] = (fdd[i+1][j-1] - fdd[i][j-1])/(x[i+j]-x[i])\n",
        "\n",
        "  # Imprimindo diferenças divididas.\n",
        "  fdd_table = pd.DataFrame(fdd)\n",
        "  #print(fdd_table)\n",
        "\n",
        "  #Interpolação para xi.\n",
        "  xterm = 1\n",
        "  yint = fdd[0][0]\n",
        "  for order in range(1, grau+1):\n",
        "    xterm = xterm * (xi - x[order-1])\n",
        "    yint = yint + fdd[0][order]*xterm\n",
        "\n",
        "  #Retornando g(xi).\n",
        "  return yint\n",
        "\n",
        "\n",
        "x  = [1, 1.01, 1.02]\n",
        "y  = [1, 1.005, 1.01]\n",
        "xp = 1.015\n",
        "grau = 1\n",
        "yp = interpNewton(x, y, xp, grau)\n",
        "\n",
        "# Valor interpolado encontrado\n",
        "print('g(%.3f) = %.3f' % (xp, yp))\n",
        "\n",
        "t  = np.arange(0.98, 1.04, 0.001)\n",
        "yt = []\n",
        "for i in t:\n",
        "  yt.append(interpNewton(x, y, i, grau))\n",
        "plt.plot(t,yt,'b-')\n",
        "plt.plot(x,y,'ro')\n",
        "plt.plot(xp,yp,'g*')\n",
        "plt.grid()\n",
        "plt.show()"
      ],
      "execution_count": null,
      "outputs": [
        {
          "output_type": "stream",
          "text": [
            "g(1.015) = 1.007\n"
          ],
          "name": "stdout"
        },
        {
          "output_type": "display_data",
          "data": {
            "image/png": "[encoded data removed]",
            "text/plain": [
              "<Figure size 432x288 with 1 Axes>"
            ]
          },
          "metadata": {
            "tags": [],
            "needs_background": "light"
          }
        }
      ]
    },
    {
      "cell_type": "markdown",
      "metadata": {
        "id": "8fchjW6oZLY8"
      },
      "source": [
        "# 5. Fenômeno de Runge\n",
        "\n",
        "Seja a função $f(x) = \\frac{1}{1+25x^2}$ no intervalo [-1, 1] nos pontos $x_i = -1 + \\frac{2i}{n}, i = 0, 1, ..., n$.\n",
        "\n",
        "\n",
        "Mostra-se que $|E_n(x)| = |f(x) - p_n(x)|$ se torna arbitrariamente grande em pontos do intervalo $[-5, 5]$, se $n$ é suficientemente grande. Esse é o fenômeno de Runge.\n",
        "\n",
        "Dentre as alternativas para lidar com esse problema estão:\n",
        "\n",
        "1. Trocar a aproximação em pontos igualmente espaçados por aproximação em nós de Chebyshev para redução do erro;\n",
        "\n",
        "2. Usar funções spline.\n",
        "\n",
        "O código a seguir mostra um gráfico da curva $f(x)$, o polinômio de grau $n = 10$ que interpola $f(x)$ em $x_i, i = 0, ..., 10$ e o polinômio de Chebyshev que a interpola nos pontos $\\overline{x_i} = cos(\\frac{2i+1}{n+1}\\frac{\\pi}{2})$.\n",
        ""
      ]
    },
    {
      "cell_type": "code",
      "metadata": {
        "id": "p-8KcwOvZRQJ",
        "outputId": "e031b5b8-2995-48ef-c438-c45cda00e12e",
        "colab": {
          "base_uri": "https://localhost:8080/",
          "height": 294
        }
      },
      "source": [
        "import pandas as pd\n",
        "import numpy as np\n",
        "import matplotlib.pyplot as plt\n",
        "\n",
        "def interpNewton(x, y, xi, grau):\n",
        "  #Número de dados\n",
        "  n = len(x)\n",
        "  #Inicialização da diferença dividida: n x n\n",
        "  fdd = [[None for x in range(n)] for x in range(n)]\n",
        "  #Valores da função f(X) em vários pontos\n",
        "  yint = [None for x in range(n)]\n",
        "\n",
        "  #Encontrando diferenças divididas.\n",
        "  for i in range(n):\n",
        "    fdd[i][0] = y[i]\n",
        "  for j in range(1,n):\n",
        "    for i in range(n-j):\n",
        "      fdd[i][j] = (fdd[i+1][j-1] - fdd[i][j-1])/(x[i+j]-x[i])\n",
        "\n",
        "  # Imprimindo diferenças divididas.\n",
        "  fdd_table = pd.DataFrame(fdd)\n",
        "  #print(fdd_table)\n",
        "\n",
        "  #Interpolação para xi.\n",
        "  xterm = 1\n",
        "  yint = fdd[0][0]\n",
        "  for order in range(1, grau+1):\n",
        "    xterm = xterm * (xi - x[order-1])\n",
        "    yint = yint + fdd[0][order]*xterm\n",
        "\n",
        "  #Retornando g(xi).\n",
        "  return yint\n",
        "\n",
        "\n",
        "# Função: f(x) = 1/(1 + 25x^2).\n",
        "def runge(x):\n",
        "  return 1 / (1 + 25 * x ** 2)\n",
        "\n",
        "# Nós de Chebyshev.\n",
        "def cheby_nodes(x0, x1, n):\n",
        "  return (x1 - x0)*(np.cos((2*np.arange(1, n + 1) - 1)/(2*n)*np.pi) + 1)/2  + x0\n",
        "\n",
        "\n",
        "x0 = -1\n",
        "x1 = 1\n",
        "x  = np.linspace(x0, x1, 500)\n",
        "t1 = np.linspace(x0, x1, 11)\n",
        "t2 = cheby_nodes(x0, x1, 11)\n",
        "\n",
        "fig, axs = plt.subplots(3)\n",
        "fig.suptitle('Gráficos do fenômeno de Runge')\n",
        "\n",
        "# Só os pontos.\n",
        "axs[0].plot(x,runge(x),'y-')\n",
        "axs[0].plot(t1,runge(t1),'bo',label = 'Igual')\n",
        "axs[0].plot(t2,runge(t2),'ro',label = 'Cheby')\n",
        "axs[0].legend()\n",
        "\n",
        "# Pontos e interpolação igualmente espaçado.\n",
        "axs[1].plot(x,runge(x),'y-')\n",
        "axs[1].plot(t1,runge(t1),'bo',label = 'Igual')\n",
        "axs[1].plot(t2,runge(t2),'ro',label = 'Cheby')\n",
        "yt1 = []\n",
        "for i in x:\n",
        "  yt1.append(interpNewton(t1, runge(t1), i, 10))\n",
        "axs[1].plot(x,yt1,'g-',label='Igualmente')\n",
        "axs[1].legend()\n",
        "\n",
        "# Pontos e interpolação com pontos de Chebyshev.\n",
        "axs[2].plot(x,runge(x),'y-')\n",
        "axs[2].plot(t1,runge(t1),'bo',label = 'Igual')\n",
        "axs[2].plot(t2,runge(t2),'ro',label = 'Cheby')\n",
        "yt2 = []\n",
        "for i in x:\n",
        "  yt2.append(interpNewton(t2, runge(t2), i, 10))\n",
        "axs[2].plot(x,yt2,'m-',label='Chebyshev')\n",
        "axs[2].legend()\n",
        "\n",
        "plt.show()"
      ],
      "execution_count": null,
      "outputs": [
        {
          "output_type": "display_data",
          "data": {
            "image/png": "[encoded data removed]",
            "text/plain": [
              "<Figure size 432x288 with 3 Axes>"
            ]
          },
          "metadata": {
            "tags": [],
            "needs_background": "light"
          }
        }
      ]
    },
    {
      "cell_type": "markdown",
      "metadata": {
        "id": "hAGDLFB63P43"
      },
      "source": [
        "# 6. Splines\n",
        "\n",
        "Considere a função f(x) tabelada nos pontos $x_0$ < $x_1$ < .... < $x_n$. Uma função $S_p(x)$ é denominada spline de grau p com nós nos pontos $x_i$, $i = 1, 2, ..., n$ se satisfaz as seguintes condições:\n",
        "\n",
        "1. Em cada subintervalo $[x_i, x_{i+1}]$, $i = 0, 1, ..., (n-1)$, $S_p(x)$ é um polinômio de grau p: $S_p(x)$;\n",
        "\n",
        "2. $S_p(x)$ é contínua e tem derivada contínua até ordem $(p - 1)$ em $[a, b]$;\n",
        "\n",
        "3. Se $S_p(xi) = f(x_i)$, $i = 0, 1, ..., n$, então será denominada Spline interpolante.\n",
        "\n",
        "\n",
        "\n"
      ]
    },
    {
      "cell_type": "markdown",
      "metadata": {
        "id": "lnI9gwKeRuck"
      },
      "source": [
        "## 6.1. Spline linear interpolante\n",
        "\n",
        "A função Spline linear interpolante de $f(x)$, $S_1(x)$, nos nós $x_0$, $x_1$, ..., $x_n$, pode ser escrita em cada subintervalo $[x_{i-1}, x_i]$, $i = 1, 2, ..., n$ como:\n",
        "\n",
        "$s_i = f(x_{i-1}) \\frac{x_i - x}{x_i - x_{i-1}} + f(x_{i}) \\frac{x - x_{i-1}}{x_i - x_{i-1}}, \\forall x \\in [x_{i-1},x_i]$.\n",
        "\n",
        "\n",
        "> As seguintes propriedades são atendidas:\n",
        "\n",
        "> 1. $S_1(x)$ é polinômio de grau 1 em cada subintervalo $[x_{i-1}, x_i]$;\n",
        "\n",
        "> 2. $S_1(x)$ é contínua em $(x_{i-1}, x_i)$, pois $s_i(x_i) = s_{i+1}(x_i) = f(x_i)$;\n",
        "\n",
        "> 3. Como $f(x_i) = S_1(x)$ é Spline linear interpolante de $f(x)$.\n",
        "\n",
        "\n",
        "\n"
      ]
    },
    {
      "cell_type": "code",
      "metadata": {
        "id": "TfuX1j88SMmu",
        "outputId": "826b432c-887c-4904-bc77-1d610dc0cbde",
        "colab": {
          "base_uri": "https://localhost:8080/",
          "height": 265
        }
      },
      "source": [
        "import matplotlib.pyplot as plt\n",
        "import numpy as np\n",
        "\n",
        "def splineLinear(xi,xiant,fxi,fxiant,x):\n",
        "  si = (fxiant*(xi-x))/(xi-xiant) + (fxi*(x-xiant))/(xi-xiant)\n",
        "  return si\n",
        "\n",
        "def SLM(xi,xiant,fxi,fxiant,t):\n",
        "  yt = []\n",
        "  for i in t:\n",
        "    yt.append(splineLinear(xi,xiant,fxi,fxiant,i))\n",
        "  return yt\n",
        "\n",
        "\n",
        "# Dados\n",
        "x  = [1, 2, 5, 7]\n",
        "fx = [1, 2, 3, 2.5]\n",
        "\n",
        "t1  = np.linspace(1, 2, 10)\n",
        "s1 = SLM(x[1],x[0],fx[1],fx[0],t1)\n",
        "\n",
        "t2  = np.linspace(2, 5, 10)\n",
        "s2 = SLM(x[2],x[1],fx[2],fx[1],t2)\n",
        "\n",
        "t3  = np.linspace(5, 7, 10)\n",
        "s3 = SLM(x[3],x[2],fx[3],fx[2],t3)\n",
        "\n",
        "plt.plot(t1,s1,'b-')\n",
        "plt.plot(t2,s2,'r-')\n",
        "plt.plot(t3,s3,'g-')\n",
        "plt.grid()\n",
        "plt.show()"
      ],
      "execution_count": null,
      "outputs": [
        {
          "output_type": "display_data",
          "data": {
            "image/png": "[encoded data removed]",
            "text/plain": [
              "<Figure size 432x288 with 1 Axes>"
            ]
          },
          "metadata": {
            "tags": [],
            "needs_background": "light"
          }
        }
      ]
    },
    {
      "cell_type": "markdown",
      "metadata": {
        "id": "XMi3NStZryIk"
      },
      "source": [
        "## 6.2. Spline cúbica interpolante\n",
        "\n",
        "A spline linear apresenta a desvantagem de ter derivada primeira descontínua nos nós. Uma spline quadrática terá derivadas contínuas até ordem 1 e a sua curvatura pode trocar nos nós. Por esse motivo as splines cúbicas são mais usadas, pois tem derivada primeira e segunda contínuas.\n",
        "\n",
        "A função Spline cúbica interpolante de $f(x)$, $S_3(x)$, nos nós $x_0, x_1, ..., x_n$, é escrita em cada subintervalo $[x_{k-1}, x_k], k = 1, 2, ..., n$ com n polinômios $s_k$ de grau 3 tais que:\n",
        "\n",
        "\n",
        "1. $S_3(x) = s_k(x)$ para $x \\in [x_{k-1}, x_{k}], k = 1, ..., n$;\n",
        "\n",
        "2. $S_3(x_i) = f(x_i), i = 0, 1, ..., n$;\n",
        "\n",
        "3. $s_k(x_k) = s_{k+1}(x_k), k = 1, 2, ..., (n - 1)$;\n",
        "\n",
        "4. $s’_k(x_k) = s’_{k+1}(x_k), k = 1, 2, ..., (n - 1)$;\n",
        "\n",
        "5. $s’’_k(x_k) = s’’_{k+1}(x_k), k = 1, 2, ..., (n - 1)$.\n"
      ]
    },
    {
      "cell_type": "code",
      "metadata": {
        "id": "Fm1L2p56r3YF",
        "outputId": "4a982978-70a5-48c7-cbdf-11e9bee4ea5f",
        "colab": {
          "base_uri": "https://localhost:8080/",
          "height": 308
        }
      },
      "source": [
        "from scipy.interpolate import interp1d\n",
        "import matplotlib.pyplot as plt\n",
        "import numpy as np\n",
        "\n",
        "x = np.linspace(0, 10, num=11, endpoint=True)\n",
        "y = np.cos(-x**2/9.0)\n",
        "f1 = interp1d(x, y, kind='linear')\n",
        "f2 = interp1d(x, y, kind='quadratic')\n",
        "f3 = interp1d(x, y, kind='cubic')\n",
        "\n",
        "\n",
        "fig, axs = plt.subplots(5)\n",
        "fig.suptitle('Gráficos de Splines')\n",
        "\n",
        "xnew = np.arange(0, 10, 0.01)\n",
        "\n",
        "# Só os pontos.\n",
        "axs[0].plot(x, y, 'go')\n",
        "\n",
        "# Pontos e spline linear.\n",
        "axs[1].plot(x, y, 'go', xnew, f1(xnew), 'r-')\n",
        "\n",
        "# Pontos e spline quadrática.\n",
        "axs[2].plot(x, y, 'go', xnew, f2(xnew),'m--')\n",
        "\n",
        "# Pontos e spline cúbica.\n",
        "axs[3].plot(x, y, 'go', xnew, f3(xnew), 'b-.')\n",
        "\n",
        "# Todos os gráficos\n",
        "axs[4].plot(x, y, 'go', xnew, f1(xnew), 'r-', xnew, f2(xnew), 'm--', xnew, f3(xnew), 'b-.')\n",
        "axs[4].legend(['data', 'linear', 'quadrática', 'cúbica'], loc='best')\n",
        "plt.show()"
      ],
      "execution_count": null,
      "outputs": [
        {
          "output_type": "display_data",
          "data": {
            "image/png": "[encoded data removed]",
            "text/plain": [
              "<Figure size 432x288 with 5 Axes>"
            ]
          },
          "metadata": {
            "tags": [],
            "needs_background": "light"
          }
        }
      ]
    }
  ]
}