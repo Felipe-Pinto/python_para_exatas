{
  "nbformat": 4,
  "nbformat_minor": 0,
  "metadata": {
    "colab": {
      "provenance": [],
      "authorship_tag": "ABX9TyMcpofaM5TvCefUYZJ8dFGL",
      "include_colab_link": true
    },
    "kernelspec": {
      "name": "python3",
      "display_name": "Python 3"
    },
    "language_info": {
      "name": "python"
    }
  },
  "cells": [
    {
      "cell_type": "markdown",
      "metadata": {
        "id": "view-in-github",
        "colab_type": "text"
      },
      "source": [
        "<a href=\"https://colab.research.google.com/github/Felipe-Pinto/python_para_exatas/blob/main/C%C3%A1lculo%20com%20Sympy.ipynb\" target=\"_parent\"><img src=\"https://colab.research.google.com/assets/colab-badge.svg\" alt=\"Open In Colab\"/></a>"
      ]
    },
    {
      "cell_type": "code",
      "execution_count": 53,
      "metadata": {
        "id": "umnArAsh7crp"
      },
      "outputs": [],
      "source": [
        "from sympy import *\n",
        "import numpy as np\n",
        "import matplotlib.pyplot as plt"
      ]
    },
    {
      "cell_type": "code",
      "source": [
        "init_printing(pretty_print = True)"
      ],
      "metadata": {
        "id": "Fw4WBjff7yhL"
      },
      "execution_count": 2,
      "outputs": []
    },
    {
      "cell_type": "code",
      "source": [
        "x = Symbol('x')\n",
        "y = Function('F')"
      ],
      "metadata": {
        "id": "_BFELdbQ8IOe"
      },
      "execution_count": 3,
      "outputs": []
    },
    {
      "cell_type": "code",
      "source": [
        "x**2+sin(x)"
      ],
      "metadata": {
        "colab": {
          "base_uri": "https://localhost:8080/",
          "height": 39
        },
        "id": "JdS1XCjx_PgD",
        "outputId": "3a8e7156-ab48-4986-e4fa-dbfb70608b0a"
      },
      "execution_count": 4,
      "outputs": [
        {
          "output_type": "execute_result",
          "data": {
            "text/plain": [
              " 2         \n",
              "x  + sin(x)"
            ],
            "text/latex": "$\\displaystyle x^{2} + \\sin{\\left(x \\right)}$"
          },
          "metadata": {},
          "execution_count": 4
        }
      ]
    },
    {
      "cell_type": "code",
      "source": [
        "Eq1=x**2+sin(x)"
      ],
      "metadata": {
        "id": "e_dQrkTF_bVS"
      },
      "execution_count": 5,
      "outputs": []
    },
    {
      "cell_type": "code",
      "source": [
        "(Eq1).diff(x)"
      ],
      "metadata": {
        "colab": {
          "base_uri": "https://localhost:8080/",
          "height": 39
        },
        "id": "DbZ1Mk0O_iEQ",
        "outputId": "8ea20954-d8cd-4de3-ad6b-bc340b0e265d"
      },
      "execution_count": 6,
      "outputs": [
        {
          "output_type": "execute_result",
          "data": {
            "text/plain": [
              "2⋅x + cos(x)"
            ],
            "text/latex": "$\\displaystyle 2 x + \\cos{\\left(x \\right)}$"
          },
          "metadata": {},
          "execution_count": 6
        }
      ]
    },
    {
      "cell_type": "code",
      "source": [
        "(Eq1).diff(x,2)"
      ],
      "metadata": {
        "colab": {
          "base_uri": "https://localhost:8080/",
          "height": 39
        },
        "id": "Zr5-y1iD_vRO",
        "outputId": "2c6f0a63-dd4e-4220-837c-58886bafa06c"
      },
      "execution_count": 7,
      "outputs": [
        {
          "output_type": "execute_result",
          "data": {
            "text/plain": [
              "2 - sin(x)"
            ],
            "text/latex": "$\\displaystyle 2 - \\sin{\\left(x \\right)}$"
          },
          "metadata": {},
          "execution_count": 7
        }
      ]
    },
    {
      "cell_type": "code",
      "source": [
        "Derivative(Eq1)   #Para visualizar"
      ],
      "metadata": {
        "colab": {
          "base_uri": "https://localhost:8080/",
          "height": 52
        },
        "id": "FQhStZRw_23x",
        "outputId": "5009aea0-6357-4df4-ba46-16c97a7e21d9"
      },
      "execution_count": 8,
      "outputs": [
        {
          "output_type": "execute_result",
          "data": {
            "text/plain": [
              "d ⎛ 2         ⎞\n",
              "──⎝x  + sin(x)⎠\n",
              "dx             "
            ],
            "text/latex": "$\\displaystyle \\frac{d}{d x} \\left(x^{2} + \\sin{\\left(x \\right)}\\right)$"
          },
          "metadata": {},
          "execution_count": 8
        }
      ]
    },
    {
      "cell_type": "code",
      "source": [
        "Derivative(Eq1).doit()  #Para resolver"
      ],
      "metadata": {
        "colab": {
          "base_uri": "https://localhost:8080/",
          "height": 39
        },
        "id": "rSbsktIdAI7s",
        "outputId": "e65038bc-bbdc-4ac3-b46d-77c35d4120c4"
      },
      "execution_count": 9,
      "outputs": [
        {
          "output_type": "execute_result",
          "data": {
            "text/plain": [
              "2⋅x + cos(x)"
            ],
            "text/latex": "$\\displaystyle 2 x + \\cos{\\left(x \\right)}$"
          },
          "metadata": {},
          "execution_count": 9
        }
      ]
    },
    {
      "cell_type": "code",
      "source": [
        "integrate(Eq1)"
      ],
      "metadata": {
        "colab": {
          "base_uri": "https://localhost:8080/",
          "height": 54
        },
        "id": "wF6x-XLtAcZv",
        "outputId": "29af7335-7e95-46b8-e3c6-b54b3703fb94"
      },
      "execution_count": 10,
      "outputs": [
        {
          "output_type": "execute_result",
          "data": {
            "text/plain": [
              " 3         \n",
              "x          \n",
              "── - cos(x)\n",
              "3          "
            ],
            "text/latex": "$\\displaystyle \\frac{x^{3}}{3} - \\cos{\\left(x \\right)}$"
          },
          "metadata": {},
          "execution_count": 10
        }
      ]
    },
    {
      "cell_type": "code",
      "source": [
        "Integral(Eq1)   #Para visualizar"
      ],
      "metadata": {
        "colab": {
          "base_uri": "https://localhost:8080/",
          "height": 55
        },
        "id": "a-hDVjvvAb7p",
        "outputId": "42f0e944-77ef-4e60-d295-592a875123de"
      },
      "execution_count": 11,
      "outputs": [
        {
          "output_type": "execute_result",
          "data": {
            "text/plain": [
              "⌠                 \n",
              "⎮ ⎛ 2         ⎞   \n",
              "⎮ ⎝x  + sin(x)⎠ dx\n",
              "⌡                 "
            ],
            "text/latex": "$\\displaystyle \\int \\left(x^{2} + \\sin{\\left(x \\right)}\\right)\\, dx$"
          },
          "metadata": {},
          "execution_count": 11
        }
      ]
    },
    {
      "cell_type": "code",
      "source": [
        "Integral(Eq1).doit()  #Para resolver"
      ],
      "metadata": {
        "colab": {
          "base_uri": "https://localhost:8080/",
          "height": 54
        },
        "id": "XUrNi44EBP5U",
        "outputId": "0182793c-2f87-4563-9f52-ef3273dda63f"
      },
      "execution_count": 12,
      "outputs": [
        {
          "output_type": "execute_result",
          "data": {
            "text/plain": [
              " 3         \n",
              "x          \n",
              "── - cos(x)\n",
              "3          "
            ],
            "text/latex": "$\\displaystyle \\frac{x^{3}}{3} - \\cos{\\left(x \\right)}$"
          },
          "metadata": {},
          "execution_count": 12
        }
      ]
    },
    {
      "cell_type": "code",
      "source": [
        "Eq2=x**2+sin(x)*exp(x)+2"
      ],
      "metadata": {
        "id": "Rq-6-HchCcRl"
      },
      "execution_count": 13,
      "outputs": []
    },
    {
      "cell_type": "code",
      "source": [
        "Integral(Eq2)"
      ],
      "metadata": {
        "colab": {
          "base_uri": "https://localhost:8080/",
          "height": 55
        },
        "id": "nn57jpUoC2k4",
        "outputId": "25b5942f-dd69-4906-daca-5c1f4a7c9e45"
      },
      "execution_count": 14,
      "outputs": [
        {
          "output_type": "execute_result",
          "data": {
            "text/plain": [
              "⌠                        \n",
              "⎮ ⎛ 2    x           ⎞   \n",
              "⎮ ⎝x  + ℯ ⋅sin(x) + 2⎠ dx\n",
              "⌡                        "
            ],
            "text/latex": "$\\displaystyle \\int \\left(x^{2} + e^{x} \\sin{\\left(x \\right)} + 2\\right)\\, dx$"
          },
          "metadata": {},
          "execution_count": 14
        }
      ]
    },
    {
      "cell_type": "code",
      "source": [
        "Integral(Eq2).doit()  #Para resolver"
      ],
      "metadata": {
        "colab": {
          "base_uri": "https://localhost:8080/",
          "height": 54
        },
        "id": "MNr0Lc4yC2bE",
        "outputId": "4bde3abb-4658-4921-e59f-1e8be56ea29d"
      },
      "execution_count": 15,
      "outputs": [
        {
          "output_type": "execute_result",
          "data": {
            "text/plain": [
              " 3          x           x       \n",
              "x          ℯ ⋅sin(x)   ℯ ⋅cos(x)\n",
              "── + 2⋅x + ───────── - ─────────\n",
              "3              2           2    "
            ],
            "text/latex": "$\\displaystyle \\frac{x^{3}}{3} + 2 x + \\frac{e^{x} \\sin{\\left(x \\right)}}{2} - \\frac{e^{x} \\cos{\\left(x \\right)}}{2}$"
          },
          "metadata": {},
          "execution_count": 15
        }
      ]
    },
    {
      "cell_type": "code",
      "source": [
        "y(x)"
      ],
      "metadata": {
        "colab": {
          "base_uri": "https://localhost:8080/",
          "height": 39
        },
        "id": "B5YHHwkh8h6Z",
        "outputId": "9839268c-8fed-4932-bc48-63e6e4a25ceb"
      },
      "execution_count": 16,
      "outputs": [
        {
          "output_type": "execute_result",
          "data": {
            "text/plain": [
              "F(x)"
            ],
            "text/latex": "$\\displaystyle F{\\left(x \\right)}$"
          },
          "metadata": {},
          "execution_count": 16
        }
      ]
    },
    {
      "cell_type": "code",
      "source": [
        "t_eval = np.linspace(0, 10, 50)"
      ],
      "metadata": {
        "id": "KaTOZ4R40kCt"
      },
      "execution_count": 71,
      "outputs": []
    },
    {
      "cell_type": "code",
      "source": [
        "solution = y(t)\n",
        "y = solution.y"
      ],
      "metadata": {
        "id": "WReMKU4u0_dN",
        "outputId": "a3e789a5-75ed-4e8b-88f7-9f818d9fcf9a",
        "colab": {
          "base_uri": "https://localhost:8080/",
          "height": 193
        }
      },
      "execution_count": 74,
      "outputs": [
        {
          "output_type": "error",
          "ename": "AttributeError",
          "evalue": "ignored",
          "traceback": [
            "\u001b[0;31m---------------------------------------------------------------------------\u001b[0m",
            "\u001b[0;31mAttributeError\u001b[0m                            Traceback (most recent call last)",
            "\u001b[0;32m<ipython-input-74-344fa079e44c>\u001b[0m in \u001b[0;36m<cell line: 2>\u001b[0;34m()\u001b[0m\n\u001b[1;32m      1\u001b[0m \u001b[0msolution\u001b[0m \u001b[0;34m=\u001b[0m \u001b[0my\u001b[0m\u001b[0;34m(\u001b[0m\u001b[0mt\u001b[0m\u001b[0;34m)\u001b[0m\u001b[0;34m\u001b[0m\u001b[0;34m\u001b[0m\u001b[0m\n\u001b[0;32m----> 2\u001b[0;31m \u001b[0my\u001b[0m \u001b[0;34m=\u001b[0m \u001b[0msolution\u001b[0m\u001b[0;34m.\u001b[0m\u001b[0my\u001b[0m\u001b[0;34m\u001b[0m\u001b[0;34m\u001b[0m\u001b[0m\n\u001b[0m",
            "\u001b[0;31mAttributeError\u001b[0m: 'y' object has no attribute 'y'"
          ]
        }
      ]
    },
    {
      "cell_type": "code",
      "source": [
        "# Plot the result graphically using matplotlib\n",
        "plt.plot(t, F)\n",
        "# Add title, legend, and axis labels to the plot\n",
        "plt.title('F(x)')\n",
        "plt.legend(['f(x)'], shadow=True)\n",
        "plt.xlabel('time')\n",
        "plt.ylabel('Função')\n",
        "# Finally, display the annotated plot\n",
        "plt.show()"
      ],
      "metadata": {
        "id": "n7zuyRo8yISx",
        "outputId": "7e6b98bf-56aa-4cf5-fe47-388295641c50",
        "colab": {
          "base_uri": "https://localhost:8080/",
          "height": 809
        }
      },
      "execution_count": 64,
      "outputs": [
        {
          "output_type": "error",
          "ename": "ValueError",
          "evalue": "ignored",
          "traceback": [
            "\u001b[0;31m---------------------------------------------------------------------------\u001b[0m",
            "\u001b[0;31mValueError\u001b[0m                                Traceback (most recent call last)",
            "\u001b[0;32m<ipython-input-64-1ae9fda28eb6>\u001b[0m in \u001b[0;36m<cell line: 2>\u001b[0;34m()\u001b[0m\n\u001b[1;32m      1\u001b[0m \u001b[0;31m# Plot the result graphically using matplotlib\u001b[0m\u001b[0;34m\u001b[0m\u001b[0;34m\u001b[0m\u001b[0m\n\u001b[0;32m----> 2\u001b[0;31m \u001b[0mplt\u001b[0m\u001b[0;34m.\u001b[0m\u001b[0mplot\u001b[0m\u001b[0;34m(\u001b[0m\u001b[0mt\u001b[0m\u001b[0;34m,\u001b[0m \u001b[0mF\u001b[0m\u001b[0;34m)\u001b[0m\u001b[0;34m\u001b[0m\u001b[0;34m\u001b[0m\u001b[0m\n\u001b[0m\u001b[1;32m      3\u001b[0m \u001b[0;31m# Add title, legend, and axis labels to the plot\u001b[0m\u001b[0;34m\u001b[0m\u001b[0;34m\u001b[0m\u001b[0m\n\u001b[1;32m      4\u001b[0m \u001b[0mplt\u001b[0m\u001b[0;34m.\u001b[0m\u001b[0mtitle\u001b[0m\u001b[0;34m(\u001b[0m\u001b[0;34m'F(x)'\u001b[0m\u001b[0;34m)\u001b[0m\u001b[0;34m\u001b[0m\u001b[0;34m\u001b[0m\u001b[0m\n\u001b[1;32m      5\u001b[0m \u001b[0mplt\u001b[0m\u001b[0;34m.\u001b[0m\u001b[0mlegend\u001b[0m\u001b[0;34m(\u001b[0m\u001b[0;34m[\u001b[0m\u001b[0;34m'f(x)'\u001b[0m\u001b[0;34m]\u001b[0m\u001b[0;34m,\u001b[0m \u001b[0mshadow\u001b[0m\u001b[0;34m=\u001b[0m\u001b[0;32mTrue\u001b[0m\u001b[0;34m)\u001b[0m\u001b[0;34m\u001b[0m\u001b[0;34m\u001b[0m\u001b[0m\n",
            "\u001b[0;32m/usr/local/lib/python3.10/dist-packages/matplotlib/pyplot.py\u001b[0m in \u001b[0;36mplot\u001b[0;34m(scalex, scaley, data, *args, **kwargs)\u001b[0m\n\u001b[1;32m   2810\u001b[0m \u001b[0;34m@\u001b[0m\u001b[0m_copy_docstring_and_deprecators\u001b[0m\u001b[0;34m(\u001b[0m\u001b[0mAxes\u001b[0m\u001b[0;34m.\u001b[0m\u001b[0mplot\u001b[0m\u001b[0;34m)\u001b[0m\u001b[0;34m\u001b[0m\u001b[0;34m\u001b[0m\u001b[0m\n\u001b[1;32m   2811\u001b[0m \u001b[0;32mdef\u001b[0m \u001b[0mplot\u001b[0m\u001b[0;34m(\u001b[0m\u001b[0;34m*\u001b[0m\u001b[0margs\u001b[0m\u001b[0;34m,\u001b[0m \u001b[0mscalex\u001b[0m\u001b[0;34m=\u001b[0m\u001b[0;32mTrue\u001b[0m\u001b[0;34m,\u001b[0m \u001b[0mscaley\u001b[0m\u001b[0;34m=\u001b[0m\u001b[0;32mTrue\u001b[0m\u001b[0;34m,\u001b[0m \u001b[0mdata\u001b[0m\u001b[0;34m=\u001b[0m\u001b[0;32mNone\u001b[0m\u001b[0;34m,\u001b[0m \u001b[0;34m**\u001b[0m\u001b[0mkwargs\u001b[0m\u001b[0;34m)\u001b[0m\u001b[0;34m:\u001b[0m\u001b[0;34m\u001b[0m\u001b[0;34m\u001b[0m\u001b[0m\n\u001b[0;32m-> 2812\u001b[0;31m     return gca().plot(\n\u001b[0m\u001b[1;32m   2813\u001b[0m         \u001b[0;34m*\u001b[0m\u001b[0margs\u001b[0m\u001b[0;34m,\u001b[0m \u001b[0mscalex\u001b[0m\u001b[0;34m=\u001b[0m\u001b[0mscalex\u001b[0m\u001b[0;34m,\u001b[0m \u001b[0mscaley\u001b[0m\u001b[0;34m=\u001b[0m\u001b[0mscaley\u001b[0m\u001b[0;34m,\u001b[0m\u001b[0;34m\u001b[0m\u001b[0;34m\u001b[0m\u001b[0m\n\u001b[1;32m   2814\u001b[0m         **({\"data\": data} if data is not None else {}), **kwargs)\n",
            "\u001b[0;32m/usr/local/lib/python3.10/dist-packages/matplotlib/axes/_axes.py\u001b[0m in \u001b[0;36mplot\u001b[0;34m(self, scalex, scaley, data, *args, **kwargs)\u001b[0m\n\u001b[1;32m   1686\u001b[0m         \"\"\"\n\u001b[1;32m   1687\u001b[0m         \u001b[0mkwargs\u001b[0m \u001b[0;34m=\u001b[0m \u001b[0mcbook\u001b[0m\u001b[0;34m.\u001b[0m\u001b[0mnormalize_kwargs\u001b[0m\u001b[0;34m(\u001b[0m\u001b[0mkwargs\u001b[0m\u001b[0;34m,\u001b[0m \u001b[0mmlines\u001b[0m\u001b[0;34m.\u001b[0m\u001b[0mLine2D\u001b[0m\u001b[0;34m)\u001b[0m\u001b[0;34m\u001b[0m\u001b[0;34m\u001b[0m\u001b[0m\n\u001b[0;32m-> 1688\u001b[0;31m         \u001b[0mlines\u001b[0m \u001b[0;34m=\u001b[0m \u001b[0;34m[\u001b[0m\u001b[0;34m*\u001b[0m\u001b[0mself\u001b[0m\u001b[0;34m.\u001b[0m\u001b[0m_get_lines\u001b[0m\u001b[0;34m(\u001b[0m\u001b[0;34m*\u001b[0m\u001b[0margs\u001b[0m\u001b[0;34m,\u001b[0m \u001b[0mdata\u001b[0m\u001b[0;34m=\u001b[0m\u001b[0mdata\u001b[0m\u001b[0;34m,\u001b[0m \u001b[0;34m**\u001b[0m\u001b[0mkwargs\u001b[0m\u001b[0;34m)\u001b[0m\u001b[0;34m]\u001b[0m\u001b[0;34m\u001b[0m\u001b[0;34m\u001b[0m\u001b[0m\n\u001b[0m\u001b[1;32m   1689\u001b[0m         \u001b[0;32mfor\u001b[0m \u001b[0mline\u001b[0m \u001b[0;32min\u001b[0m \u001b[0mlines\u001b[0m\u001b[0;34m:\u001b[0m\u001b[0;34m\u001b[0m\u001b[0;34m\u001b[0m\u001b[0m\n\u001b[1;32m   1690\u001b[0m             \u001b[0mself\u001b[0m\u001b[0;34m.\u001b[0m\u001b[0madd_line\u001b[0m\u001b[0;34m(\u001b[0m\u001b[0mline\u001b[0m\u001b[0;34m)\u001b[0m\u001b[0;34m\u001b[0m\u001b[0;34m\u001b[0m\u001b[0m\n",
            "\u001b[0;32m/usr/local/lib/python3.10/dist-packages/matplotlib/axes/_base.py\u001b[0m in \u001b[0;36m__call__\u001b[0;34m(self, data, *args, **kwargs)\u001b[0m\n\u001b[1;32m    309\u001b[0m                 \u001b[0mthis\u001b[0m \u001b[0;34m+=\u001b[0m \u001b[0margs\u001b[0m\u001b[0;34m[\u001b[0m\u001b[0;36m0\u001b[0m\u001b[0;34m]\u001b[0m\u001b[0;34m,\u001b[0m\u001b[0;34m\u001b[0m\u001b[0;34m\u001b[0m\u001b[0m\n\u001b[1;32m    310\u001b[0m                 \u001b[0margs\u001b[0m \u001b[0;34m=\u001b[0m \u001b[0margs\u001b[0m\u001b[0;34m[\u001b[0m\u001b[0;36m1\u001b[0m\u001b[0;34m:\u001b[0m\u001b[0;34m]\u001b[0m\u001b[0;34m\u001b[0m\u001b[0;34m\u001b[0m\u001b[0m\n\u001b[0;32m--> 311\u001b[0;31m             yield from self._plot_args(\n\u001b[0m\u001b[1;32m    312\u001b[0m                 this, kwargs, ambiguous_fmt_datakey=ambiguous_fmt_datakey)\n\u001b[1;32m    313\u001b[0m \u001b[0;34m\u001b[0m\u001b[0m\n",
            "\u001b[0;32m/usr/local/lib/python3.10/dist-packages/matplotlib/axes/_base.py\u001b[0m in \u001b[0;36m_plot_args\u001b[0;34m(self, tup, kwargs, return_kwargs, ambiguous_fmt_datakey)\u001b[0m\n\u001b[1;32m    502\u001b[0m \u001b[0;34m\u001b[0m\u001b[0m\n\u001b[1;32m    503\u001b[0m         \u001b[0;32mif\u001b[0m \u001b[0mx\u001b[0m\u001b[0;34m.\u001b[0m\u001b[0mshape\u001b[0m\u001b[0;34m[\u001b[0m\u001b[0;36m0\u001b[0m\u001b[0;34m]\u001b[0m \u001b[0;34m!=\u001b[0m \u001b[0my\u001b[0m\u001b[0;34m.\u001b[0m\u001b[0mshape\u001b[0m\u001b[0;34m[\u001b[0m\u001b[0;36m0\u001b[0m\u001b[0;34m]\u001b[0m\u001b[0;34m:\u001b[0m\u001b[0;34m\u001b[0m\u001b[0;34m\u001b[0m\u001b[0m\n\u001b[0;32m--> 504\u001b[0;31m             raise ValueError(f\"x and y must have same first dimension, but \"\n\u001b[0m\u001b[1;32m    505\u001b[0m                              f\"have shapes {x.shape} and {y.shape}\")\n\u001b[1;32m    506\u001b[0m         \u001b[0;32mif\u001b[0m \u001b[0mx\u001b[0m\u001b[0;34m.\u001b[0m\u001b[0mndim\u001b[0m \u001b[0;34m>\u001b[0m \u001b[0;36m2\u001b[0m \u001b[0;32mor\u001b[0m \u001b[0my\u001b[0m\u001b[0;34m.\u001b[0m\u001b[0mndim\u001b[0m \u001b[0;34m>\u001b[0m \u001b[0;36m2\u001b[0m\u001b[0;34m:\u001b[0m\u001b[0;34m\u001b[0m\u001b[0;34m\u001b[0m\u001b[0m\n",
            "\u001b[0;31mValueError\u001b[0m: x and y must have same first dimension, but have shapes (50,) and (1,)"
          ]
        },
        {
          "output_type": "display_data",
          "data": {
            "text/plain": [
              "<Figure size 640x480 with 1 Axes>"
            ],
            "image/png": "[encoded data removed]"
          },
          "metadata": {}
        }
      ]
    },
    {
      "cell_type": "code",
      "source": [
        "Eq(x**2-2*x+1,6)"
      ],
      "metadata": {
        "colab": {
          "base_uri": "https://localhost:8080/",
          "height": 39
        },
        "id": "KjQA_NfI82B9",
        "outputId": "a5397049-01e9-4ff5-8b72-672461d4c0fc"
      },
      "execution_count": 17,
      "outputs": [
        {
          "output_type": "execute_result",
          "data": {
            "text/plain": [
              " 2              \n",
              "x  - 2⋅x + 1 = 6"
            ],
            "text/latex": "$\\displaystyle x^{2} - 2 x + 1 = 6$"
          },
          "metadata": {},
          "execution_count": 17
        }
      ]
    },
    {
      "cell_type": "code",
      "source": [
        "Eq(y(x).diff(x)+y(x),3)"
      ],
      "metadata": {
        "colab": {
          "base_uri": "https://localhost:8080/",
          "height": 52
        },
        "id": "rja80OZ99Q63",
        "outputId": "e24177fb-323a-49d8-a8ac-8c27bc6503aa"
      },
      "execution_count": 18,
      "outputs": [
        {
          "output_type": "execute_result",
          "data": {
            "text/plain": [
              "       d           \n",
              "F(x) + ──(F(x)) = 3\n",
              "       dx          "
            ],
            "text/latex": "$\\displaystyle F{\\left(x \\right)} + \\frac{d}{d x} F{\\left(x \\right)} = 3$"
          },
          "metadata": {},
          "execution_count": 18
        }
      ]
    },
    {
      "cell_type": "code",
      "source": [
        "Eq3 = Eq(x**2-2*x+1,6)"
      ],
      "metadata": {
        "id": "almdwXFG9uUR"
      },
      "execution_count": 19,
      "outputs": []
    },
    {
      "cell_type": "code",
      "source": [
        "solve(Eq3,x)"
      ],
      "metadata": {
        "colab": {
          "base_uri": "https://localhost:8080/",
          "height": 48
        },
        "id": "WYS3UAyW9y34",
        "outputId": "0c256026-0aae-4086-c652-a88eda1d727e"
      },
      "execution_count": 20,
      "outputs": [
        {
          "output_type": "execute_result",
          "data": {
            "text/plain": [
              "[1 - √6, 1 + √6]"
            ],
            "text/latex": "$\\displaystyle \\left[ 1 - \\sqrt{6}, \\  1 + \\sqrt{6}\\right]$"
          },
          "metadata": {},
          "execution_count": 20
        }
      ]
    },
    {
      "cell_type": "code",
      "source": [
        "EDO = Eq(y(x).diff(x)+y(x),3)"
      ],
      "metadata": {
        "id": "x-2IDijq9zK9"
      },
      "execution_count": 21,
      "outputs": []
    },
    {
      "cell_type": "code",
      "source": [
        "dsolve(EDO,y(x))"
      ],
      "metadata": {
        "colab": {
          "base_uri": "https://localhost:8080/",
          "height": 39
        },
        "id": "sT-BfEgZ9zTb",
        "outputId": "0d580450-bccd-43d3-fb89-683b9448d2a9"
      },
      "execution_count": 22,
      "outputs": [
        {
          "output_type": "execute_result",
          "data": {
            "text/plain": [
              "           -x    \n",
              "F(x) = C₁⋅ℯ   + 3"
            ],
            "text/latex": "$\\displaystyle F{\\left(x \\right)} = C_{1} e^{- x} + 3$"
          },
          "metadata": {},
          "execution_count": 22
        }
      ]
    },
    {
      "cell_type": "code",
      "source": [
        "f = x**3 + x**2 - x\n",
        "derivative = diff(f, x)\n",
        "critical_points = solve(derivative, x, dict=True)\n",
        "print(critical_points)"
      ],
      "metadata": {
        "id": "PYBmNYaz_FNd",
        "colab": {
          "base_uri": "https://localhost:8080/"
        },
        "outputId": "2afa64a1-6d4f-4a70-ce86-6fa61789cdf2"
      },
      "execution_count": 23,
      "outputs": [
        {
          "output_type": "stream",
          "name": "stdout",
          "text": [
            "[{x: -1}, {x: 1/3}]\n"
          ]
        }
      ]
    },
    {
      "cell_type": "code",
      "source": [
        "point1, point2 = critical_points\n",
        "\n",
        "print(f.subs(point1))\n",
        "print(f.subs(point2))"
      ],
      "metadata": {
        "id": "qmWbnuhC_FVw",
        "colab": {
          "base_uri": "https://localhost:8080/"
        },
        "outputId": "6383b653-48ea-49bc-c90e-3d960a1aa8ad"
      },
      "execution_count": 25,
      "outputs": [
        {
          "output_type": "stream",
          "name": "stdout",
          "text": [
            "1\n",
            "-5/27\n"
          ]
        }
      ]
    },
    {
      "cell_type": "code",
      "source": [
        "curvature = diff(f, x, 2)\n",
        "\n",
        "print(curvature.subs(point1))\n",
        "print(curvature.subs(point2))"
      ],
      "metadata": {
        "colab": {
          "base_uri": "https://localhost:8080/"
        },
        "id": "iIo7AxDkoQmF",
        "outputId": "d83063e4-8e7e-4a3f-bad8-8238bf5445c4"
      },
      "execution_count": 28,
      "outputs": [
        {
          "output_type": "stream",
          "name": "stdout",
          "text": [
            "-4\n",
            "4\n"
          ]
        }
      ]
    },
    {
      "cell_type": "code",
      "source": [
        "#\n",
        "nsolve(cos(x) - x, x, 1)"
      ],
      "metadata": {
        "colab": {
          "base_uri": "https://localhost:8080/",
          "height": 37
        },
        "id": "OKbLFybdoQwx",
        "outputId": "a2bce2ee-0b4a-454e-b427-bb664e65b4cd"
      },
      "execution_count": 32,
      "outputs": [
        {
          "output_type": "execute_result",
          "data": {
            "text/plain": [
              "0.739085133215161"
            ],
            "text/latex": "$\\displaystyle 0.739085133215161$"
          },
          "metadata": {},
          "execution_count": 32
        }
      ]
    },
    {
      "cell_type": "code",
      "source": [
        "nsolve(x**2 + 2, I) # Imaginary initial point returns a complex root"
      ],
      "metadata": {
        "colab": {
          "base_uri": "https://localhost:8080/",
          "height": 39
        },
        "id": "o6KaMmP0oQ84",
        "outputId": "4f55825b-fe5d-46a4-f33e-c6858a0928a2"
      },
      "execution_count": 33,
      "outputs": [
        {
          "output_type": "execute_result",
          "data": {
            "text/plain": [
              "1.4142135623731⋅ⅈ"
            ],
            "text/latex": "$\\displaystyle 1.4142135623731 i$"
          },
          "metadata": {},
          "execution_count": 33
        }
      ]
    },
    {
      "cell_type": "code",
      "source": [
        "nsolve(x**2 - 1, (-10, 0), solver='bisect')"
      ],
      "metadata": {
        "id": "nHGQpb_q_FbE",
        "colab": {
          "base_uri": "https://localhost:8080/",
          "height": 37
        },
        "outputId": "071ad581-01df-4755-90f9-919c16f519fb"
      },
      "execution_count": 34,
      "outputs": [
        {
          "output_type": "execute_result",
          "data": {
            "text/plain": [
              "-1.00000000000000"
            ],
            "text/latex": "$\\displaystyle -1.0$"
          },
          "metadata": {},
          "execution_count": 34
        }
      ]
    },
    {
      "cell_type": "markdown",
      "source": [
        "\n",
        "    functions (f1, f2)\n",
        "    variables to solve for (x1, x2)\n",
        "    starting values (-1, 1)"
      ],
      "metadata": {
        "id": "sjOC_vnCsB5Q"
      }
    },
    {
      "cell_type": "code",
      "source": [
        "x1 = Symbol('x1')\n",
        "x2 = Symbol('x2')\n",
        "f1 = 3 * x1**2 - 2 * x2**2 - 1\n",
        "f2 = x1**2 - 2 * x1 + x2**2 + 2 * x2 - 8\n",
        "print(nsolve((f1, f2), (x1, x2), (-1, 1),prec=15))"
      ],
      "metadata": {
        "colab": {
          "base_uri": "https://localhost:8080/"
        },
        "id": "M4eyHMSiq0kd",
        "outputId": "b504af4f-fd23-4b28-aea5-5d96a45ad6ef"
      },
      "execution_count": 37,
      "outputs": [
        {
          "output_type": "stream",
          "name": "stdout",
          "text": [
            "Matrix([[-1.19287309935246], [1.27844411169911]])\n"
          ]
        }
      ]
    },
    {
      "cell_type": "code",
      "source": [
        "f, g = symbols(\"f g\", cls=Function)\n",
        "x = symbols(\"x\")\n",
        "eqs = [Eq(f(x).diff(x), g(x)), Eq(g(x).diff(x), f(x))]\n",
        "dsolve(eqs, [f(x), g(x)])\n",
        "dsolve(eqs, [f(x), g(x)], ics={f(0): 1, g(2): 3})"
      ],
      "metadata": {
        "colab": {
          "base_uri": "https://localhost:8080/",
          "height": 68
        },
        "id": "TCFs5xzbq0pA",
        "outputId": "ca8c0efd-850d-4686-d9f8-6cdf74a6a776"
      },
      "execution_count": 39,
      "outputs": [
        {
          "output_type": "execute_result",
          "data": {
            "text/plain": [
              "⎡       ⎛       2⎞  x   ⎛   4      2⎞  -x         ⎛       2⎞  x   ⎛   4      2\n",
              "⎢       ⎝1 + 3⋅ℯ ⎠⋅ℯ    ⎝- ℯ  + 3⋅ℯ ⎠⋅ℯ           ⎝1 + 3⋅ℯ ⎠⋅ℯ    ⎝- ℯ  + 3⋅ℯ \n",
              "⎢f(x) = ───────────── - ─────────────────, g(x) = ───────────── + ────────────\n",
              "⎢                4                 4                       4                 4\n",
              "⎣           1 + ℯ             1 + ℯ                   1 + ℯ             1 + ℯ \n",
              "\n",
              "⎞  -x⎤\n",
              "⎠⋅ℯ  ⎥\n",
              "─────⎥\n",
              "     ⎥\n",
              "     ⎦"
            ],
            "text/latex": "$\\displaystyle \\left[ f{\\left(x \\right)} = \\frac{\\left(1 + 3 e^{2}\\right) e^{x}}{1 + e^{4}} - \\frac{\\left(- e^{4} + 3 e^{2}\\right) e^{- x}}{1 + e^{4}}, \\  g{\\left(x \\right)} = \\frac{\\left(1 + 3 e^{2}\\right) e^{x}}{1 + e^{4}} + \\frac{\\left(- e^{4} + 3 e^{2}\\right) e^{- x}}{1 + e^{4}}\\right]$"
          },
          "metadata": {},
          "execution_count": 39
        }
      ]
    },
    {
      "cell_type": "code",
      "source": [
        "eqn = Eq(f(x).diff(x), f(x))\n",
        "dsolve(eqn, f(x), ics={f(x).diff(x).subs(x, 1): 2})"
      ],
      "metadata": {
        "colab": {
          "base_uri": "https://localhost:8080/",
          "height": 51
        },
        "id": "AKVxEfHnq0tU",
        "outputId": "9f8222b3-dfb6-46ed-95e1-9b22669a6f39"
      },
      "execution_count": 40,
      "outputs": [
        {
          "output_type": "execute_result",
          "data": {
            "text/plain": [
              "          -1  x\n",
              "f(x) = 2⋅ℯ  ⋅ℯ "
            ],
            "text/latex": "$\\displaystyle f{\\left(x \\right)} = \\frac{2 e^{x}}{e}$"
          },
          "metadata": {},
          "execution_count": 40
        }
      ]
    },
    {
      "cell_type": "code",
      "source": [
        "t = symbols('t')\n",
        "y = Function('y')(t); y"
      ],
      "metadata": {
        "colab": {
          "base_uri": "https://localhost:8080/",
          "height": 39
        },
        "id": "ffuqhJSRq090",
        "outputId": "520a4e24-d0f5-4453-d5a5-956e69257937"
      },
      "execution_count": 41,
      "outputs": [
        {
          "output_type": "execute_result",
          "data": {
            "text/plain": [
              "y(t)"
            ],
            "text/latex": "$\\displaystyle y{\\left(t \\right)}$"
          },
          "metadata": {},
          "execution_count": 41
        }
      ]
    },
    {
      "cell_type": "code",
      "source": [
        "yp = y.diff(t)\n",
        "ypp = yp.diff(t)\n",
        "eq = ypp + 2*yp + y; eq"
      ],
      "metadata": {
        "colab": {
          "base_uri": "https://localhost:8080/",
          "height": 54
        },
        "id": "nb5UH-wtv61o",
        "outputId": "a2f2efa5-7934-4de0-c5b5-1fa9337651ac"
      },
      "execution_count": 42,
      "outputs": [
        {
          "output_type": "execute_result",
          "data": {
            "text/plain": [
              "                      2      \n",
              "         d           d       \n",
              "y(t) + 2⋅──(y(t)) + ───(y(t))\n",
              "         dt           2      \n",
              "                    dt       "
            ],
            "text/latex": "$\\displaystyle y{\\left(t \\right)} + 2 \\frac{d}{d t} y{\\left(t \\right)} + \\frac{d^{2}}{d t^{2}} y{\\left(t \\right)}$"
          },
          "metadata": {},
          "execution_count": 42
        }
      ]
    },
    {
      "cell_type": "code",
      "source": [
        "dsolve(eq, y)"
      ],
      "metadata": {
        "colab": {
          "base_uri": "https://localhost:8080/",
          "height": 39
        },
        "id": "CN6ycnjIwK05",
        "outputId": "82fc8ee6-56b8-4782-dc79-c7cbef9af817"
      },
      "execution_count": 43,
      "outputs": [
        {
          "output_type": "execute_result",
          "data": {
            "text/plain": [
              "                    -t\n",
              "y(t) = (C₁ + C₂⋅t)⋅ℯ  "
            ],
            "text/latex": "$\\displaystyle y{\\left(t \\right)} = \\left(C_{1} + C_{2} t\\right) e^{- t}$"
          },
          "metadata": {},
          "execution_count": 43
        }
      ]
    },
    {
      "cell_type": "code",
      "source": [
        "dsolve(eq, y, ics={y.subs(t, 0): 0})"
      ],
      "metadata": {
        "id": "bD9ngFMnwaYA",
        "outputId": "e6d9d96b-7c29-4e33-8276-c7a13ca8e4db",
        "colab": {
          "base_uri": "https://localhost:8080/",
          "height": 39
        }
      },
      "execution_count": 44,
      "outputs": [
        {
          "output_type": "execute_result",
          "data": {
            "text/plain": [
              "             -t\n",
              "y(t) = C₂⋅t⋅ℯ  "
            ],
            "text/latex": "$\\displaystyle y{\\left(t \\right)} = C_{2} t e^{- t}$"
          },
          "metadata": {},
          "execution_count": 44
        }
      ]
    },
    {
      "cell_type": "code",
      "source": [
        "y = Function('y')\n",
        "result = dsolve(Derivative(y(x), x, x) + 9*y(x), y(x))\n",
        "result"
      ],
      "metadata": {
        "id": "aoQEjxqRxDog",
        "outputId": "a50a19be-be7b-4f06-a334-fed7039198b6",
        "colab": {
          "base_uri": "https://localhost:8080/",
          "height": 39
        }
      },
      "execution_count": 45,
      "outputs": [
        {
          "output_type": "execute_result",
          "data": {
            "text/plain": [
              "y(x) = C₁⋅sin(3⋅x) + C₂⋅cos(3⋅x)"
            ],
            "text/latex": "$\\displaystyle y{\\left(x \\right)} = C_{1} \\sin{\\left(3 x \\right)} + C_{2} \\cos{\\left(3 x \\right)}$"
          },
          "metadata": {},
          "execution_count": 45
        }
      ]
    },
    {
      "cell_type": "code",
      "source": [
        "result.rhs   #using the right-hand side property"
      ],
      "metadata": {
        "id": "MOi9gtrhxDgM",
        "outputId": "59f2e90c-7d79-42bc-a6fc-9776db6addfb",
        "colab": {
          "base_uri": "https://localhost:8080/",
          "height": 39
        }
      },
      "execution_count": 47,
      "outputs": [
        {
          "output_type": "execute_result",
          "data": {
            "text/plain": [
              "C₁⋅sin(3⋅x) + C₂⋅cos(3⋅x)"
            ],
            "text/latex": "$\\displaystyle C_{1} \\sin{\\left(3 x \\right)} + C_{2} \\cos{\\left(3 x \\right)}$"
          },
          "metadata": {},
          "execution_count": 47
        }
      ]
    },
    {
      "cell_type": "code",
      "source": [
        "from sympy.abc import x, a, b, c\n",
        "roots(a*x**2 + b*x + c, x)"
      ],
      "metadata": {
        "id": "kInKX7gMxDUd",
        "outputId": "df07e8e5-f4bb-4975-ab5b-ddcbd5fefd26",
        "colab": {
          "base_uri": "https://localhost:8080/",
          "height": 68
        }
      },
      "execution_count": 76,
      "outputs": [
        {
          "output_type": "execute_result",
          "data": {
            "text/plain": [
              "⎧           _____________                _____________   ⎫\n",
              "⎪          ╱           2                ╱           2    ⎪\n",
              "⎨   b    ╲╱  -4⋅a⋅c + b          b    ╲╱  -4⋅a⋅c + b     ⎬\n",
              "⎪- ─── - ────────────────: 1, - ─── + ────────────────: 1⎪\n",
              "⎩  2⋅a         2⋅a              2⋅a         2⋅a          ⎭"
            ],
            "text/latex": "$\\displaystyle \\left\\{ - \\frac{b}{2 a} - \\frac{\\sqrt{- 4 a c + b^{2}}}{2 a} : 1, \\  - \\frac{b}{2 a} + \\frac{\\sqrt{- 4 a c + b^{2}}}{2 a} : 1\\right\\}$"
          },
          "metadata": {},
          "execution_count": 76
        }
      ]
    },
    {
      "cell_type": "code",
      "source": [
        "expression = (x+2)**2 * (x-3)\n",
        "symbolic = (x+a)**2 * (x-b)"
      ],
      "metadata": {
        "id": "Hn4xbnRv38uR"
      },
      "execution_count": 77,
      "outputs": []
    },
    {
      "cell_type": "code",
      "source": [
        "solve(expression, x, dict=True)"
      ],
      "metadata": {
        "id": "VAbO0UNt38qC",
        "outputId": "289f814c-d27c-4344-ae87-1c7272ef6305",
        "colab": {
          "base_uri": "https://localhost:8080/",
          "height": 39
        }
      },
      "execution_count": 78,
      "outputs": [
        {
          "output_type": "execute_result",
          "data": {
            "text/plain": [
              "[{x: -2}, {x: 3}]"
            ],
            "text/latex": "$\\displaystyle \\left[ \\left\\{ x : -2\\right\\}, \\  \\left\\{ x : 3\\right\\}\\right]$"
          },
          "metadata": {},
          "execution_count": 78
        }
      ]
    },
    {
      "cell_type": "code",
      "source": [
        "solve(symbolic, x, dict=True)"
      ],
      "metadata": {
        "id": "7QjRxVXS38ml",
        "outputId": "3fc70c26-efa7-4d0f-89be-ee2f27a40e05",
        "colab": {
          "base_uri": "https://localhost:8080/",
          "height": 39
        }
      },
      "execution_count": 79,
      "outputs": [
        {
          "output_type": "execute_result",
          "data": {
            "text/plain": [
              "[{x: -a}, {x: b}]"
            ],
            "text/latex": "$\\displaystyle \\left[ \\left\\{ x : - a\\right\\}, \\  \\left\\{ x : b\\right\\}\\right]$"
          },
          "metadata": {},
          "execution_count": 79
        }
      ]
    },
    {
      "cell_type": "code",
      "source": [
        "solve(x**4 - x + 1, x)"
      ],
      "metadata": {
        "id": "goO4QG_z38hm",
        "outputId": "5c44bc3f-420e-4be1-a92c-e9f4ff7743f3",
        "colab": {
          "base_uri": "https://localhost:8080/",
          "height": 163
        }
      },
      "execution_count": 80,
      "outputs": [
        {
          "output_type": "execute_result",
          "data": {
            "text/plain": [
              "⎡                                                                    _________\n",
              "⎢                                                                   ╱         \n",
              "⎢                                                                  ╱         ╱\n",
              "⎢                                                                 ╱   - 2⋅3 ╱ \n",
              "⎢          ___________________________________________           ╱        ╲╱  \n",
              "⎢         ╱                             _____________           ╱             \n",
              "⎢        ╱           2                 ╱ 1    √687⋅ⅈ           ╱              \n",
              "⎢       ╱   ─────────────────── + 2⋅3 ╱  ── + ──────          ╱               \n",
              "⎢      ╱          _____________     ╲╱   16    144           ╱                \n",
              "⎢     ╱          ╱ 1    √687⋅ⅈ                              ╱                 \n",
              "⎢    ╱      3⋅3 ╱  ── + ──────                             ╱                  \n",
              "⎢  ╲╱         ╲╱   16    144                             ╲╱                   \n",
              "⎢- ─────────────────────────────────────────────────── - ─────────────────────\n",
              "⎣                           2                                                 \n",
              "\n",
              "______________________________________________________________________________\n",
              "_____________                                                                 \n",
              " 1    √687⋅ⅈ                             2                                    \n",
              " ── + ──────  - ─────────────────────────────────────────────────── - ────────\n",
              " 16    144              ___________________________________________         __\n",
              "                       ╱                             _____________         ╱ 1\n",
              "                      ╱           2                 ╱ 1    √687⋅ⅈ     3⋅3 ╱  ─\n",
              "                     ╱   ─────────────────── + 2⋅3 ╱  ── + ──────       ╲╱   1\n",
              "                    ╱          _____________     ╲╱   16    144               \n",
              "                   ╱          ╱ 1    √687⋅ⅈ                                   \n",
              "                  ╱      3⋅3 ╱  ── + ──────                                   \n",
              "                ╲╱         ╲╱   16    144                                     \n",
              "──────────────────────────────────────────────────────────────────────────────\n",
              "                                  2                                           \n",
              "\n",
              "____________                                                                  \n",
              "                                                                              \n",
              " 2                                                                            \n",
              "───────────                                                                  ╱\n",
              "___________           ___________________________________________           ╱ \n",
              "    √687⋅ⅈ           ╱                             _____________           ╱  \n",
              "─ + ──────          ╱           2                 ╱ 1    √687⋅ⅈ           ╱   \n",
              "6    144           ╱   ─────────────────── + 2⋅3 ╱  ── + ──────          ╱    \n",
              "                  ╱          _____________     ╲╱   16    144           ╱     \n",
              "                 ╱          ╱ 1    √687⋅ⅈ                              ╱      \n",
              "                ╱      3⋅3 ╱  ── + ──────                             ╱       \n",
              "              ╲╱         ╲╱   16    144                             ╲╱        \n",
              "────────────, ─────────────────────────────────────────────────── - ──────────\n",
              "                                       2                                      \n",
              "\n",
              "  ____________________________________________________________________________\n",
              " ╱         _____________                                                      \n",
              "╱         ╱ 1    √687⋅ⅈ                             2                         \n",
              "   - 2⋅3 ╱  ── + ──────  + ───────────────────────────────────────────────────\n",
              "       ╲╱   16    144              ___________________________________________\n",
              "                                  ╱                             _____________ \n",
              "                                 ╱           2                 ╱ 1    √687⋅ⅈ  \n",
              "                                ╱   ─────────────────── + 2⋅3 ╱  ── + ──────  \n",
              "                               ╱          _____________     ╲╱   16    144    \n",
              "                              ╱          ╱ 1    √687⋅ⅈ                        \n",
              "                             ╱      3⋅3 ╱  ── + ──────                        \n",
              "                           ╲╱         ╲╱   16    144                          \n",
              "──────────────────────────────────────────────────────────────────────────────\n",
              "                                             2                                \n",
              "\n",
              "_______________________              _________________________________________\n",
              "                                    ╱         _____________                   \n",
              "            2                      ╱         ╱ 1    √687⋅ⅈ                    \n",
              " - ───────────────────            ╱   - 2⋅3 ╱  ── + ──────  - ────────────────\n",
              "         _____________           ╱        ╲╱   16    144              ________\n",
              "        ╱ 1    √687⋅ⅈ           ╱                                    ╱        \n",
              "   3⋅3 ╱  ── + ──────          ╱                                    ╱         \n",
              "     ╲╱   16    144           ╱                                    ╱   ───────\n",
              "                             ╱                                    ╱          _\n",
              "                            ╱                                    ╱          ╱ \n",
              "                           ╱                                    ╱      3⋅3 ╱  \n",
              "                         ╲╱                                   ╲╱         ╲╱   \n",
              "───────────────────────, ─────────────────────────────────────────────────────\n",
              "                                                                              \n",
              "\n",
              "__________________________________________________________                    \n",
              "                                                                              \n",
              "         2                                     2                              \n",
              "─────────────────────────────────── - ───────────────────                     \n",
              "___________________________________         _____________            _________\n",
              "                     _____________         ╱ 1    √687⋅ⅈ            ╱         \n",
              "  2                 ╱ 1    √687⋅ⅈ     3⋅3 ╱  ── + ──────           ╱          \n",
              "──────────── + 2⋅3 ╱  ── + ──────       ╲╱   16    144            ╱   ────────\n",
              "____________     ╲╱   16    144                                  ╱          __\n",
              "1    √687⋅ⅈ                                                     ╱          ╱ 1\n",
              "── + ──────                                                    ╱      3⋅3 ╱  ─\n",
              "16    144                                                    ╲╱         ╲╱   1\n",
              "────────────────────────────────────────────────────────── - ─────────────────\n",
              "  2                                                                           \n",
              "\n",
              "                                                ______________________________\n",
              "                                               ╱         _____________        \n",
              "                                              ╱         ╱ 1    √687⋅ⅈ         \n",
              "                                             ╱   - 2⋅3 ╱  ── + ──────  + ─────\n",
              "__________________________________          ╱        ╲╱   16    144           \n",
              "                    _____________          ╱                                  \n",
              " 2                 ╱ 1    √687⋅ⅈ          ╱                                   \n",
              "─────────── + 2⋅3 ╱  ── + ──────         ╱                                    \n",
              "___________     ╲╱   16    144          ╱                                    ╱\n",
              "    √687⋅ⅈ                             ╱                                    ╱ \n",
              "─ + ──────                            ╱                                    ╱  \n",
              "6    144                            ╲╱                                   ╲╱   \n",
              "──────────────────────────────────, ──────────────────────────────────────────\n",
              "        2                                                                     \n",
              "\n",
              "_____________________________________________________________________         \n",
              "                                                                              \n",
              "                    2                                     2                   \n",
              "────────────────────────────────────────────── - ───────────────────          \n",
              "   ___________________________________________         _____________          \n",
              "  ╱                             _____________         ╱ 1    √687⋅ⅈ           \n",
              " ╱           2                 ╱ 1    √687⋅ⅈ     3⋅3 ╱  ── + ──────           \n",
              "╱   ─────────────────── + 2⋅3 ╱  ── + ──────       ╲╱   16    144            ╱\n",
              "          _____________     ╲╱   16    144                                  ╱ \n",
              "         ╱ 1    √687⋅ⅈ                                                     ╱  \n",
              "    3⋅3 ╱  ── + ──────                                                    ╱   \n",
              "      ╲╱   16    144                                                    ╲╱    \n",
              "───────────────────────────────────────────────────────────────────── + ──────\n",
              "             2                                                                \n",
              "\n",
              "                                             ⎤\n",
              "                                             ⎥\n",
              "                                             ⎥\n",
              "                                             ⎥\n",
              "  ___________________________________________⎥\n",
              " ╱                             _____________ ⎥\n",
              "╱           2                 ╱ 1    √687⋅ⅈ  ⎥\n",
              "   ─────────────────── + 2⋅3 ╱  ── + ──────  ⎥\n",
              "         _____________     ╲╱   16    144    ⎥\n",
              "        ╱ 1    √687⋅ⅈ                        ⎥\n",
              "   3⋅3 ╱  ── + ──────                        ⎥\n",
              "     ╲╱   16    144                          ⎥\n",
              "─────────────────────────────────────────────⎥\n",
              "                   2                         ⎦"
            ],
            "text/latex": "$\\displaystyle \\left[ - \\frac{\\sqrt{\\frac{2}{3 \\sqrt[3]{\\frac{1}{16} + \\frac{\\sqrt{687} i}{144}}} + 2 \\sqrt[3]{\\frac{1}{16} + \\frac{\\sqrt{687} i}{144}}}}{2} - \\frac{\\sqrt{- 2 \\sqrt[3]{\\frac{1}{16} + \\frac{\\sqrt{687} i}{144}} - \\frac{2}{\\sqrt{\\frac{2}{3 \\sqrt[3]{\\frac{1}{16} + \\frac{\\sqrt{687} i}{144}}} + 2 \\sqrt[3]{\\frac{1}{16} + \\frac{\\sqrt{687} i}{144}}}} - \\frac{2}{3 \\sqrt[3]{\\frac{1}{16} + \\frac{\\sqrt{687} i}{144}}}}}{2}, \\  \\frac{\\sqrt{\\frac{2}{3 \\sqrt[3]{\\frac{1}{16} + \\frac{\\sqrt{687} i}{144}}} + 2 \\sqrt[3]{\\frac{1}{16} + \\frac{\\sqrt{687} i}{144}}}}{2} - \\frac{\\sqrt{- 2 \\sqrt[3]{\\frac{1}{16} + \\frac{\\sqrt{687} i}{144}} + \\frac{2}{\\sqrt{\\frac{2}{3 \\sqrt[3]{\\frac{1}{16} + \\frac{\\sqrt{687} i}{144}}} + 2 \\sqrt[3]{\\frac{1}{16} + \\frac{\\sqrt{687} i}{144}}}} - \\frac{2}{3 \\sqrt[3]{\\frac{1}{16} + \\frac{\\sqrt{687} i}{144}}}}}{2}, \\  \\frac{\\sqrt{- 2 \\sqrt[3]{\\frac{1}{16} + \\frac{\\sqrt{687} i}{144}} - \\frac{2}{\\sqrt{\\frac{2}{3 \\sqrt[3]{\\frac{1}{16} + \\frac{\\sqrt{687} i}{144}}} + 2 \\sqrt[3]{\\frac{1}{16} + \\frac{\\sqrt{687} i}{144}}}} - \\frac{2}{3 \\sqrt[3]{\\frac{1}{16} + \\frac{\\sqrt{687} i}{144}}}}}{2} - \\frac{\\sqrt{\\frac{2}{3 \\sqrt[3]{\\frac{1}{16} + \\frac{\\sqrt{687} i}{144}}} + 2 \\sqrt[3]{\\frac{1}{16} + \\frac{\\sqrt{687} i}{144}}}}{2}, \\  \\frac{\\sqrt{- 2 \\sqrt[3]{\\frac{1}{16} + \\frac{\\sqrt{687} i}{144}} + \\frac{2}{\\sqrt{\\frac{2}{3 \\sqrt[3]{\\frac{1}{16} + \\frac{\\sqrt{687} i}{144}}} + 2 \\sqrt[3]{\\frac{1}{16} + \\frac{\\sqrt{687} i}{144}}}} - \\frac{2}{3 \\sqrt[3]{\\frac{1}{16} + \\frac{\\sqrt{687} i}{144}}}}}{2} + \\frac{\\sqrt{\\frac{2}{3 \\sqrt[3]{\\frac{1}{16} + \\frac{\\sqrt{687} i}{144}}} + 2 \\sqrt[3]{\\frac{1}{16} + \\frac{\\sqrt{687} i}{144}}}}{2}\\right]$"
          },
          "metadata": {},
          "execution_count": 80
        }
      ]
    },
    {
      "cell_type": "code",
      "source": [
        "roots(expression, x)"
      ],
      "metadata": {
        "id": "O5VQHgNJ38QC",
        "outputId": "db711511-b3f8-4225-daf4-4bf414100f37",
        "colab": {
          "base_uri": "https://localhost:8080/",
          "height": 37
        }
      },
      "execution_count": 81,
      "outputs": [
        {
          "output_type": "execute_result",
          "data": {
            "text/plain": [
              "{-2: 2, 3: 1}"
            ],
            "text/latex": "$\\displaystyle \\left\\{ -2 : 2, \\  3 : 1\\right\\}$"
          },
          "metadata": {},
          "execution_count": 81
        }
      ]
    },
    {
      "cell_type": "code",
      "source": [
        "roots(symbolic, x)"
      ],
      "metadata": {
        "id": "qTyx9V3B4wCP",
        "outputId": "fca27f71-5a07-4858-eefb-4eb63ad386bc",
        "colab": {
          "base_uri": "https://localhost:8080/",
          "height": 39
        }
      },
      "execution_count": 82,
      "outputs": [
        {
          "output_type": "execute_result",
          "data": {
            "text/plain": [
              "{-a: 2, b: 1}"
            ],
            "text/latex": "$\\displaystyle \\left\\{ - a : 2, \\  b : 1\\right\\}$"
          },
          "metadata": {},
          "execution_count": 82
        }
      ]
    },
    {
      "cell_type": "code",
      "source": [
        "expression_expanded = expand(expression)\n",
        "expression_expanded"
      ],
      "metadata": {
        "id": "6y-9cR38463B",
        "outputId": "0d072881-d506-4c9a-a177-4663f0adcf92",
        "colab": {
          "base_uri": "https://localhost:8080/",
          "height": 39
        }
      },
      "execution_count": 84,
      "outputs": [
        {
          "output_type": "execute_result",
          "data": {
            "text/plain": [
              " 3    2           \n",
              "x  + x  - 8⋅x - 12"
            ],
            "text/latex": "$\\displaystyle x^{3} + x^{2} - 8 x - 12$"
          },
          "metadata": {},
          "execution_count": 84
        }
      ]
    },
    {
      "cell_type": "code",
      "source": [
        "factor(expression_expanded)"
      ],
      "metadata": {
        "id": "GRYa3Y2d5D6O",
        "outputId": "e1df6dc5-d71f-4c49-d2e7-3c7b16f8eaae",
        "colab": {
          "base_uri": "https://localhost:8080/",
          "height": 39
        }
      },
      "execution_count": 85,
      "outputs": [
        {
          "output_type": "execute_result",
          "data": {
            "text/plain": [
              "               2\n",
              "(x - 3)⋅(x + 2) "
            ],
            "text/latex": "$\\displaystyle \\left(x - 3\\right) \\left(x + 2\\right)^{2}$"
          },
          "metadata": {},
          "execution_count": 85
        }
      ]
    },
    {
      "cell_type": "code",
      "source": [
        "symbolic_expanded = expand(symbolic)\n",
        "symbolic_expanded"
      ],
      "metadata": {
        "id": "WcUh48EJ5H9y",
        "outputId": "3642a800-5238-4f1e-b535-1a8171cab1a5",
        "colab": {
          "base_uri": "https://localhost:8080/",
          "height": 39
        }
      },
      "execution_count": 86,
      "outputs": [
        {
          "output_type": "execute_result",
          "data": {
            "text/plain": [
              "   2      2                    2      2    3\n",
              "- a ⋅b + a ⋅x - 2⋅a⋅b⋅x + 2⋅a⋅x  - b⋅x  + x "
            ],
            "text/latex": "$\\displaystyle - a^{2} b + a^{2} x - 2 a b x + 2 a x^{2} - b x^{2} + x^{3}$"
          },
          "metadata": {},
          "execution_count": 86
        }
      ]
    },
    {
      "cell_type": "code",
      "source": [
        "factor(symbolic_expanded)"
      ],
      "metadata": {
        "id": "NYU1vNnn5Mza",
        "outputId": "9537fb28-e5f7-4fcc-dd4d-7f87b89a02b6",
        "colab": {
          "base_uri": "https://localhost:8080/",
          "height": 39
        }
      },
      "execution_count": 87,
      "outputs": [
        {
          "output_type": "execute_result",
          "data": {
            "text/plain": [
              "       2         \n",
              "(a + x) ⋅(-b + x)"
            ],
            "text/latex": "$\\displaystyle \\left(a + x\\right)^{2} \\left(- b + x\\right)$"
          },
          "metadata": {},
          "execution_count": 87
        }
      ]
    },
    {
      "cell_type": "code",
      "source": [
        "p = expand((x - a**2)*(x + a + a**3))\n",
        "p"
      ],
      "metadata": {
        "id": "CW1rj42S5U2_",
        "outputId": "f57a0df2-025e-4024-e816-77e702d525e9",
        "colab": {
          "base_uri": "https://localhost:8080/",
          "height": 39
        }
      },
      "execution_count": 88,
      "outputs": [
        {
          "output_type": "execute_result",
          "data": {
            "text/plain": [
              "   5    3      3    2            2\n",
              "- a  + a ⋅x - a  - a ⋅x + a⋅x + x "
            ],
            "text/latex": "$\\displaystyle - a^{5} + a^{3} x - a^{3} - a^{2} x + a x + x^{2}$"
          },
          "metadata": {},
          "execution_count": 88
        }
      ]
    },
    {
      "cell_type": "code",
      "source": [
        "factor(p)"
      ],
      "metadata": {
        "id": "O7CzrkFS5ZjN",
        "outputId": "08b0637e-b80d-4b67-f9f4-4dd0020429bd",
        "colab": {
          "base_uri": "https://localhost:8080/",
          "height": 39
        }
      },
      "execution_count": 89,
      "outputs": [
        {
          "output_type": "execute_result",
          "data": {
            "text/plain": [
              "⎛   2    ⎞ ⎛ 3        ⎞\n",
              "⎝- a  + x⎠⋅⎝a  + a + x⎠"
            ],
            "text/latex": "$\\displaystyle \\left(- a^{2} + x\\right) \\left(a^{3} + a + x\\right)$"
          },
          "metadata": {},
          "execution_count": 89
        }
      ]
    },
    {
      "cell_type": "code",
      "source": [
        "cubed = x**3 - 1\n",
        "# roots() returns real and complex roots\n",
        "roots(cubed)"
      ],
      "metadata": {
        "id": "xU6d0_3c5g6K",
        "outputId": "badc5628-cdbb-4908-e0b8-4c8ea049f27e",
        "colab": {
          "base_uri": "https://localhost:8080/",
          "height": 68
        }
      },
      "execution_count": 90,
      "outputs": [
        {
          "output_type": "execute_result",
          "data": {
            "text/plain": [
              "⎧        1   √3⋅ⅈ       1   √3⋅ⅈ   ⎫\n",
              "⎨1: 1, - ─ - ────: 1, - ─ + ────: 1⎬\n",
              "⎩        2    2         2    2     ⎭"
            ],
            "text/latex": "$\\displaystyle \\left\\{ 1 : 1, \\  - \\frac{1}{2} - \\frac{\\sqrt{3} i}{2} : 1, \\  - \\frac{1}{2} + \\frac{\\sqrt{3} i}{2} : 1\\right\\}$"
          },
          "metadata": {},
          "execution_count": 90
        }
      ]
    },
    {
      "cell_type": "code",
      "source": [
        "real_roots(cubed)"
      ],
      "metadata": {
        "id": "BipSvYca5mIv",
        "outputId": "8f4e20a6-b1f0-4800-ea21-1261d0a6de91",
        "colab": {
          "base_uri": "https://localhost:8080/",
          "height": 37
        }
      },
      "execution_count": 91,
      "outputs": [
        {
          "output_type": "execute_result",
          "data": {
            "text/plain": [
              "[1]"
            ],
            "text/latex": "$\\displaystyle \\left[ 1\\right]$"
          },
          "metadata": {},
          "execution_count": 91
        }
      ]
    },
    {
      "cell_type": "code",
      "source": [
        "nroots(expression)"
      ],
      "metadata": {
        "id": "1l_Q-itp53y1",
        "outputId": "5f27dda3-c171-4eaf-c893-728ca6820fa2",
        "colab": {
          "base_uri": "https://localhost:8080/",
          "height": 39
        }
      },
      "execution_count": 95,
      "outputs": [
        {
          "output_type": "execute_result",
          "data": {
            "text/plain": [
              "[3.0, -2.0 - 4.18482169793536e-14⋅ⅈ, -2.0 + 4.55872552179222e-14⋅ⅈ]"
            ],
            "text/latex": "$\\displaystyle \\left[ 3.0, \\  -2.0 - 4.18482169793536 \\cdot 10^{-14} i, \\  -2.0 + 4.55872552179222 \\cdot 10^{-14} i\\right]$"
          },
          "metadata": {},
          "execution_count": 95
        }
      ]
    },
    {
      "cell_type": "code",
      "source": [
        "rq0, rq1, rq2, rq3 = roots(x**4 + 3*x**2 + 2*x + 1)\n",
        "rq0"
      ],
      "metadata": {
        "id": "OBrq7gxO54q1",
        "outputId": "0617b69f-8dab-4aa7-e5e0-d70b70da7718",
        "colab": {
          "base_uri": "https://localhost:8080/",
          "height": 98
        }
      },
      "execution_count": 96,
      "outputs": [
        {
          "output_type": "execute_result",
          "data": {
            "text/plain": [
              "            __________________________________________________________________\n",
              "           ╱            ______________                                        \n",
              "          ╱            ╱   1   √237⋅ⅈ                                4        \n",
              "         ╱   -4 - 2⋅3 ╱  - ─ + ──────  + ─────────────────────────────────────\n",
              "        ╱           ╲╱     8     36              _____________________________\n",
              "       ╱                                        ╱                             \n",
              "      ╱                                        ╱                7             \n",
              "     ╱                                        ╱   -2 + ──────────────────── + \n",
              "    ╱                                        ╱               ______________   \n",
              "   ╱                                        ╱               ╱   1   √237⋅ⅈ    \n",
              "  ╱                                        ╱           6⋅3 ╱  - ─ + ──────    \n",
              "╲╱                                       ╲╱              ╲╱     8     36      \n",
              "──────────────────────────────────────────────────────────────────────────────\n",
              "                                                             2                \n",
              "\n",
              "_____________________________________________                                 \n",
              "                                                                              \n",
              "                                 7                                            \n",
              "───────────────────── - ────────────────────                                  \n",
              "_____________________         ______________            ______________________\n",
              "      ______________         ╱   1   √237⋅ⅈ            ╱                      \n",
              "     ╱   1   √237⋅ⅈ     6⋅3 ╱  - ─ + ──────           ╱                7      \n",
              "2⋅3 ╱  - ─ + ──────       ╲╱     8     36            ╱   -2 + ────────────────\n",
              "  ╲╱     8     36                                   ╱               __________\n",
              "                                                   ╱               ╱   1   √23\n",
              "                                                  ╱           6⋅3 ╱  - ─ + ───\n",
              "                                                ╲╱              ╲╱     8     3\n",
              "───────────────────────────────────────────── - ──────────────────────────────\n",
              "                                                                            2 \n",
              "\n",
              "                            \n",
              "                            \n",
              "                            \n",
              "                            \n",
              "____________________________\n",
              "             ______________ \n",
              "            ╱   1   √237⋅ⅈ  \n",
              "──── + 2⋅3 ╱  - ─ + ──────  \n",
              "____     ╲╱     8     36    \n",
              "7⋅ⅈ                         \n",
              "───                         \n",
              "6                           \n",
              "────────────────────────────\n",
              "                            "
            ],
            "text/latex": "$\\displaystyle \\frac{\\sqrt{-4 - 2 \\sqrt[3]{- \\frac{1}{8} + \\frac{\\sqrt{237} i}{36}} + \\frac{4}{\\sqrt{-2 + \\frac{7}{6 \\sqrt[3]{- \\frac{1}{8} + \\frac{\\sqrt{237} i}{36}}} + 2 \\sqrt[3]{- \\frac{1}{8} + \\frac{\\sqrt{237} i}{36}}}} - \\frac{7}{6 \\sqrt[3]{- \\frac{1}{8} + \\frac{\\sqrt{237} i}{36}}}}}{2} - \\frac{\\sqrt{-2 + \\frac{7}{6 \\sqrt[3]{- \\frac{1}{8} + \\frac{\\sqrt{237} i}{36}}} + 2 \\sqrt[3]{- \\frac{1}{8} + \\frac{\\sqrt{237} i}{36}}}}{2}$"
          },
          "metadata": {},
          "execution_count": 96
        }
      ]
    },
    {
      "cell_type": "code",
      "source": [
        "rq0.n()"
      ],
      "metadata": {
        "id": "7ZLX05yy54kJ",
        "outputId": "0cfa1820-486a-47cb-b61d-bf9f9c6e0166",
        "colab": {
          "base_uri": "https://localhost:8080/",
          "height": 39
        }
      },
      "execution_count": 97,
      "outputs": [
        {
          "output_type": "execute_result",
          "data": {
            "text/plain": [
              "-0.349745826211722 - 0.438990337475312⋅ⅈ"
            ],
            "text/latex": "$\\displaystyle -0.349745826211722 - 0.438990337475312 i$"
          },
          "metadata": {},
          "execution_count": 97
        }
      ]
    },
    {
      "cell_type": "code",
      "source": [
        "expression_complex = (x**2+4)**2 * (x-3)\n",
        "solve(expression_complex, x, dict=True)"
      ],
      "metadata": {
        "id": "Nt119-kY54b1",
        "outputId": "374ca573-d4c2-4490-a014-f9f90a16d74b",
        "colab": {
          "base_uri": "https://localhost:8080/",
          "height": 39
        }
      },
      "execution_count": 98,
      "outputs": [
        {
          "output_type": "execute_result",
          "data": {
            "text/plain": [
              "[{x: 3}, {x: -2⋅ⅈ}, {x: 2⋅ⅈ}]"
            ],
            "text/latex": "$\\displaystyle \\left[ \\left\\{ x : 3\\right\\}, \\  \\left\\{ x : - 2 i\\right\\}, \\  \\left\\{ x : 2 i\\right\\}\\right]$"
          },
          "metadata": {},
          "execution_count": 98
        }
      ]
    },
    {
      "cell_type": "code",
      "source": [
        "a = Symbol(\"a\", positive=True)\n",
        "symbolic_complex = (x**2+a)**2 * (x-3)\n",
        "solve(symbolic_complex, x, dict=True)"
      ],
      "metadata": {
        "id": "Og_AtXE67FFM",
        "outputId": "04fe8cf6-fa6f-4573-b952-4cc9a94e07e3",
        "colab": {
          "base_uri": "https://localhost:8080/",
          "height": 39
        }
      },
      "execution_count": 99,
      "outputs": [
        {
          "output_type": "execute_result",
          "data": {
            "text/plain": [
              "[{x: 3}, {x: -ⅈ⋅√a}, {x: ⅈ⋅√a}]"
            ],
            "text/latex": "$\\displaystyle \\left[ \\left\\{ x : 3\\right\\}, \\  \\left\\{ x : - i \\sqrt{a}\\right\\}, \\  \\left\\{ x : i \\sqrt{a}\\right\\}\\right]$"
          },
          "metadata": {},
          "execution_count": 99
        }
      ]
    },
    {
      "cell_type": "code",
      "source": [
        "roots(expression_complex, x)"
      ],
      "metadata": {
        "id": "3Ce1vY8d7E23",
        "outputId": "a5c8093b-6deb-4903-8f97-8cd63d5da636",
        "colab": {
          "base_uri": "https://localhost:8080/",
          "height": 39
        }
      },
      "execution_count": 100,
      "outputs": [
        {
          "output_type": "execute_result",
          "data": {
            "text/plain": [
              "{3: 1, -2⋅ⅈ: 2, 2⋅ⅈ: 2}"
            ],
            "text/latex": "$\\displaystyle \\left\\{ 3 : 1, \\  - 2 i : 2, \\  2 i : 2\\right\\}$"
          },
          "metadata": {},
          "execution_count": 100
        }
      ]
    },
    {
      "cell_type": "code",
      "source": [
        "[RootOf(expression_complex, n) for n in range(0,3)]   #will also return complex roots:"
      ],
      "metadata": {
        "id": "ccQb3DBN7Wc0",
        "outputId": "4e7b0b56-2074-41d6-d9ee-6094da5cc5c6",
        "colab": {
          "base_uri": "https://localhost:8080/",
          "height": 39
        }
      },
      "execution_count": 101,
      "outputs": [
        {
          "output_type": "execute_result",
          "data": {
            "text/plain": [
              "[3, -2⋅ⅈ, -2⋅ⅈ]"
            ],
            "text/latex": "$\\displaystyle \\left[ 3, \\  - 2 i, \\  - 2 i\\right]$"
          },
          "metadata": {},
          "execution_count": 101
        }
      ]
    },
    {
      "cell_type": "code",
      "source": [
        "real_roots(expression_complex)  #will return only the real roots."
      ],
      "metadata": {
        "id": "OQ3YHvJV7WYY",
        "outputId": "a01c4d89-5c16-4b6b-e6e3-d3ac25b43508",
        "colab": {
          "base_uri": "https://localhost:8080/",
          "height": 37
        }
      },
      "execution_count": 102,
      "outputs": [
        {
          "output_type": "execute_result",
          "data": {
            "text/plain": [
              "[3]"
            ],
            "text/latex": "$\\displaystyle \\left[ 3\\right]$"
          },
          "metadata": {},
          "execution_count": 102
        }
      ]
    },
    {
      "cell_type": "code",
      "source": [
        "expression_complex_poly = Poly(expression_complex)\n",
        "expression_complex_poly.all_roots()"
      ],
      "metadata": {
        "id": "Q2Suf69_7WUv",
        "outputId": "6d0d8295-5da3-42c0-8129-0446f86392e9",
        "colab": {
          "base_uri": "https://localhost:8080/",
          "height": 39
        }
      },
      "execution_count": 103,
      "outputs": [
        {
          "output_type": "execute_result",
          "data": {
            "text/plain": [
              "[3, -2⋅ⅈ, -2⋅ⅈ, 2⋅ⅈ, 2⋅ⅈ]"
            ],
            "text/latex": "$\\displaystyle \\left[ 3, \\  - 2 i, \\  - 2 i, \\  2 i, \\  2 i\\right]$"
          },
          "metadata": {},
          "execution_count": 103
        }
      ]
    },
    {
      "cell_type": "code",
      "source": [
        "expression = (x+2)**2 * (x-3)\n",
        "my_real_roots = real_roots(expression)\n",
        "my_real_roots"
      ],
      "metadata": {
        "id": "a0iQoBAC7WIE",
        "outputId": "931d599c-de41-4da4-bf4a-257ff068bd53",
        "colab": {
          "base_uri": "https://localhost:8080/",
          "height": 37
        }
      },
      "execution_count": 104,
      "outputs": [
        {
          "output_type": "execute_result",
          "data": {
            "text/plain": [
              "[-2, -2, 3]"
            ],
            "text/latex": "$\\displaystyle \\left[ -2, \\  -2, \\  3\\right]$"
          },
          "metadata": {},
          "execution_count": 104
        }
      ]
    },
    {
      "cell_type": "code",
      "source": [
        "for root in my_real_roots:\n",
        "        print(f\"expression({root}) = {expression.subs(x, root)}\")"
      ],
      "metadata": {
        "id": "rWg6pe2W8pE6",
        "outputId": "b5be1ef4-c119-4c6c-eed8-fc8fcb6a0af3",
        "colab": {
          "base_uri": "https://localhost:8080/"
        }
      },
      "execution_count": 105,
      "outputs": [
        {
          "output_type": "stream",
          "name": "stdout",
          "text": [
            "expression(-2) = 0\n",
            "expression(-2) = 0\n",
            "expression(3) = 0\n"
          ]
        }
      ]
    },
    {
      "cell_type": "code",
      "source": [
        "my_roots = roots(expression)\n",
        "my_roots"
      ],
      "metadata": {
        "id": "yvqk9hJJ8_KO",
        "outputId": "d6e9a849-4036-4cc6-ce62-0a4980ff30c0",
        "colab": {
          "base_uri": "https://localhost:8080/",
          "height": 37
        }
      },
      "execution_count": 106,
      "outputs": [
        {
          "output_type": "execute_result",
          "data": {
            "text/plain": [
              "{-2: 2, 3: 1}"
            ],
            "text/latex": "$\\displaystyle \\left\\{ -2 : 2, \\  3 : 1\\right\\}$"
          },
          "metadata": {},
          "execution_count": 106
        }
      ]
    },
    {
      "cell_type": "code",
      "source": [
        "for root, multiplicity in my_roots.items():\n",
        "    print(f\"Root {root} has multiplicity of {multiplicity}\")"
      ],
      "metadata": {
        "id": "Qte-WNi48_FS",
        "outputId": "12c9099b-9963-4730-9039-f6a288f771eb",
        "colab": {
          "base_uri": "https://localhost:8080/"
        }
      },
      "execution_count": 107,
      "outputs": [
        {
          "output_type": "stream",
          "name": "stdout",
          "text": [
            "Root 3 has multiplicity of 1\n",
            "Root -2 has multiplicity of 2\n"
          ]
        }
      ]
    },
    {
      "cell_type": "code",
      "source": [
        "factored = factor(expression_expanded)\n",
        "factored"
      ],
      "metadata": {
        "id": "emXQ0gx48_AE",
        "outputId": "1749f2fc-204f-43f8-edd1-ac9c4737f287",
        "colab": {
          "base_uri": "https://localhost:8080/",
          "height": 39
        }
      },
      "execution_count": 108,
      "outputs": [
        {
          "output_type": "execute_result",
          "data": {
            "text/plain": [
              "               2\n",
              "(x - 3)⋅(x + 2) "
            ],
            "text/latex": "$\\displaystyle \\left(x - 3\\right) \\left(x + 2\\right)^{2}$"
          },
          "metadata": {},
          "execution_count": 108
        }
      ]
    },
    {
      "cell_type": "code",
      "source": [
        "from sympy.abc import y\n",
        "factored.subs(x, 2*y)"
      ],
      "metadata": {
        "id": "5zCD6VdV8-7J",
        "outputId": "2bcda960-b574-496c-e989-624f478bef61",
        "colab": {
          "base_uri": "https://localhost:8080/",
          "height": 39
        }
      },
      "execution_count": 110,
      "outputs": [
        {
          "output_type": "execute_result",
          "data": {
            "text/plain": [
              "                   2\n",
              "(2⋅y - 3)⋅(2⋅y + 2) "
            ],
            "text/latex": "$\\displaystyle \\left(2 y - 3\\right) \\left(2 y + 2\\right)^{2}$"
          },
          "metadata": {},
          "execution_count": 110
        }
      ]
    },
    {
      "cell_type": "code",
      "source": [
        "factored.subs(x, 7)"
      ],
      "metadata": {
        "id": "EH_U6smU9cfu",
        "outputId": "ae633b55-1616-4fe0-9a7a-6fc27320389a",
        "colab": {
          "base_uri": "https://localhost:8080/",
          "height": 37
        }
      },
      "execution_count": 111,
      "outputs": [
        {
          "output_type": "execute_result",
          "data": {
            "text/plain": [
              "324"
            ],
            "text/latex": "$\\displaystyle 324$"
          },
          "metadata": {},
          "execution_count": 111
        }
      ]
    },
    {
      "cell_type": "code",
      "source": [
        "from sympy.abc import x\n",
        "fifth_order = x**5 - x + 1\n",
        "nroots(fifth_order)"
      ],
      "metadata": {
        "id": "TMNwrYNa9o3W",
        "outputId": "1268c1aa-a104-462e-90ed-af7d576a67d8",
        "colab": {
          "base_uri": "https://localhost:8080/",
          "height": 59
        }
      },
      "execution_count": 112,
      "outputs": [
        {
          "output_type": "execute_result",
          "data": {
            "text/plain": [
              "[-1.16730397826142, -0.181232444469875 - 1.08395410131771⋅ⅈ, -0.18123244446987\n",
              "5 + 1.08395410131771⋅ⅈ, 0.764884433600585 - 0.352471546031726⋅ⅈ, 0.76488443360\n",
              "0585 + 0.352471546031726⋅ⅈ]"
            ],
            "text/latex": "$\\displaystyle \\left[ -1.16730397826142, \\  -0.181232444469875 - 1.08395410131771 i, \\  -0.181232444469875 + 1.08395410131771 i, \\  0.764884433600585 - 0.352471546031726 i, \\  0.764884433600585 + 0.352471546031726 i\\right]$"
          },
          "metadata": {},
          "execution_count": 112
        }
      ]
    },
    {
      "cell_type": "code",
      "source": [
        "roots(fifth_order, x)"
      ],
      "metadata": {
        "id": "8tkN7H9K9ozc",
        "outputId": "1ff64342-ee4f-4d2f-9344-8134f132cb57",
        "colab": {
          "base_uri": "https://localhost:8080/",
          "height": 37
        }
      },
      "execution_count": 113,
      "outputs": [
        {
          "output_type": "execute_result",
          "data": {
            "text/plain": [
              "{}"
            ],
            "text/latex": "$\\displaystyle \\left\\{ \\right\\}$"
          },
          "metadata": {},
          "execution_count": 113
        }
      ]
    },
    {
      "cell_type": "code",
      "source": [
        "from sympy.matrices import Matrix\n",
        "c, d, e = symbols(\"c, d, e\")\n",
        "A = Matrix([[c,d], [1, -e]])\n",
        "A"
      ],
      "metadata": {
        "id": "Mcs32IRq9otm",
        "outputId": "573147cb-4944-490c-93e5-1c6f911fe249",
        "colab": {
          "base_uri": "https://localhost:8080/",
          "height": 58
        }
      },
      "execution_count": 114,
      "outputs": [
        {
          "output_type": "execute_result",
          "data": {
            "text/plain": [
              "⎡c  d ⎤\n",
              "⎢     ⎥\n",
              "⎣1  -e⎦"
            ],
            "text/latex": "$\\displaystyle \\left[\\begin{matrix}c & d\\\\1 & - e\\end{matrix}\\right]$"
          },
          "metadata": {},
          "execution_count": 114
        }
      ]
    },
    {
      "cell_type": "code",
      "source": [
        "b = Matrix([2, 0])\n",
        "b"
      ],
      "metadata": {
        "id": "KwHbMHQO-Ph1",
        "outputId": "c31ba2a0-0a01-46df-b4ab-a990250dcc97",
        "colab": {
          "base_uri": "https://localhost:8080/",
          "height": 58
        }
      },
      "execution_count": 115,
      "outputs": [
        {
          "output_type": "execute_result",
          "data": {
            "text/plain": [
              "⎡2⎤\n",
              "⎢ ⎥\n",
              "⎣0⎦"
            ],
            "text/latex": "$\\displaystyle \\left[\\begin{matrix}2\\\\0\\end{matrix}\\right]$"
          },
          "metadata": {},
          "execution_count": 115
        }
      ]
    },
    {
      "cell_type": "code",
      "source": [
        "A.solve(b)"
      ],
      "metadata": {
        "id": "JpY5MNnm-Pea",
        "outputId": "5f866219-dcc6-4322-822a-4ab41288270b",
        "colab": {
          "base_uri": "https://localhost:8080/",
          "height": 59
        }
      },
      "execution_count": 116,
      "outputs": [
        {
          "output_type": "execute_result",
          "data": {
            "text/plain": [
              "⎡  2⋅e  ⎤\n",
              "⎢───────⎥\n",
              "⎢c⋅e + d⎥\n",
              "⎢       ⎥\n",
              "⎢   2   ⎥\n",
              "⎢───────⎥\n",
              "⎣c⋅e + d⎦"
            ],
            "text/latex": "$\\displaystyle \\left[\\begin{matrix}\\frac{2 e}{c e + d}\\\\\\frac{2}{c e + d}\\end{matrix}\\right]$"
          },
          "metadata": {},
          "execution_count": 116
        }
      ]
    },
    {
      "cell_type": "code",
      "source": [],
      "metadata": {
        "id": "Kwhu3z_5-PZ9"
      },
      "execution_count": null,
      "outputs": []
    },
    {
      "cell_type": "code",
      "source": [],
      "metadata": {
        "id": "GqoSSQtc-PUS"
      },
      "execution_count": null,
      "outputs": []
    }
  ]
}