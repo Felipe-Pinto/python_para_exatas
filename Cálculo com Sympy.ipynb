{
  "nbformat": 4,
  "nbformat_minor": 0,
  "metadata": {
    "colab": {
      "provenance": [],
      "authorship_tag": "ABX9TyPKg0WOju8cGRQaO1DoSFjy",
      "include_colab_link": true
    },
    "kernelspec": {
      "name": "python3",
      "display_name": "Python 3"
    },
    "language_info": {
      "name": "python"
    }
  },
  "cells": [
    {
      "cell_type": "markdown",
      "metadata": {
        "id": "view-in-github",
        "colab_type": "text"
      },
      "source": [
        "<a href=\"https://colab.research.google.com/github/Felipe-Pinto/python_para_exatas/blob/main/C%C3%A1lculo%20com%20Sympy.ipynb\" target=\"_parent\"><img src=\"https://colab.research.google.com/assets/colab-badge.svg\" alt=\"Open In Colab\"/></a>"
      ]
    },
    {
      "cell_type": "code",
      "execution_count": 1,
      "metadata": {
        "id": "umnArAsh7crp"
      },
      "outputs": [],
      "source": [
        "from sympy import *\n",
        "import numpy as np\n",
        "import matplotlib.pyplot as plt"
      ]
    },
    {
      "cell_type": "code",
      "source": [
        "init_printing(pretty_print = True)"
      ],
      "metadata": {
        "id": "Fw4WBjff7yhL"
      },
      "execution_count": 2,
      "outputs": []
    },
    {
      "cell_type": "code",
      "source": [
        "x = Symbol('x')\n",
        "y = Function('F')"
      ],
      "metadata": {
        "id": "_BFELdbQ8IOe"
      },
      "execution_count": 3,
      "outputs": []
    },
    {
      "cell_type": "code",
      "source": [
        "x**2+sin(x)"
      ],
      "metadata": {
        "colab": {
          "base_uri": "https://localhost:8080/",
          "height": 39
        },
        "id": "JdS1XCjx_PgD",
        "outputId": "94fa0c34-3935-4e41-ff09-68ee0da056f3"
      },
      "execution_count": 4,
      "outputs": [
        {
          "output_type": "execute_result",
          "data": {
            "text/plain": [
              " 2         \n",
              "x  + sin(x)"
            ],
            "text/latex": "$\\displaystyle x^{2} + \\sin{\\left(x \\right)}$"
          },
          "metadata": {},
          "execution_count": 4
        }
      ]
    },
    {
      "cell_type": "code",
      "source": [
        "Eq1=x**2+sin(x)"
      ],
      "metadata": {
        "id": "e_dQrkTF_bVS"
      },
      "execution_count": 5,
      "outputs": []
    },
    {
      "cell_type": "code",
      "source": [
        "(Eq1).diff(x)"
      ],
      "metadata": {
        "colab": {
          "base_uri": "https://localhost:8080/",
          "height": 39
        },
        "id": "DbZ1Mk0O_iEQ",
        "outputId": "7acb3465-b07d-4996-c01b-22b05dba5e3a"
      },
      "execution_count": 6,
      "outputs": [
        {
          "output_type": "execute_result",
          "data": {
            "text/plain": [
              "2⋅x + cos(x)"
            ],
            "text/latex": "$\\displaystyle 2 x + \\cos{\\left(x \\right)}$"
          },
          "metadata": {},
          "execution_count": 6
        }
      ]
    },
    {
      "cell_type": "code",
      "source": [
        "(Eq1).diff(x,2)"
      ],
      "metadata": {
        "colab": {
          "base_uri": "https://localhost:8080/",
          "height": 39
        },
        "id": "Zr5-y1iD_vRO",
        "outputId": "d81508de-e850-4cf6-abc4-c72d959fe10e"
      },
      "execution_count": 7,
      "outputs": [
        {
          "output_type": "execute_result",
          "data": {
            "text/plain": [
              "2 - sin(x)"
            ],
            "text/latex": "$\\displaystyle 2 - \\sin{\\left(x \\right)}$"
          },
          "metadata": {},
          "execution_count": 7
        }
      ]
    },
    {
      "cell_type": "code",
      "source": [
        "Derivative(Eq1)   #Para visualizar"
      ],
      "metadata": {
        "colab": {
          "base_uri": "https://localhost:8080/",
          "height": 52
        },
        "id": "FQhStZRw_23x",
        "outputId": "186de0f2-c29e-4f8d-83b6-b21022105107"
      },
      "execution_count": 8,
      "outputs": [
        {
          "output_type": "execute_result",
          "data": {
            "text/plain": [
              "d ⎛ 2         ⎞\n",
              "──⎝x  + sin(x)⎠\n",
              "dx             "
            ],
            "text/latex": "$\\displaystyle \\frac{d}{d x} \\left(x^{2} + \\sin{\\left(x \\right)}\\right)$"
          },
          "metadata": {},
          "execution_count": 8
        }
      ]
    },
    {
      "cell_type": "code",
      "source": [
        "Derivative(Eq1).doit()  #Para resolver"
      ],
      "metadata": {
        "colab": {
          "base_uri": "https://localhost:8080/",
          "height": 39
        },
        "id": "rSbsktIdAI7s",
        "outputId": "1002987b-82e8-4669-ac9f-9ca24f638030"
      },
      "execution_count": 9,
      "outputs": [
        {
          "output_type": "execute_result",
          "data": {
            "text/plain": [
              "2⋅x + cos(x)"
            ],
            "text/latex": "$\\displaystyle 2 x + \\cos{\\left(x \\right)}$"
          },
          "metadata": {},
          "execution_count": 9
        }
      ]
    },
    {
      "cell_type": "code",
      "source": [
        "integrate(Eq1)"
      ],
      "metadata": {
        "colab": {
          "base_uri": "https://localhost:8080/",
          "height": 54
        },
        "id": "wF6x-XLtAcZv",
        "outputId": "2858dfe2-42cc-41c2-a65b-5540626edde7"
      },
      "execution_count": 10,
      "outputs": [
        {
          "output_type": "execute_result",
          "data": {
            "text/plain": [
              " 3         \n",
              "x          \n",
              "── - cos(x)\n",
              "3          "
            ],
            "text/latex": "$\\displaystyle \\frac{x^{3}}{3} - \\cos{\\left(x \\right)}$"
          },
          "metadata": {},
          "execution_count": 10
        }
      ]
    },
    {
      "cell_type": "code",
      "source": [
        "Integral(Eq1)   #Para visualizar"
      ],
      "metadata": {
        "colab": {
          "base_uri": "https://localhost:8080/",
          "height": 55
        },
        "id": "a-hDVjvvAb7p",
        "outputId": "bcf3cfe2-1557-4e31-9a70-0bf36fb51310"
      },
      "execution_count": 11,
      "outputs": [
        {
          "output_type": "execute_result",
          "data": {
            "text/plain": [
              "⌠                 \n",
              "⎮ ⎛ 2         ⎞   \n",
              "⎮ ⎝x  + sin(x)⎠ dx\n",
              "⌡                 "
            ],
            "text/latex": "$\\displaystyle \\int \\left(x^{2} + \\sin{\\left(x \\right)}\\right)\\, dx$"
          },
          "metadata": {},
          "execution_count": 11
        }
      ]
    },
    {
      "cell_type": "code",
      "source": [
        "Integral(Eq1).doit()  #Para resolver"
      ],
      "metadata": {
        "colab": {
          "base_uri": "https://localhost:8080/",
          "height": 54
        },
        "id": "XUrNi44EBP5U",
        "outputId": "f0a455ee-673c-41a4-f415-2c3837c13a84"
      },
      "execution_count": 12,
      "outputs": [
        {
          "output_type": "execute_result",
          "data": {
            "text/plain": [
              " 3         \n",
              "x          \n",
              "── - cos(x)\n",
              "3          "
            ],
            "text/latex": "$\\displaystyle \\frac{x^{3}}{3} - \\cos{\\left(x \\right)}$"
          },
          "metadata": {},
          "execution_count": 12
        }
      ]
    },
    {
      "cell_type": "code",
      "source": [
        "Eq2=x**2+sin(x)*exp(x)+2"
      ],
      "metadata": {
        "id": "Rq-6-HchCcRl"
      },
      "execution_count": 13,
      "outputs": []
    },
    {
      "cell_type": "code",
      "source": [
        "Integral(Eq2)"
      ],
      "metadata": {
        "colab": {
          "base_uri": "https://localhost:8080/",
          "height": 55
        },
        "id": "nn57jpUoC2k4",
        "outputId": "60d21b7f-00f6-47c9-f70d-9e4387ea93a1"
      },
      "execution_count": 14,
      "outputs": [
        {
          "output_type": "execute_result",
          "data": {
            "text/plain": [
              "⌠                        \n",
              "⎮ ⎛ 2    x           ⎞   \n",
              "⎮ ⎝x  + ℯ ⋅sin(x) + 2⎠ dx\n",
              "⌡                        "
            ],
            "text/latex": "$\\displaystyle \\int \\left(x^{2} + e^{x} \\sin{\\left(x \\right)} + 2\\right)\\, dx$"
          },
          "metadata": {},
          "execution_count": 14
        }
      ]
    },
    {
      "cell_type": "code",
      "source": [
        "Integral(Eq2).doit()  #Para resolver"
      ],
      "metadata": {
        "colab": {
          "base_uri": "https://localhost:8080/",
          "height": 54
        },
        "id": "MNr0Lc4yC2bE",
        "outputId": "c44737d0-49b6-47a1-b23f-9c3e70ee1fa2"
      },
      "execution_count": 15,
      "outputs": [
        {
          "output_type": "execute_result",
          "data": {
            "text/plain": [
              " 3          x           x       \n",
              "x          ℯ ⋅sin(x)   ℯ ⋅cos(x)\n",
              "── + 2⋅x + ───────── - ─────────\n",
              "3              2           2    "
            ],
            "text/latex": "$\\displaystyle \\frac{x^{3}}{3} + 2 x + \\frac{e^{x} \\sin{\\left(x \\right)}}{2} - \\frac{e^{x} \\cos{\\left(x \\right)}}{2}$"
          },
          "metadata": {},
          "execution_count": 15
        }
      ]
    },
    {
      "cell_type": "code",
      "source": [
        "y(x)"
      ],
      "metadata": {
        "colab": {
          "base_uri": "https://localhost:8080/",
          "height": 39
        },
        "id": "B5YHHwkh8h6Z",
        "outputId": "a6c809b9-f23c-43c8-f47c-e26c497c3cf7"
      },
      "execution_count": 16,
      "outputs": [
        {
          "output_type": "execute_result",
          "data": {
            "text/plain": [
              "F(x)"
            ],
            "text/latex": "$\\displaystyle F{\\left(x \\right)}$"
          },
          "metadata": {},
          "execution_count": 16
        }
      ]
    },
    {
      "cell_type": "code",
      "source": [],
      "metadata": {
        "id": "KaTOZ4R40kCt"
      },
      "execution_count": 16,
      "outputs": []
    },
    {
      "cell_type": "code",
      "source": [
        "Eq(x**2-2*x+1,6)"
      ],
      "metadata": {
        "colab": {
          "base_uri": "https://localhost:8080/",
          "height": 39
        },
        "id": "KjQA_NfI82B9",
        "outputId": "33e3e2ba-514d-4e40-824d-693a2c4c14ec"
      },
      "execution_count": 17,
      "outputs": [
        {
          "output_type": "execute_result",
          "data": {
            "text/plain": [
              " 2              \n",
              "x  - 2⋅x + 1 = 6"
            ],
            "text/latex": "$\\displaystyle x^{2} - 2 x + 1 = 6$"
          },
          "metadata": {},
          "execution_count": 17
        }
      ]
    },
    {
      "cell_type": "code",
      "source": [
        "Eq(y(x).diff(x)+y(x),3)"
      ],
      "metadata": {
        "colab": {
          "base_uri": "https://localhost:8080/",
          "height": 52
        },
        "id": "rja80OZ99Q63",
        "outputId": "4477499b-0eb2-4835-9f76-d5cbe42b0529"
      },
      "execution_count": 18,
      "outputs": [
        {
          "output_type": "execute_result",
          "data": {
            "text/plain": [
              "       d           \n",
              "F(x) + ──(F(x)) = 3\n",
              "       dx          "
            ],
            "text/latex": "$\\displaystyle F{\\left(x \\right)} + \\frac{d}{d x} F{\\left(x \\right)} = 3$"
          },
          "metadata": {},
          "execution_count": 18
        }
      ]
    },
    {
      "cell_type": "code",
      "source": [
        "Eq3 = Eq(x**2-2*x+1,6)"
      ],
      "metadata": {
        "id": "almdwXFG9uUR"
      },
      "execution_count": 19,
      "outputs": []
    },
    {
      "cell_type": "code",
      "source": [
        "solve(Eq3,x)"
      ],
      "metadata": {
        "colab": {
          "base_uri": "https://localhost:8080/",
          "height": 48
        },
        "id": "WYS3UAyW9y34",
        "outputId": "c57cdb50-d7ab-4df6-d0f9-b171238a823d"
      },
      "execution_count": 20,
      "outputs": [
        {
          "output_type": "execute_result",
          "data": {
            "text/plain": [
              "[1 - √6, 1 + √6]"
            ],
            "text/latex": "$\\displaystyle \\left[ 1 - \\sqrt{6}, \\  1 + \\sqrt{6}\\right]$"
          },
          "metadata": {},
          "execution_count": 20
        }
      ]
    },
    {
      "cell_type": "code",
      "source": [
        "EDO = Eq(y(x).diff(x)+y(x),3)"
      ],
      "metadata": {
        "id": "x-2IDijq9zK9"
      },
      "execution_count": 21,
      "outputs": []
    },
    {
      "cell_type": "code",
      "source": [
        "dsolve(EDO,y(x))"
      ],
      "metadata": {
        "colab": {
          "base_uri": "https://localhost:8080/",
          "height": 39
        },
        "id": "sT-BfEgZ9zTb",
        "outputId": "de45e8b6-4dba-4beb-e5e2-16df97b893a4"
      },
      "execution_count": 22,
      "outputs": [
        {
          "output_type": "execute_result",
          "data": {
            "text/plain": [
              "           -x    \n",
              "F(x) = C₁⋅ℯ   + 3"
            ],
            "text/latex": "$\\displaystyle F{\\left(x \\right)} = C_{1} e^{- x} + 3$"
          },
          "metadata": {},
          "execution_count": 22
        }
      ]
    },
    {
      "cell_type": "code",
      "source": [
        "f = x**3 + x**2 - x\n",
        "derivative = diff(f, x)\n",
        "critical_points = solve(derivative, x, dict=True)\n",
        "print(critical_points)"
      ],
      "metadata": {
        "id": "PYBmNYaz_FNd",
        "colab": {
          "base_uri": "https://localhost:8080/"
        },
        "outputId": "dc6ae062-25d5-47e9-c2d7-3d6fffabe01e"
      },
      "execution_count": 23,
      "outputs": [
        {
          "output_type": "stream",
          "name": "stdout",
          "text": [
            "[{x: -1}, {x: 1/3}]\n"
          ]
        }
      ]
    },
    {
      "cell_type": "code",
      "source": [
        "point1, point2 = critical_points\n",
        "\n",
        "print(f.subs(point1))\n",
        "print(f.subs(point2))"
      ],
      "metadata": {
        "id": "qmWbnuhC_FVw",
        "colab": {
          "base_uri": "https://localhost:8080/"
        },
        "outputId": "1c21dcd5-1a56-4442-d0b1-75ec5e799700"
      },
      "execution_count": 24,
      "outputs": [
        {
          "output_type": "stream",
          "name": "stdout",
          "text": [
            "1\n",
            "-5/27\n"
          ]
        }
      ]
    },
    {
      "cell_type": "code",
      "source": [
        "curvature = diff(f, x, 2)\n",
        "\n",
        "print(curvature.subs(point1))\n",
        "print(curvature.subs(point2))"
      ],
      "metadata": {
        "colab": {
          "base_uri": "https://localhost:8080/"
        },
        "id": "iIo7AxDkoQmF",
        "outputId": "df887bad-dcfe-4b03-ffd5-225cb60132b0"
      },
      "execution_count": 25,
      "outputs": [
        {
          "output_type": "stream",
          "name": "stdout",
          "text": [
            "-4\n",
            "4\n"
          ]
        }
      ]
    },
    {
      "cell_type": "code",
      "source": [
        "#\n",
        "nsolve(cos(x) - x, x, 1)"
      ],
      "metadata": {
        "colab": {
          "base_uri": "https://localhost:8080/",
          "height": 37
        },
        "id": "OKbLFybdoQwx",
        "outputId": "85c75d23-25e9-4644-ec73-bc1f68eef9ea"
      },
      "execution_count": 26,
      "outputs": [
        {
          "output_type": "execute_result",
          "data": {
            "text/plain": [
              "0.739085133215161"
            ],
            "text/latex": "$\\displaystyle 0.739085133215161$"
          },
          "metadata": {},
          "execution_count": 26
        }
      ]
    },
    {
      "cell_type": "code",
      "source": [
        "nsolve(x**2 + 2, I) # Imaginary initial point returns a complex root"
      ],
      "metadata": {
        "colab": {
          "base_uri": "https://localhost:8080/",
          "height": 39
        },
        "id": "o6KaMmP0oQ84",
        "outputId": "203bdceb-f483-437d-ac9f-c018d525eed9"
      },
      "execution_count": 27,
      "outputs": [
        {
          "output_type": "execute_result",
          "data": {
            "text/plain": [
              "1.4142135623731⋅ⅈ"
            ],
            "text/latex": "$\\displaystyle 1.4142135623731 i$"
          },
          "metadata": {},
          "execution_count": 27
        }
      ]
    },
    {
      "cell_type": "code",
      "source": [
        "nsolve(x**2 - 1, (-10, 0), solver='bisect')"
      ],
      "metadata": {
        "id": "nHGQpb_q_FbE",
        "colab": {
          "base_uri": "https://localhost:8080/",
          "height": 37
        },
        "outputId": "50704f2a-1013-4080-b82f-7a1d429eda50"
      },
      "execution_count": 28,
      "outputs": [
        {
          "output_type": "execute_result",
          "data": {
            "text/plain": [
              "-1.00000000000000"
            ],
            "text/latex": "$\\displaystyle -1.0$"
          },
          "metadata": {},
          "execution_count": 28
        }
      ]
    },
    {
      "cell_type": "markdown",
      "source": [
        "\n",
        "    functions (f1, f2)\n",
        "    variables to solve for (x1, x2)\n",
        "    starting values (-1, 1)"
      ],
      "metadata": {
        "id": "sjOC_vnCsB5Q"
      }
    },
    {
      "cell_type": "code",
      "source": [
        "x1 = Symbol('x1')\n",
        "x2 = Symbol('x2')\n",
        "f1 = 3 * x1**2 - 2 * x2**2 - 1\n",
        "f2 = x1**2 - 2 * x1 + x2**2 + 2 * x2 - 8\n",
        "print(nsolve((f1, f2), (x1, x2), (-1, 1),prec=15))"
      ],
      "metadata": {
        "colab": {
          "base_uri": "https://localhost:8080/"
        },
        "id": "M4eyHMSiq0kd",
        "outputId": "f90692d4-795c-4adf-9a0b-5df03e5db6b6"
      },
      "execution_count": 29,
      "outputs": [
        {
          "output_type": "stream",
          "name": "stdout",
          "text": [
            "Matrix([[-1.19287309935246], [1.27844411169911]])\n"
          ]
        }
      ]
    },
    {
      "cell_type": "code",
      "source": [
        "f, g = symbols(\"f g\", cls=Function)\n",
        "x = symbols(\"x\")\n",
        "eqs = [Eq(f(x).diff(x), g(x)), Eq(g(x).diff(x), f(x))]\n",
        "dsolve(eqs, [f(x), g(x)])\n",
        "dsolve(eqs, [f(x), g(x)], ics={f(0): 1, g(2): 3})"
      ],
      "metadata": {
        "colab": {
          "base_uri": "https://localhost:8080/",
          "height": 68
        },
        "id": "TCFs5xzbq0pA",
        "outputId": "27b95879-730c-4c72-8978-f65426d33188"
      },
      "execution_count": 30,
      "outputs": [
        {
          "output_type": "execute_result",
          "data": {
            "text/plain": [
              "⎡       ⎛       2⎞  x   ⎛   4      2⎞  -x         ⎛       2⎞  x   ⎛   4      2\n",
              "⎢       ⎝1 + 3⋅ℯ ⎠⋅ℯ    ⎝- ℯ  + 3⋅ℯ ⎠⋅ℯ           ⎝1 + 3⋅ℯ ⎠⋅ℯ    ⎝- ℯ  + 3⋅ℯ \n",
              "⎢f(x) = ───────────── - ─────────────────, g(x) = ───────────── + ────────────\n",
              "⎢                4                 4                       4                 4\n",
              "⎣           1 + ℯ             1 + ℯ                   1 + ℯ             1 + ℯ \n",
              "\n",
              "⎞  -x⎤\n",
              "⎠⋅ℯ  ⎥\n",
              "─────⎥\n",
              "     ⎥\n",
              "     ⎦"
            ],
            "text/latex": "$\\displaystyle \\left[ f{\\left(x \\right)} = \\frac{\\left(1 + 3 e^{2}\\right) e^{x}}{1 + e^{4}} - \\frac{\\left(- e^{4} + 3 e^{2}\\right) e^{- x}}{1 + e^{4}}, \\  g{\\left(x \\right)} = \\frac{\\left(1 + 3 e^{2}\\right) e^{x}}{1 + e^{4}} + \\frac{\\left(- e^{4} + 3 e^{2}\\right) e^{- x}}{1 + e^{4}}\\right]$"
          },
          "metadata": {},
          "execution_count": 30
        }
      ]
    },
    {
      "cell_type": "code",
      "source": [
        "eqn = Eq(f(x).diff(x), f(x))\n",
        "dsolve(eqn, f(x), ics={f(x).diff(x).subs(x, 1): 2})"
      ],
      "metadata": {
        "colab": {
          "base_uri": "https://localhost:8080/",
          "height": 51
        },
        "id": "AKVxEfHnq0tU",
        "outputId": "c185a81a-4397-4971-e8f6-6b6986b6710e"
      },
      "execution_count": 31,
      "outputs": [
        {
          "output_type": "execute_result",
          "data": {
            "text/plain": [
              "          -1  x\n",
              "f(x) = 2⋅ℯ  ⋅ℯ "
            ],
            "text/latex": "$\\displaystyle f{\\left(x \\right)} = \\frac{2 e^{x}}{e}$"
          },
          "metadata": {},
          "execution_count": 31
        }
      ]
    },
    {
      "cell_type": "code",
      "source": [
        "t = symbols('t')\n",
        "y = Function('y')(t); y"
      ],
      "metadata": {
        "colab": {
          "base_uri": "https://localhost:8080/",
          "height": 39
        },
        "id": "ffuqhJSRq090",
        "outputId": "e2735e00-66fc-4d4c-a912-dda73dfa2275"
      },
      "execution_count": 32,
      "outputs": [
        {
          "output_type": "execute_result",
          "data": {
            "text/plain": [
              "y(t)"
            ],
            "text/latex": "$\\displaystyle y{\\left(t \\right)}$"
          },
          "metadata": {},
          "execution_count": 32
        }
      ]
    },
    {
      "cell_type": "code",
      "source": [
        "yp = y.diff(t)\n",
        "ypp = yp.diff(t)\n",
        "eq = ypp + 2*yp + y; eq"
      ],
      "metadata": {
        "colab": {
          "base_uri": "https://localhost:8080/",
          "height": 54
        },
        "id": "nb5UH-wtv61o",
        "outputId": "7c94e7d0-0b73-4d73-a08c-80f602117c5b"
      },
      "execution_count": 33,
      "outputs": [
        {
          "output_type": "execute_result",
          "data": {
            "text/plain": [
              "                      2      \n",
              "         d           d       \n",
              "y(t) + 2⋅──(y(t)) + ───(y(t))\n",
              "         dt           2      \n",
              "                    dt       "
            ],
            "text/latex": "$\\displaystyle y{\\left(t \\right)} + 2 \\frac{d}{d t} y{\\left(t \\right)} + \\frac{d^{2}}{d t^{2}} y{\\left(t \\right)}$"
          },
          "metadata": {},
          "execution_count": 33
        }
      ]
    },
    {
      "cell_type": "code",
      "source": [
        "dsolve(eq, y)"
      ],
      "metadata": {
        "colab": {
          "base_uri": "https://localhost:8080/",
          "height": 39
        },
        "id": "CN6ycnjIwK05",
        "outputId": "2a55181f-25d1-4540-af56-ca88f607b6ee"
      },
      "execution_count": 34,
      "outputs": [
        {
          "output_type": "execute_result",
          "data": {
            "text/plain": [
              "                    -t\n",
              "y(t) = (C₁ + C₂⋅t)⋅ℯ  "
            ],
            "text/latex": "$\\displaystyle y{\\left(t \\right)} = \\left(C_{1} + C_{2} t\\right) e^{- t}$"
          },
          "metadata": {},
          "execution_count": 34
        }
      ]
    },
    {
      "cell_type": "code",
      "source": [
        "dsolve(eq, y, ics={y.subs(t, 0): 0})"
      ],
      "metadata": {
        "colab": {
          "base_uri": "https://localhost:8080/",
          "height": 39
        },
        "id": "bD9ngFMnwaYA",
        "outputId": "752a1aef-ce0d-424c-b2a7-13deb4041e3b"
      },
      "execution_count": 35,
      "outputs": [
        {
          "output_type": "execute_result",
          "data": {
            "text/plain": [
              "             -t\n",
              "y(t) = C₂⋅t⋅ℯ  "
            ],
            "text/latex": "$\\displaystyle y{\\left(t \\right)} = C_{2} t e^{- t}$"
          },
          "metadata": {},
          "execution_count": 35
        }
      ]
    },
    {
      "cell_type": "code",
      "source": [
        "y = Function('y')\n",
        "result = dsolve(Derivative(y(x), x, x) + 9*y(x), y(x))\n",
        "result"
      ],
      "metadata": {
        "colab": {
          "base_uri": "https://localhost:8080/",
          "height": 39
        },
        "id": "aoQEjxqRxDog",
        "outputId": "9411881d-bb13-4c62-f82e-956158d10745"
      },
      "execution_count": 36,
      "outputs": [
        {
          "output_type": "execute_result",
          "data": {
            "text/plain": [
              "y(x) = C₁⋅sin(3⋅x) + C₂⋅cos(3⋅x)"
            ],
            "text/latex": "$\\displaystyle y{\\left(x \\right)} = C_{1} \\sin{\\left(3 x \\right)} + C_{2} \\cos{\\left(3 x \\right)}$"
          },
          "metadata": {},
          "execution_count": 36
        }
      ]
    },
    {
      "cell_type": "code",
      "source": [
        "result.rhs   #using the right-hand side property"
      ],
      "metadata": {
        "colab": {
          "base_uri": "https://localhost:8080/",
          "height": 39
        },
        "id": "MOi9gtrhxDgM",
        "outputId": "7e8bd430-4f01-45ff-8ec1-135afa883646"
      },
      "execution_count": 37,
      "outputs": [
        {
          "output_type": "execute_result",
          "data": {
            "text/plain": [
              "C₁⋅sin(3⋅x) + C₂⋅cos(3⋅x)"
            ],
            "text/latex": "$\\displaystyle C_{1} \\sin{\\left(3 x \\right)} + C_{2} \\cos{\\left(3 x \\right)}$"
          },
          "metadata": {},
          "execution_count": 37
        }
      ]
    },
    {
      "cell_type": "code",
      "source": [
        "from sympy.abc import x, a, b, c\n",
        "roots(a*x**2 + b*x + c, x)"
      ],
      "metadata": {
        "colab": {
          "base_uri": "https://localhost:8080/",
          "height": 68
        },
        "id": "kInKX7gMxDUd",
        "outputId": "4970a1ca-8809-4012-a5b9-2131aabace5d"
      },
      "execution_count": 38,
      "outputs": [
        {
          "output_type": "execute_result",
          "data": {
            "text/plain": [
              "⎧           _____________                _____________   ⎫\n",
              "⎪          ╱           2                ╱           2    ⎪\n",
              "⎨   b    ╲╱  -4⋅a⋅c + b          b    ╲╱  -4⋅a⋅c + b     ⎬\n",
              "⎪- ─── - ────────────────: 1, - ─── + ────────────────: 1⎪\n",
              "⎩  2⋅a         2⋅a              2⋅a         2⋅a          ⎭"
            ],
            "text/latex": "$\\displaystyle \\left\\{ - \\frac{b}{2 a} - \\frac{\\sqrt{- 4 a c + b^{2}}}{2 a} : 1, \\  - \\frac{b}{2 a} + \\frac{\\sqrt{- 4 a c + b^{2}}}{2 a} : 1\\right\\}$"
          },
          "metadata": {},
          "execution_count": 38
        }
      ]
    },
    {
      "cell_type": "code",
      "source": [
        "expression = (x+2)**2 * (x-3)\n",
        "symbolic = (x+a)**2 * (x-b)"
      ],
      "metadata": {
        "id": "Hn4xbnRv38uR"
      },
      "execution_count": 39,
      "outputs": []
    },
    {
      "cell_type": "code",
      "source": [
        "solve(expression, x, dict=True)"
      ],
      "metadata": {
        "colab": {
          "base_uri": "https://localhost:8080/",
          "height": 39
        },
        "id": "VAbO0UNt38qC",
        "outputId": "2ab95588-ff41-4330-acfb-a9f0a8f6d0b0"
      },
      "execution_count": 40,
      "outputs": [
        {
          "output_type": "execute_result",
          "data": {
            "text/plain": [
              "[{x: -2}, {x: 3}]"
            ],
            "text/latex": "$\\displaystyle \\left[ \\left\\{ x : -2\\right\\}, \\  \\left\\{ x : 3\\right\\}\\right]$"
          },
          "metadata": {},
          "execution_count": 40
        }
      ]
    },
    {
      "cell_type": "code",
      "source": [
        "solve(symbolic, x, dict=True)"
      ],
      "metadata": {
        "colab": {
          "base_uri": "https://localhost:8080/",
          "height": 39
        },
        "id": "7QjRxVXS38ml",
        "outputId": "79fe2848-f21d-4452-e8aa-170b45e1ab3c"
      },
      "execution_count": 41,
      "outputs": [
        {
          "output_type": "execute_result",
          "data": {
            "text/plain": [
              "[{x: -a}, {x: b}]"
            ],
            "text/latex": "$\\displaystyle \\left[ \\left\\{ x : - a\\right\\}, \\  \\left\\{ x : b\\right\\}\\right]$"
          },
          "metadata": {},
          "execution_count": 41
        }
      ]
    },
    {
      "cell_type": "code",
      "source": [
        "solve(x**4 - x + 1, x)"
      ],
      "metadata": {
        "colab": {
          "base_uri": "https://localhost:8080/",
          "height": 163
        },
        "id": "goO4QG_z38hm",
        "outputId": "7b9694cd-fcb2-4106-f063-67da3177910a"
      },
      "execution_count": 42,
      "outputs": [
        {
          "output_type": "execute_result",
          "data": {
            "text/plain": [
              "⎡                                                                    _________\n",
              "⎢                                                                   ╱         \n",
              "⎢                                                                  ╱         ╱\n",
              "⎢                                                                 ╱   - 2⋅3 ╱ \n",
              "⎢          ___________________________________________           ╱        ╲╱  \n",
              "⎢         ╱                             _____________           ╱             \n",
              "⎢        ╱           2                 ╱ 1    √687⋅ⅈ           ╱              \n",
              "⎢       ╱   ─────────────────── + 2⋅3 ╱  ── + ──────          ╱               \n",
              "⎢      ╱          _____________     ╲╱   16    144           ╱                \n",
              "⎢     ╱          ╱ 1    √687⋅ⅈ                              ╱                 \n",
              "⎢    ╱      3⋅3 ╱  ── + ──────                             ╱                  \n",
              "⎢  ╲╱         ╲╱   16    144                             ╲╱                   \n",
              "⎢- ─────────────────────────────────────────────────── - ─────────────────────\n",
              "⎣                           2                                                 \n",
              "\n",
              "______________________________________________________________________________\n",
              "_____________                                                                 \n",
              " 1    √687⋅ⅈ                             2                                    \n",
              " ── + ──────  - ─────────────────────────────────────────────────── - ────────\n",
              " 16    144              ___________________________________________         __\n",
              "                       ╱                             _____________         ╱ 1\n",
              "                      ╱           2                 ╱ 1    √687⋅ⅈ     3⋅3 ╱  ─\n",
              "                     ╱   ─────────────────── + 2⋅3 ╱  ── + ──────       ╲╱   1\n",
              "                    ╱          _____________     ╲╱   16    144               \n",
              "                   ╱          ╱ 1    √687⋅ⅈ                                   \n",
              "                  ╱      3⋅3 ╱  ── + ──────                                   \n",
              "                ╲╱         ╲╱   16    144                                     \n",
              "──────────────────────────────────────────────────────────────────────────────\n",
              "                                  2                                           \n",
              "\n",
              "____________                                                                  \n",
              "                                                                              \n",
              " 2                                                                            \n",
              "───────────                                                                  ╱\n",
              "___________           ___________________________________________           ╱ \n",
              "    √687⋅ⅈ           ╱                             _____________           ╱  \n",
              "─ + ──────          ╱           2                 ╱ 1    √687⋅ⅈ           ╱   \n",
              "6    144           ╱   ─────────────────── + 2⋅3 ╱  ── + ──────          ╱    \n",
              "                  ╱          _____________     ╲╱   16    144           ╱     \n",
              "                 ╱          ╱ 1    √687⋅ⅈ                              ╱      \n",
              "                ╱      3⋅3 ╱  ── + ──────                             ╱       \n",
              "              ╲╱         ╲╱   16    144                             ╲╱        \n",
              "────────────, ─────────────────────────────────────────────────── - ──────────\n",
              "                                       2                                      \n",
              "\n",
              "  ____________________________________________________________________________\n",
              " ╱         _____________                                                      \n",
              "╱         ╱ 1    √687⋅ⅈ                             2                         \n",
              "   - 2⋅3 ╱  ── + ──────  + ───────────────────────────────────────────────────\n",
              "       ╲╱   16    144              ___________________________________________\n",
              "                                  ╱                             _____________ \n",
              "                                 ╱           2                 ╱ 1    √687⋅ⅈ  \n",
              "                                ╱   ─────────────────── + 2⋅3 ╱  ── + ──────  \n",
              "                               ╱          _____________     ╲╱   16    144    \n",
              "                              ╱          ╱ 1    √687⋅ⅈ                        \n",
              "                             ╱      3⋅3 ╱  ── + ──────                        \n",
              "                           ╲╱         ╲╱   16    144                          \n",
              "──────────────────────────────────────────────────────────────────────────────\n",
              "                                             2                                \n",
              "\n",
              "_______________________              _________________________________________\n",
              "                                    ╱         _____________                   \n",
              "            2                      ╱         ╱ 1    √687⋅ⅈ                    \n",
              " - ───────────────────            ╱   - 2⋅3 ╱  ── + ──────  - ────────────────\n",
              "         _____________           ╱        ╲╱   16    144              ________\n",
              "        ╱ 1    √687⋅ⅈ           ╱                                    ╱        \n",
              "   3⋅3 ╱  ── + ──────          ╱                                    ╱         \n",
              "     ╲╱   16    144           ╱                                    ╱   ───────\n",
              "                             ╱                                    ╱          _\n",
              "                            ╱                                    ╱          ╱ \n",
              "                           ╱                                    ╱      3⋅3 ╱  \n",
              "                         ╲╱                                   ╲╱         ╲╱   \n",
              "───────────────────────, ─────────────────────────────────────────────────────\n",
              "                                                                              \n",
              "\n",
              "__________________________________________________________                    \n",
              "                                                                              \n",
              "         2                                     2                              \n",
              "─────────────────────────────────── - ───────────────────                     \n",
              "___________________________________         _____________            _________\n",
              "                     _____________         ╱ 1    √687⋅ⅈ            ╱         \n",
              "  2                 ╱ 1    √687⋅ⅈ     3⋅3 ╱  ── + ──────           ╱          \n",
              "──────────── + 2⋅3 ╱  ── + ──────       ╲╱   16    144            ╱   ────────\n",
              "____________     ╲╱   16    144                                  ╱          __\n",
              "1    √687⋅ⅈ                                                     ╱          ╱ 1\n",
              "── + ──────                                                    ╱      3⋅3 ╱  ─\n",
              "16    144                                                    ╲╱         ╲╱   1\n",
              "────────────────────────────────────────────────────────── - ─────────────────\n",
              "  2                                                                           \n",
              "\n",
              "                                                ______________________________\n",
              "                                               ╱         _____________        \n",
              "                                              ╱         ╱ 1    √687⋅ⅈ         \n",
              "                                             ╱   - 2⋅3 ╱  ── + ──────  + ─────\n",
              "__________________________________          ╱        ╲╱   16    144           \n",
              "                    _____________          ╱                                  \n",
              " 2                 ╱ 1    √687⋅ⅈ          ╱                                   \n",
              "─────────── + 2⋅3 ╱  ── + ──────         ╱                                    \n",
              "___________     ╲╱   16    144          ╱                                    ╱\n",
              "    √687⋅ⅈ                             ╱                                    ╱ \n",
              "─ + ──────                            ╱                                    ╱  \n",
              "6    144                            ╲╱                                   ╲╱   \n",
              "──────────────────────────────────, ──────────────────────────────────────────\n",
              "        2                                                                     \n",
              "\n",
              "_____________________________________________________________________         \n",
              "                                                                              \n",
              "                    2                                     2                   \n",
              "────────────────────────────────────────────── - ───────────────────          \n",
              "   ___________________________________________         _____________          \n",
              "  ╱                             _____________         ╱ 1    √687⋅ⅈ           \n",
              " ╱           2                 ╱ 1    √687⋅ⅈ     3⋅3 ╱  ── + ──────           \n",
              "╱   ─────────────────── + 2⋅3 ╱  ── + ──────       ╲╱   16    144            ╱\n",
              "          _____________     ╲╱   16    144                                  ╱ \n",
              "         ╱ 1    √687⋅ⅈ                                                     ╱  \n",
              "    3⋅3 ╱  ── + ──────                                                    ╱   \n",
              "      ╲╱   16    144                                                    ╲╱    \n",
              "───────────────────────────────────────────────────────────────────── + ──────\n",
              "             2                                                                \n",
              "\n",
              "                                             ⎤\n",
              "                                             ⎥\n",
              "                                             ⎥\n",
              "                                             ⎥\n",
              "  ___________________________________________⎥\n",
              " ╱                             _____________ ⎥\n",
              "╱           2                 ╱ 1    √687⋅ⅈ  ⎥\n",
              "   ─────────────────── + 2⋅3 ╱  ── + ──────  ⎥\n",
              "         _____________     ╲╱   16    144    ⎥\n",
              "        ╱ 1    √687⋅ⅈ                        ⎥\n",
              "   3⋅3 ╱  ── + ──────                        ⎥\n",
              "     ╲╱   16    144                          ⎥\n",
              "─────────────────────────────────────────────⎥\n",
              "                   2                         ⎦"
            ],
            "text/latex": "$\\displaystyle \\left[ - \\frac{\\sqrt{\\frac{2}{3 \\sqrt[3]{\\frac{1}{16} + \\frac{\\sqrt{687} i}{144}}} + 2 \\sqrt[3]{\\frac{1}{16} + \\frac{\\sqrt{687} i}{144}}}}{2} - \\frac{\\sqrt{- 2 \\sqrt[3]{\\frac{1}{16} + \\frac{\\sqrt{687} i}{144}} - \\frac{2}{\\sqrt{\\frac{2}{3 \\sqrt[3]{\\frac{1}{16} + \\frac{\\sqrt{687} i}{144}}} + 2 \\sqrt[3]{\\frac{1}{16} + \\frac{\\sqrt{687} i}{144}}}} - \\frac{2}{3 \\sqrt[3]{\\frac{1}{16} + \\frac{\\sqrt{687} i}{144}}}}}{2}, \\  \\frac{\\sqrt{\\frac{2}{3 \\sqrt[3]{\\frac{1}{16} + \\frac{\\sqrt{687} i}{144}}} + 2 \\sqrt[3]{\\frac{1}{16} + \\frac{\\sqrt{687} i}{144}}}}{2} - \\frac{\\sqrt{- 2 \\sqrt[3]{\\frac{1}{16} + \\frac{\\sqrt{687} i}{144}} + \\frac{2}{\\sqrt{\\frac{2}{3 \\sqrt[3]{\\frac{1}{16} + \\frac{\\sqrt{687} i}{144}}} + 2 \\sqrt[3]{\\frac{1}{16} + \\frac{\\sqrt{687} i}{144}}}} - \\frac{2}{3 \\sqrt[3]{\\frac{1}{16} + \\frac{\\sqrt{687} i}{144}}}}}{2}, \\  \\frac{\\sqrt{- 2 \\sqrt[3]{\\frac{1}{16} + \\frac{\\sqrt{687} i}{144}} - \\frac{2}{\\sqrt{\\frac{2}{3 \\sqrt[3]{\\frac{1}{16} + \\frac{\\sqrt{687} i}{144}}} + 2 \\sqrt[3]{\\frac{1}{16} + \\frac{\\sqrt{687} i}{144}}}} - \\frac{2}{3 \\sqrt[3]{\\frac{1}{16} + \\frac{\\sqrt{687} i}{144}}}}}{2} - \\frac{\\sqrt{\\frac{2}{3 \\sqrt[3]{\\frac{1}{16} + \\frac{\\sqrt{687} i}{144}}} + 2 \\sqrt[3]{\\frac{1}{16} + \\frac{\\sqrt{687} i}{144}}}}{2}, \\  \\frac{\\sqrt{- 2 \\sqrt[3]{\\frac{1}{16} + \\frac{\\sqrt{687} i}{144}} + \\frac{2}{\\sqrt{\\frac{2}{3 \\sqrt[3]{\\frac{1}{16} + \\frac{\\sqrt{687} i}{144}}} + 2 \\sqrt[3]{\\frac{1}{16} + \\frac{\\sqrt{687} i}{144}}}} - \\frac{2}{3 \\sqrt[3]{\\frac{1}{16} + \\frac{\\sqrt{687} i}{144}}}}}{2} + \\frac{\\sqrt{\\frac{2}{3 \\sqrt[3]{\\frac{1}{16} + \\frac{\\sqrt{687} i}{144}}} + 2 \\sqrt[3]{\\frac{1}{16} + \\frac{\\sqrt{687} i}{144}}}}{2}\\right]$"
          },
          "metadata": {},
          "execution_count": 42
        }
      ]
    },
    {
      "cell_type": "code",
      "source": [
        "roots(expression, x)"
      ],
      "metadata": {
        "colab": {
          "base_uri": "https://localhost:8080/",
          "height": 37
        },
        "id": "O5VQHgNJ38QC",
        "outputId": "22ed6b38-5ada-4b19-a9e9-a05dbf089f05"
      },
      "execution_count": 43,
      "outputs": [
        {
          "output_type": "execute_result",
          "data": {
            "text/plain": [
              "{-2: 2, 3: 1}"
            ],
            "text/latex": "$\\displaystyle \\left\\{ -2 : 2, \\  3 : 1\\right\\}$"
          },
          "metadata": {},
          "execution_count": 43
        }
      ]
    },
    {
      "cell_type": "code",
      "source": [
        "roots(symbolic, x)"
      ],
      "metadata": {
        "colab": {
          "base_uri": "https://localhost:8080/",
          "height": 39
        },
        "id": "qTyx9V3B4wCP",
        "outputId": "f9be10ed-33af-4794-f1b7-4be738ef2140"
      },
      "execution_count": 44,
      "outputs": [
        {
          "output_type": "execute_result",
          "data": {
            "text/plain": [
              "{-a: 2, b: 1}"
            ],
            "text/latex": "$\\displaystyle \\left\\{ - a : 2, \\  b : 1\\right\\}$"
          },
          "metadata": {},
          "execution_count": 44
        }
      ]
    },
    {
      "cell_type": "code",
      "source": [
        "expression_expanded = expand(expression)\n",
        "expression_expanded"
      ],
      "metadata": {
        "colab": {
          "base_uri": "https://localhost:8080/",
          "height": 39
        },
        "id": "6y-9cR38463B",
        "outputId": "40a6454d-935e-4cde-ddb7-9644518935a5"
      },
      "execution_count": 45,
      "outputs": [
        {
          "output_type": "execute_result",
          "data": {
            "text/plain": [
              " 3    2           \n",
              "x  + x  - 8⋅x - 12"
            ],
            "text/latex": "$\\displaystyle x^{3} + x^{2} - 8 x - 12$"
          },
          "metadata": {},
          "execution_count": 45
        }
      ]
    },
    {
      "cell_type": "code",
      "source": [
        "factor(expression_expanded)"
      ],
      "metadata": {
        "colab": {
          "base_uri": "https://localhost:8080/",
          "height": 39
        },
        "id": "GRYa3Y2d5D6O",
        "outputId": "cbbbce0c-aab9-407d-bff5-1152c04f4d74"
      },
      "execution_count": 46,
      "outputs": [
        {
          "output_type": "execute_result",
          "data": {
            "text/plain": [
              "               2\n",
              "(x - 3)⋅(x + 2) "
            ],
            "text/latex": "$\\displaystyle \\left(x - 3\\right) \\left(x + 2\\right)^{2}$"
          },
          "metadata": {},
          "execution_count": 46
        }
      ]
    },
    {
      "cell_type": "code",
      "source": [
        "symbolic_expanded = expand(symbolic)\n",
        "symbolic_expanded"
      ],
      "metadata": {
        "colab": {
          "base_uri": "https://localhost:8080/",
          "height": 39
        },
        "id": "WcUh48EJ5H9y",
        "outputId": "d6ccf011-9b35-439a-a4a6-81a0d81534c9"
      },
      "execution_count": 47,
      "outputs": [
        {
          "output_type": "execute_result",
          "data": {
            "text/plain": [
              "   2      2                    2      2    3\n",
              "- a ⋅b + a ⋅x - 2⋅a⋅b⋅x + 2⋅a⋅x  - b⋅x  + x "
            ],
            "text/latex": "$\\displaystyle - a^{2} b + a^{2} x - 2 a b x + 2 a x^{2} - b x^{2} + x^{3}$"
          },
          "metadata": {},
          "execution_count": 47
        }
      ]
    },
    {
      "cell_type": "code",
      "source": [
        "factor(symbolic_expanded)"
      ],
      "metadata": {
        "colab": {
          "base_uri": "https://localhost:8080/",
          "height": 39
        },
        "id": "NYU1vNnn5Mza",
        "outputId": "943bde1d-aa35-4daf-b16c-88e18e7bad5c"
      },
      "execution_count": 48,
      "outputs": [
        {
          "output_type": "execute_result",
          "data": {
            "text/plain": [
              "       2         \n",
              "(a + x) ⋅(-b + x)"
            ],
            "text/latex": "$\\displaystyle \\left(a + x\\right)^{2} \\left(- b + x\\right)$"
          },
          "metadata": {},
          "execution_count": 48
        }
      ]
    },
    {
      "cell_type": "code",
      "source": [
        "p = expand((x - a**2)*(x + a + a**3))\n",
        "p"
      ],
      "metadata": {
        "colab": {
          "base_uri": "https://localhost:8080/",
          "height": 39
        },
        "id": "CW1rj42S5U2_",
        "outputId": "523e225f-f7b3-48c8-de53-e42ce93d40b8"
      },
      "execution_count": 49,
      "outputs": [
        {
          "output_type": "execute_result",
          "data": {
            "text/plain": [
              "   5    3      3    2            2\n",
              "- a  + a ⋅x - a  - a ⋅x + a⋅x + x "
            ],
            "text/latex": "$\\displaystyle - a^{5} + a^{3} x - a^{3} - a^{2} x + a x + x^{2}$"
          },
          "metadata": {},
          "execution_count": 49
        }
      ]
    },
    {
      "cell_type": "code",
      "source": [
        "factor(p)"
      ],
      "metadata": {
        "colab": {
          "base_uri": "https://localhost:8080/",
          "height": 39
        },
        "id": "O7CzrkFS5ZjN",
        "outputId": "2e31db6b-d987-46fb-bac4-71ce624448e7"
      },
      "execution_count": 50,
      "outputs": [
        {
          "output_type": "execute_result",
          "data": {
            "text/plain": [
              "⎛   2    ⎞ ⎛ 3        ⎞\n",
              "⎝- a  + x⎠⋅⎝a  + a + x⎠"
            ],
            "text/latex": "$\\displaystyle \\left(- a^{2} + x\\right) \\left(a^{3} + a + x\\right)$"
          },
          "metadata": {},
          "execution_count": 50
        }
      ]
    },
    {
      "cell_type": "code",
      "source": [
        "cubed = x**3 - 1\n",
        "# roots() returns real and complex roots\n",
        "roots(cubed)"
      ],
      "metadata": {
        "colab": {
          "base_uri": "https://localhost:8080/",
          "height": 68
        },
        "id": "xU6d0_3c5g6K",
        "outputId": "0f2715ef-53a0-48ba-9bb2-de2694f26f1c"
      },
      "execution_count": 51,
      "outputs": [
        {
          "output_type": "execute_result",
          "data": {
            "text/plain": [
              "⎧        1   √3⋅ⅈ       1   √3⋅ⅈ   ⎫\n",
              "⎨1: 1, - ─ - ────: 1, - ─ + ────: 1⎬\n",
              "⎩        2    2         2    2     ⎭"
            ],
            "text/latex": "$\\displaystyle \\left\\{ 1 : 1, \\  - \\frac{1}{2} - \\frac{\\sqrt{3} i}{2} : 1, \\  - \\frac{1}{2} + \\frac{\\sqrt{3} i}{2} : 1\\right\\}$"
          },
          "metadata": {},
          "execution_count": 51
        }
      ]
    },
    {
      "cell_type": "code",
      "source": [
        "real_roots(cubed)"
      ],
      "metadata": {
        "colab": {
          "base_uri": "https://localhost:8080/",
          "height": 37
        },
        "id": "BipSvYca5mIv",
        "outputId": "78bf5ce9-c977-42b3-dbcf-4f0b5fdd23e7"
      },
      "execution_count": 52,
      "outputs": [
        {
          "output_type": "execute_result",
          "data": {
            "text/plain": [
              "[1]"
            ],
            "text/latex": "$\\displaystyle \\left[ 1\\right]$"
          },
          "metadata": {},
          "execution_count": 52
        }
      ]
    },
    {
      "cell_type": "code",
      "source": [
        "nroots(expression)"
      ],
      "metadata": {
        "colab": {
          "base_uri": "https://localhost:8080/",
          "height": 39
        },
        "id": "1l_Q-itp53y1",
        "outputId": "dca93cf1-fb47-421b-d315-4988706f3b82"
      },
      "execution_count": 53,
      "outputs": [
        {
          "output_type": "execute_result",
          "data": {
            "text/plain": [
              "[3.0, -2.0 - 4.18482169793536e-14⋅ⅈ, -2.0 + 4.55872552179222e-14⋅ⅈ]"
            ],
            "text/latex": "$\\displaystyle \\left[ 3.0, \\  -2.0 - 4.18482169793536 \\cdot 10^{-14} i, \\  -2.0 + 4.55872552179222 \\cdot 10^{-14} i\\right]$"
          },
          "metadata": {},
          "execution_count": 53
        }
      ]
    },
    {
      "cell_type": "code",
      "source": [
        "rq0, rq1, rq2, rq3 = roots(x**4 + 3*x**2 + 2*x + 1)\n",
        "rq0"
      ],
      "metadata": {
        "colab": {
          "base_uri": "https://localhost:8080/",
          "height": 98
        },
        "id": "OBrq7gxO54q1",
        "outputId": "b383fd01-0a8c-401c-e04b-7360c180983e"
      },
      "execution_count": 54,
      "outputs": [
        {
          "output_type": "execute_result",
          "data": {
            "text/plain": [
              "            __________________________________________________________________\n",
              "           ╱            ______________                                        \n",
              "          ╱            ╱   1   √237⋅ⅈ                                4        \n",
              "         ╱   -4 - 2⋅3 ╱  - ─ + ──────  + ─────────────────────────────────────\n",
              "        ╱           ╲╱     8     36              _____________________________\n",
              "       ╱                                        ╱                             \n",
              "      ╱                                        ╱                7             \n",
              "     ╱                                        ╱   -2 + ──────────────────── + \n",
              "    ╱                                        ╱               ______________   \n",
              "   ╱                                        ╱               ╱   1   √237⋅ⅈ    \n",
              "  ╱                                        ╱           6⋅3 ╱  - ─ + ──────    \n",
              "╲╱                                       ╲╱              ╲╱     8     36      \n",
              "──────────────────────────────────────────────────────────────────────────────\n",
              "                                                             2                \n",
              "\n",
              "_____________________________________________                                 \n",
              "                                                                              \n",
              "                                 7                                            \n",
              "───────────────────── - ────────────────────                                  \n",
              "_____________________         ______________            ______________________\n",
              "      ______________         ╱   1   √237⋅ⅈ            ╱                      \n",
              "     ╱   1   √237⋅ⅈ     6⋅3 ╱  - ─ + ──────           ╱                7      \n",
              "2⋅3 ╱  - ─ + ──────       ╲╱     8     36            ╱   -2 + ────────────────\n",
              "  ╲╱     8     36                                   ╱               __________\n",
              "                                                   ╱               ╱   1   √23\n",
              "                                                  ╱           6⋅3 ╱  - ─ + ───\n",
              "                                                ╲╱              ╲╱     8     3\n",
              "───────────────────────────────────────────── - ──────────────────────────────\n",
              "                                                                            2 \n",
              "\n",
              "                            \n",
              "                            \n",
              "                            \n",
              "                            \n",
              "____________________________\n",
              "             ______________ \n",
              "            ╱   1   √237⋅ⅈ  \n",
              "──── + 2⋅3 ╱  - ─ + ──────  \n",
              "____     ╲╱     8     36    \n",
              "7⋅ⅈ                         \n",
              "───                         \n",
              "6                           \n",
              "────────────────────────────\n",
              "                            "
            ],
            "text/latex": "$\\displaystyle \\frac{\\sqrt{-4 - 2 \\sqrt[3]{- \\frac{1}{8} + \\frac{\\sqrt{237} i}{36}} + \\frac{4}{\\sqrt{-2 + \\frac{7}{6 \\sqrt[3]{- \\frac{1}{8} + \\frac{\\sqrt{237} i}{36}}} + 2 \\sqrt[3]{- \\frac{1}{8} + \\frac{\\sqrt{237} i}{36}}}} - \\frac{7}{6 \\sqrt[3]{- \\frac{1}{8} + \\frac{\\sqrt{237} i}{36}}}}}{2} - \\frac{\\sqrt{-2 + \\frac{7}{6 \\sqrt[3]{- \\frac{1}{8} + \\frac{\\sqrt{237} i}{36}}} + 2 \\sqrt[3]{- \\frac{1}{8} + \\frac{\\sqrt{237} i}{36}}}}{2}$"
          },
          "metadata": {},
          "execution_count": 54
        }
      ]
    },
    {
      "cell_type": "code",
      "source": [
        "rq0.n()"
      ],
      "metadata": {
        "colab": {
          "base_uri": "https://localhost:8080/",
          "height": 39
        },
        "id": "7ZLX05yy54kJ",
        "outputId": "377b8e22-7d11-4a68-c87f-861cdfba28b4"
      },
      "execution_count": 55,
      "outputs": [
        {
          "output_type": "execute_result",
          "data": {
            "text/plain": [
              "-0.349745826211722 - 0.438990337475312⋅ⅈ"
            ],
            "text/latex": "$\\displaystyle -0.349745826211722 - 0.438990337475312 i$"
          },
          "metadata": {},
          "execution_count": 55
        }
      ]
    },
    {
      "cell_type": "code",
      "source": [
        "expression_complex = (x**2+4)**2 * (x-3)\n",
        "solve(expression_complex, x, dict=True)"
      ],
      "metadata": {
        "colab": {
          "base_uri": "https://localhost:8080/",
          "height": 39
        },
        "id": "Nt119-kY54b1",
        "outputId": "c4d9882d-5979-4e99-92b1-b6a5d2135816"
      },
      "execution_count": 56,
      "outputs": [
        {
          "output_type": "execute_result",
          "data": {
            "text/plain": [
              "[{x: 3}, {x: -2⋅ⅈ}, {x: 2⋅ⅈ}]"
            ],
            "text/latex": "$\\displaystyle \\left[ \\left\\{ x : 3\\right\\}, \\  \\left\\{ x : - 2 i\\right\\}, \\  \\left\\{ x : 2 i\\right\\}\\right]$"
          },
          "metadata": {},
          "execution_count": 56
        }
      ]
    },
    {
      "cell_type": "code",
      "source": [
        "a = Symbol(\"a\", positive=True)\n",
        "symbolic_complex = (x**2+a)**2 * (x-3)\n",
        "solve(symbolic_complex, x, dict=True)"
      ],
      "metadata": {
        "colab": {
          "base_uri": "https://localhost:8080/",
          "height": 39
        },
        "id": "Og_AtXE67FFM",
        "outputId": "139902b3-8914-417f-e4ab-39ba565e4898"
      },
      "execution_count": 57,
      "outputs": [
        {
          "output_type": "execute_result",
          "data": {
            "text/plain": [
              "[{x: 3}, {x: -ⅈ⋅√a}, {x: ⅈ⋅√a}]"
            ],
            "text/latex": "$\\displaystyle \\left[ \\left\\{ x : 3\\right\\}, \\  \\left\\{ x : - i \\sqrt{a}\\right\\}, \\  \\left\\{ x : i \\sqrt{a}\\right\\}\\right]$"
          },
          "metadata": {},
          "execution_count": 57
        }
      ]
    },
    {
      "cell_type": "code",
      "source": [
        "roots(expression_complex, x)"
      ],
      "metadata": {
        "colab": {
          "base_uri": "https://localhost:8080/",
          "height": 39
        },
        "id": "3Ce1vY8d7E23",
        "outputId": "71128ec4-3709-4ef3-8f9f-0e67c5a15c87"
      },
      "execution_count": 58,
      "outputs": [
        {
          "output_type": "execute_result",
          "data": {
            "text/plain": [
              "{3: 1, -2⋅ⅈ: 2, 2⋅ⅈ: 2}"
            ],
            "text/latex": "$\\displaystyle \\left\\{ 3 : 1, \\  - 2 i : 2, \\  2 i : 2\\right\\}$"
          },
          "metadata": {},
          "execution_count": 58
        }
      ]
    },
    {
      "cell_type": "code",
      "source": [
        "[RootOf(expression_complex, n) for n in range(0,3)]   #will also return complex roots:"
      ],
      "metadata": {
        "colab": {
          "base_uri": "https://localhost:8080/",
          "height": 39
        },
        "id": "ccQb3DBN7Wc0",
        "outputId": "1a7dbe20-e2e3-4493-c207-bb4fc80bcdf5"
      },
      "execution_count": 59,
      "outputs": [
        {
          "output_type": "execute_result",
          "data": {
            "text/plain": [
              "[3, -2⋅ⅈ, -2⋅ⅈ]"
            ],
            "text/latex": "$\\displaystyle \\left[ 3, \\  - 2 i, \\  - 2 i\\right]$"
          },
          "metadata": {},
          "execution_count": 59
        }
      ]
    },
    {
      "cell_type": "code",
      "source": [
        "real_roots(expression_complex)  #will return only the real roots."
      ],
      "metadata": {
        "colab": {
          "base_uri": "https://localhost:8080/",
          "height": 37
        },
        "id": "OQ3YHvJV7WYY",
        "outputId": "f4c0b4d8-c9c1-4d50-bf7f-7ad67c36889a"
      },
      "execution_count": 60,
      "outputs": [
        {
          "output_type": "execute_result",
          "data": {
            "text/plain": [
              "[3]"
            ],
            "text/latex": "$\\displaystyle \\left[ 3\\right]$"
          },
          "metadata": {},
          "execution_count": 60
        }
      ]
    },
    {
      "cell_type": "code",
      "source": [
        "expression_complex_poly = Poly(expression_complex)\n",
        "expression_complex_poly.all_roots()"
      ],
      "metadata": {
        "colab": {
          "base_uri": "https://localhost:8080/",
          "height": 39
        },
        "id": "Q2Suf69_7WUv",
        "outputId": "668000cc-ab46-47c1-ca42-5080e9b9061b"
      },
      "execution_count": 61,
      "outputs": [
        {
          "output_type": "execute_result",
          "data": {
            "text/plain": [
              "[3, -2⋅ⅈ, -2⋅ⅈ, 2⋅ⅈ, 2⋅ⅈ]"
            ],
            "text/latex": "$\\displaystyle \\left[ 3, \\  - 2 i, \\  - 2 i, \\  2 i, \\  2 i\\right]$"
          },
          "metadata": {},
          "execution_count": 61
        }
      ]
    },
    {
      "cell_type": "code",
      "source": [
        "expression = (x+2)**2 * (x-3)\n",
        "my_real_roots = real_roots(expression)\n",
        "my_real_roots"
      ],
      "metadata": {
        "colab": {
          "base_uri": "https://localhost:8080/",
          "height": 37
        },
        "id": "a0iQoBAC7WIE",
        "outputId": "62e4ac8f-fe45-4a42-9169-9207fa77cfb2"
      },
      "execution_count": 62,
      "outputs": [
        {
          "output_type": "execute_result",
          "data": {
            "text/plain": [
              "[-2, -2, 3]"
            ],
            "text/latex": "$\\displaystyle \\left[ -2, \\  -2, \\  3\\right]$"
          },
          "metadata": {},
          "execution_count": 62
        }
      ]
    },
    {
      "cell_type": "code",
      "source": [
        "for root in my_real_roots:\n",
        "        print(f\"expression({root}) = {expression.subs(x, root)}\")"
      ],
      "metadata": {
        "colab": {
          "base_uri": "https://localhost:8080/"
        },
        "id": "rWg6pe2W8pE6",
        "outputId": "b420108b-7ec4-4f00-9f17-85e049ada142"
      },
      "execution_count": 63,
      "outputs": [
        {
          "output_type": "stream",
          "name": "stdout",
          "text": [
            "expression(-2) = 0\n",
            "expression(-2) = 0\n",
            "expression(3) = 0\n"
          ]
        }
      ]
    },
    {
      "cell_type": "code",
      "source": [
        "my_roots = roots(expression)\n",
        "my_roots"
      ],
      "metadata": {
        "colab": {
          "base_uri": "https://localhost:8080/",
          "height": 37
        },
        "id": "yvqk9hJJ8_KO",
        "outputId": "d326956f-4dab-427f-d070-edaf156bfb63"
      },
      "execution_count": 64,
      "outputs": [
        {
          "output_type": "execute_result",
          "data": {
            "text/plain": [
              "{-2: 2, 3: 1}"
            ],
            "text/latex": "$\\displaystyle \\left\\{ -2 : 2, \\  3 : 1\\right\\}$"
          },
          "metadata": {},
          "execution_count": 64
        }
      ]
    },
    {
      "cell_type": "code",
      "source": [
        "for root, multiplicity in my_roots.items():\n",
        "    print(f\"Root {root} has multiplicity of {multiplicity}\")"
      ],
      "metadata": {
        "colab": {
          "base_uri": "https://localhost:8080/"
        },
        "id": "Qte-WNi48_FS",
        "outputId": "971d3416-388d-4b27-b477-aea04e96675d"
      },
      "execution_count": 65,
      "outputs": [
        {
          "output_type": "stream",
          "name": "stdout",
          "text": [
            "Root 3 has multiplicity of 1\n",
            "Root -2 has multiplicity of 2\n"
          ]
        }
      ]
    },
    {
      "cell_type": "code",
      "source": [
        "factored = factor(expression_expanded)\n",
        "factored"
      ],
      "metadata": {
        "colab": {
          "base_uri": "https://localhost:8080/",
          "height": 39
        },
        "id": "emXQ0gx48_AE",
        "outputId": "fa8be2cd-fa58-43b2-f5e9-0e9cc23293b0"
      },
      "execution_count": 66,
      "outputs": [
        {
          "output_type": "execute_result",
          "data": {
            "text/plain": [
              "               2\n",
              "(x - 3)⋅(x + 2) "
            ],
            "text/latex": "$\\displaystyle \\left(x - 3\\right) \\left(x + 2\\right)^{2}$"
          },
          "metadata": {},
          "execution_count": 66
        }
      ]
    },
    {
      "cell_type": "code",
      "source": [
        "from sympy.abc import y\n",
        "factored.subs(x, 2*y)"
      ],
      "metadata": {
        "colab": {
          "base_uri": "https://localhost:8080/",
          "height": 39
        },
        "id": "5zCD6VdV8-7J",
        "outputId": "b04202c9-4ccd-4d9a-b018-f0f04fb5dc2d"
      },
      "execution_count": 67,
      "outputs": [
        {
          "output_type": "execute_result",
          "data": {
            "text/plain": [
              "                   2\n",
              "(2⋅y - 3)⋅(2⋅y + 2) "
            ],
            "text/latex": "$\\displaystyle \\left(2 y - 3\\right) \\left(2 y + 2\\right)^{2}$"
          },
          "metadata": {},
          "execution_count": 67
        }
      ]
    },
    {
      "cell_type": "code",
      "source": [
        "factored.subs(x, 7)"
      ],
      "metadata": {
        "colab": {
          "base_uri": "https://localhost:8080/",
          "height": 37
        },
        "id": "EH_U6smU9cfu",
        "outputId": "a253752a-ed2c-4e1c-9397-40f2ab5d3509"
      },
      "execution_count": 68,
      "outputs": [
        {
          "output_type": "execute_result",
          "data": {
            "text/plain": [
              "324"
            ],
            "text/latex": "$\\displaystyle 324$"
          },
          "metadata": {},
          "execution_count": 68
        }
      ]
    },
    {
      "cell_type": "code",
      "source": [
        "from sympy.abc import x\n",
        "fifth_order = x**5 - x + 1\n",
        "nroots(fifth_order)"
      ],
      "metadata": {
        "colab": {
          "base_uri": "https://localhost:8080/",
          "height": 59
        },
        "id": "TMNwrYNa9o3W",
        "outputId": "ce52daee-1022-4981-b1b7-679da5352616"
      },
      "execution_count": 69,
      "outputs": [
        {
          "output_type": "execute_result",
          "data": {
            "text/plain": [
              "[-1.16730397826142, -0.181232444469875 - 1.08395410131771⋅ⅈ, -0.18123244446987\n",
              "5 + 1.08395410131771⋅ⅈ, 0.764884433600585 - 0.352471546031726⋅ⅈ, 0.76488443360\n",
              "0585 + 0.352471546031726⋅ⅈ]"
            ],
            "text/latex": "$\\displaystyle \\left[ -1.16730397826142, \\  -0.181232444469875 - 1.08395410131771 i, \\  -0.181232444469875 + 1.08395410131771 i, \\  0.764884433600585 - 0.352471546031726 i, \\  0.764884433600585 + 0.352471546031726 i\\right]$"
          },
          "metadata": {},
          "execution_count": 69
        }
      ]
    },
    {
      "cell_type": "code",
      "source": [
        "roots(fifth_order, x)"
      ],
      "metadata": {
        "colab": {
          "base_uri": "https://localhost:8080/",
          "height": 37
        },
        "id": "8tkN7H9K9ozc",
        "outputId": "00257117-4b06-4b59-a22f-9749aa889176"
      },
      "execution_count": 70,
      "outputs": [
        {
          "output_type": "execute_result",
          "data": {
            "text/plain": [
              "{}"
            ],
            "text/latex": "$\\displaystyle \\left\\{ \\right\\}$"
          },
          "metadata": {},
          "execution_count": 70
        }
      ]
    },
    {
      "cell_type": "code",
      "source": [
        "from sympy.matrices import Matrix\n",
        "c, d, e = symbols(\"c, d, e\")\n",
        "A = Matrix([[c,d], [1, -e]])\n",
        "A"
      ],
      "metadata": {
        "colab": {
          "base_uri": "https://localhost:8080/",
          "height": 58
        },
        "id": "Mcs32IRq9otm",
        "outputId": "fc30ddf5-9530-4090-cfa0-156e5b448f61"
      },
      "execution_count": 71,
      "outputs": [
        {
          "output_type": "execute_result",
          "data": {
            "text/plain": [
              "⎡c  d ⎤\n",
              "⎢     ⎥\n",
              "⎣1  -e⎦"
            ],
            "text/latex": "$\\displaystyle \\left[\\begin{matrix}c & d\\\\1 & - e\\end{matrix}\\right]$"
          },
          "metadata": {},
          "execution_count": 71
        }
      ]
    },
    {
      "cell_type": "code",
      "source": [
        "b = Matrix([2, 0])\n",
        "b"
      ],
      "metadata": {
        "colab": {
          "base_uri": "https://localhost:8080/",
          "height": 58
        },
        "id": "KwHbMHQO-Ph1",
        "outputId": "ff7c17aa-c193-4bb1-dea3-b4b4fd38b589"
      },
      "execution_count": 72,
      "outputs": [
        {
          "output_type": "execute_result",
          "data": {
            "text/plain": [
              "⎡2⎤\n",
              "⎢ ⎥\n",
              "⎣0⎦"
            ],
            "text/latex": "$\\displaystyle \\left[\\begin{matrix}2\\\\0\\end{matrix}\\right]$"
          },
          "metadata": {},
          "execution_count": 72
        }
      ]
    },
    {
      "cell_type": "code",
      "source": [
        "A.solve(b)"
      ],
      "metadata": {
        "colab": {
          "base_uri": "https://localhost:8080/",
          "height": 59
        },
        "id": "JpY5MNnm-Pea",
        "outputId": "39a1cc3b-4e9f-4ae5-fb7b-149639be6979"
      },
      "execution_count": 73,
      "outputs": [
        {
          "output_type": "execute_result",
          "data": {
            "text/plain": [
              "⎡  2⋅e  ⎤\n",
              "⎢───────⎥\n",
              "⎢c⋅e + d⎥\n",
              "⎢       ⎥\n",
              "⎢   2   ⎥\n",
              "⎢───────⎥\n",
              "⎣c⋅e + d⎦"
            ],
            "text/latex": "$\\displaystyle \\left[\\begin{matrix}\\frac{2 e}{c e + d}\\\\\\frac{2}{c e + d}\\end{matrix}\\right]$"
          },
          "metadata": {},
          "execution_count": 73
        }
      ]
    },
    {
      "cell_type": "code",
      "source": [
        "from sympy.abc import t, s, a\n",
        "laplace_transform(t**4, t, s)"
      ],
      "metadata": {
        "colab": {
          "base_uri": "https://localhost:8080/",
          "height": 58
        },
        "id": "Kwhu3z_5-PZ9",
        "outputId": "c467aead-fa44-4097-b879-e724f847179e"
      },
      "execution_count": 74,
      "outputs": [
        {
          "output_type": "execute_result",
          "data": {
            "text/plain": [
              "⎛24         ⎞\n",
              "⎜──, 0, True⎟\n",
              "⎜ 5         ⎟\n",
              "⎝s          ⎠"
            ],
            "text/latex": "$\\displaystyle \\left( \\frac{24}{s^{5}}, \\  0, \\  \\text{True}\\right)$"
          },
          "metadata": {},
          "execution_count": 74
        }
      ]
    },
    {
      "cell_type": "code",
      "source": [
        "laplace_transform(t**a, t, s)"
      ],
      "metadata": {
        "colab": {
          "base_uri": "https://localhost:8080/",
          "height": 58
        },
        "id": "GqoSSQtc-PUS",
        "outputId": "34ae853f-8458-42ef-f0bc-76c806be61ad"
      },
      "execution_count": 75,
      "outputs": [
        {
          "output_type": "execute_result",
          "data": {
            "text/plain": [
              "⎛ -a                        ⎞\n",
              "⎜s  ⋅Γ(a + 1)               ⎟\n",
              "⎜────────────, 0, re(a) > -1⎟\n",
              "⎝     s                     ⎠"
            ],
            "text/latex": "$\\displaystyle \\left( \\frac{s^{- a} \\Gamma\\left(a + 1\\right)}{s}, \\  0, \\  \\operatorname{re}{\\left(a\\right)} > -1\\right)$"
          },
          "metadata": {},
          "execution_count": 75
        }
      ]
    },
    {
      "cell_type": "code",
      "source": [
        "laplace_transform(DiracDelta(t)-a*exp(-a*t), t, s, simplify=True)"
      ],
      "metadata": {
        "id": "Y2mGaRvUCTGq",
        "outputId": "f218dbac-8f03-447c-e00f-87c900f3235a",
        "colab": {
          "base_uri": "https://localhost:8080/",
          "height": 58
        }
      },
      "execution_count": 76,
      "outputs": [
        {
          "output_type": "execute_result",
          "data": {
            "text/plain": [
              "⎛  s                ⎞\n",
              "⎜─────, -re(a), True⎟\n",
              "⎝a + s              ⎠"
            ],
            "text/latex": "$\\displaystyle \\left( \\frac{s}{a + s}, \\  - \\operatorname{re}{\\left(a\\right)}, \\  \\text{True}\\right)$"
          },
          "metadata": {},
          "execution_count": 76
        }
      ]
    },
    {
      "cell_type": "code",
      "source": [
        "from sympy import sin, cos, tan, sec\n",
        "from sympy.integrals.trigonometry import trigintegrate\n",
        "from sympy.abc import x"
      ],
      "metadata": {
        "id": "EFV17fN34UP4"
      },
      "execution_count": 77,
      "outputs": []
    },
    {
      "cell_type": "code",
      "source": [
        "trigintegrate(sin(x)*cos(x), x)"
      ],
      "metadata": {
        "id": "4xBePbRS4a5O",
        "outputId": "2e139154-7610-4685-dc5e-40e116300510",
        "colab": {
          "base_uri": "https://localhost:8080/",
          "height": 55
        }
      },
      "execution_count": 78,
      "outputs": [
        {
          "output_type": "execute_result",
          "data": {
            "text/plain": [
              "   2   \n",
              "sin (x)\n",
              "───────\n",
              "   2   "
            ],
            "text/latex": "$\\displaystyle \\frac{\\sin^{2}{\\left(x \\right)}}{2}$"
          },
          "metadata": {},
          "execution_count": 78
        }
      ]
    },
    {
      "cell_type": "code",
      "source": [
        "trigintegrate(sin(x)**2, x)\n",
        "x/2 - sin(x)*cos(x)/2"
      ],
      "metadata": {
        "id": "k_aTxsRL4lCO",
        "outputId": "9f275b94-30b3-47c2-c823-0362a72fd497",
        "colab": {
          "base_uri": "https://localhost:8080/",
          "height": 53
        }
      },
      "execution_count": 79,
      "outputs": [
        {
          "output_type": "execute_result",
          "data": {
            "text/plain": [
              "x   sin(x)⋅cos(x)\n",
              "─ - ─────────────\n",
              "2         2      "
            ],
            "text/latex": "$\\displaystyle \\frac{x}{2} - \\frac{\\sin{\\left(x \\right)} \\cos{\\left(x \\right)}}{2}$"
          },
          "metadata": {},
          "execution_count": 79
        }
      ]
    },
    {
      "cell_type": "code",
      "source": [
        "trigintegrate(tan(x)*sec(x), x)"
      ],
      "metadata": {
        "id": "CBTK9ReR4pvy",
        "outputId": "32874fa3-fe36-40dc-b9e2-8059f2cae855",
        "colab": {
          "base_uri": "https://localhost:8080/",
          "height": 55
        }
      },
      "execution_count": 80,
      "outputs": [
        {
          "output_type": "execute_result",
          "data": {
            "text/plain": [
              "  1   \n",
              "──────\n",
              "cos(x)"
            ],
            "text/latex": "$\\displaystyle \\frac{1}{\\cos{\\left(x \\right)}}$"
          },
          "metadata": {},
          "execution_count": 80
        }
      ]
    },
    {
      "cell_type": "code",
      "source": [
        "trigintegrate(sin(x)*tan(x), x)"
      ],
      "metadata": {
        "id": "19wWT1pR4uiW",
        "outputId": "c56f27d8-58ca-4f93-b908-54700b5ba660",
        "colab": {
          "base_uri": "https://localhost:8080/",
          "height": 53
        }
      },
      "execution_count": 81,
      "outputs": [
        {
          "output_type": "execute_result",
          "data": {
            "text/plain": [
              "  log(sin(x) - 1)   log(sin(x) + 1)         \n",
              "- ─────────────── + ─────────────── - sin(x)\n",
              "         2                 2                "
            ],
            "text/latex": "$\\displaystyle - \\frac{\\log{\\left(\\sin{\\left(x \\right)} - 1 \\right)}}{2} + \\frac{\\log{\\left(\\sin{\\left(x \\right)} + 1 \\right)}}{2} - \\sin{\\left(x \\right)}$"
          },
          "metadata": {},
          "execution_count": 81
        }
      ]
    },
    {
      "cell_type": "code",
      "source": [
        "from sympy.abc import x, y, z\n",
        "from sympy.integrals.deltafunctions import deltaintegrate\n",
        "from sympy import sin, cos, DiracDelta\n",
        "deltaintegrate(x*sin(x)*cos(x)*DiracDelta(x - 1), x)"
      ],
      "metadata": {
        "id": "0iFcAQi047gQ",
        "outputId": "315036bb-b8f0-4b38-ff01-6e4a82ec7114",
        "colab": {
          "base_uri": "https://localhost:8080/",
          "height": 39
        }
      },
      "execution_count": 82,
      "outputs": [
        {
          "output_type": "execute_result",
          "data": {
            "text/plain": [
              "sin(1)⋅cos(1)⋅θ(x - 1)"
            ],
            "text/latex": "$\\displaystyle \\sin{\\left(1 \\right)} \\cos{\\left(1 \\right)} \\theta\\left(x - 1\\right)$"
          },
          "metadata": {},
          "execution_count": 82
        }
      ]
    },
    {
      "cell_type": "code",
      "source": [
        "from sympy import Curve, line_integrate, E, ln\n",
        "from sympy.abc import x, y, t\n",
        "C = Curve([E**t + 1, E**t - 1], (t, 0, ln(2)))\n",
        "line_integrate(x + y, C, [x, y])"
      ],
      "metadata": {
        "id": "cWyJPSJg6fT9",
        "outputId": "dd6dbe62-088e-4278-9cba-5d5aec39d21d",
        "colab": {
          "base_uri": "https://localhost:8080/",
          "height": 38
        }
      },
      "execution_count": 83,
      "outputs": [
        {
          "output_type": "execute_result",
          "data": {
            "text/plain": [
              "3⋅√2"
            ],
            "text/latex": "$\\displaystyle 3 \\sqrt{2}$"
          },
          "metadata": {},
          "execution_count": 83
        }
      ]
    },
    {
      "cell_type": "code",
      "source": [
        "from sympy import Piecewise, S\n",
        "from sympy.abc import x, t\n",
        "p = x**2 + Piecewise((0, x/t < 0), (1, True))\n",
        "p"
      ],
      "metadata": {
        "id": "Ny0jpRmn7LI6",
        "outputId": "5a75f2a3-822c-4696-f8af-20110a4c2ebd",
        "colab": {
          "base_uri": "https://localhost:8080/",
          "height": 68
        }
      },
      "execution_count": 84,
      "outputs": [
        {
          "output_type": "execute_result",
          "data": {
            "text/plain": [
              "     ⎛⎧       x    ⎞\n",
              " 2   ⎜⎪0  for ─ < 0⎟\n",
              "x  + ⎜⎨       t    ⎟\n",
              "     ⎜⎪            ⎟\n",
              "     ⎝⎩1  otherwise⎠"
            ],
            "text/latex": "$\\displaystyle x^{2} + \\begin{cases} 0 & \\text{for}\\: \\frac{x}{t} < 0 \\\\1 & \\text{otherwise} \\end{cases}$"
          },
          "metadata": {},
          "execution_count": 84
        }
      ]
    },
    {
      "cell_type": "code",
      "source": [
        "p.integrate((t, S(4)/5, 1), (x, -1, 1))"
      ],
      "metadata": {
        "id": "qMi_hLHs7S2r",
        "outputId": "c2a3e651-d087-4325-b165-a5d93bcb6db9",
        "colab": {
          "base_uri": "https://localhost:8080/",
          "height": 51
        }
      },
      "execution_count": 85,
      "outputs": [
        {
          "output_type": "execute_result",
          "data": {
            "text/plain": [
              "1/3"
            ],
            "text/latex": "$\\displaystyle \\frac{1}{3}$"
          },
          "metadata": {},
          "execution_count": 85
        }
      ]
    },
    {
      "cell_type": "code",
      "source": [
        "limit(sin(x)/x, x, 0) # default dir='+'"
      ],
      "metadata": {
        "id": "WEvuVXgH9SHN",
        "outputId": "73635c41-ff65-4538-d4cc-7d715c1c436c",
        "colab": {
          "base_uri": "https://localhost:8080/",
          "height": 37
        }
      },
      "execution_count": 87,
      "outputs": [
        {
          "output_type": "execute_result",
          "data": {
            "text/plain": [
              "1"
            ],
            "text/latex": "$\\displaystyle 1$"
          },
          "metadata": {},
          "execution_count": 87
        }
      ]
    },
    {
      "cell_type": "code",
      "source": [
        "limit(1/x, x, 0, dir=\"-\")"
      ],
      "metadata": {
        "id": "r13t509P9mqt",
        "outputId": "47e43d6f-4213-43e9-fda4-bf4f1b493d06",
        "colab": {
          "base_uri": "https://localhost:8080/",
          "height": 37
        }
      },
      "execution_count": 88,
      "outputs": [
        {
          "output_type": "execute_result",
          "data": {
            "text/plain": [
              "-∞"
            ],
            "text/latex": "$\\displaystyle -\\infty$"
          },
          "metadata": {},
          "execution_count": 88
        }
      ]
    },
    {
      "cell_type": "code",
      "source": [
        "limit(1/x, x, 0, dir='+-')"
      ],
      "metadata": {
        "id": "YDhVMERI9mna",
        "outputId": "84114133-3743-47dd-e408-3f913af1a369",
        "colab": {
          "base_uri": "https://localhost:8080/",
          "height": 37
        }
      },
      "execution_count": 89,
      "outputs": [
        {
          "output_type": "execute_result",
          "data": {
            "text/plain": [
              "zoo"
            ],
            "text/latex": "$\\displaystyle \\tilde{\\infty}$"
          },
          "metadata": {},
          "execution_count": 89
        }
      ]
    },
    {
      "cell_type": "code",
      "source": [
        "Limit(sin(x)/x, x, 0)"
      ],
      "metadata": {
        "id": "PXF9rcFo9mkC",
        "outputId": "0b7c2849-4d78-4802-a1db-7d82f198383b",
        "colab": {
          "base_uri": "https://localhost:8080/",
          "height": 58
        }
      },
      "execution_count": 90,
      "outputs": [
        {
          "output_type": "execute_result",
          "data": {
            "text/plain": [
              "     ⎛sin(x)⎞\n",
              " lim ⎜──────⎟\n",
              "x─→0⁺⎝  x   ⎠"
            ],
            "text/latex": "$\\displaystyle \\lim_{x \\to 0^+}\\left(\\frac{\\sin{\\left(x \\right)}}{x}\\right)$"
          },
          "metadata": {},
          "execution_count": 90
        }
      ]
    },
    {
      "cell_type": "code",
      "source": [
        "Limit(1/x, x, 0, dir=\"-\")"
      ],
      "metadata": {
        "id": "W4TBqHTK9me_",
        "outputId": "1f75ea76-de33-4a42-b4a1-4a82eba40a96",
        "colab": {
          "base_uri": "https://localhost:8080/",
          "height": 52
        }
      },
      "execution_count": 91,
      "outputs": [
        {
          "output_type": "execute_result",
          "data": {
            "text/plain": [
              "     1\n",
              " lim ─\n",
              "x─→0⁻x"
            ],
            "text/latex": "$\\displaystyle \\lim_{x \\to 0^-} \\frac{1}{x}$"
          },
          "metadata": {},
          "execution_count": 91
        }
      ]
    },
    {
      "cell_type": "code",
      "source": [
        "x = Symbol('x')\n",
        "series(cos(x),x)"
      ],
      "metadata": {
        "id": "fPgJk5Mv9R9T",
        "outputId": "9d636321-a18f-499e-9537-c4a0a356c62e",
        "colab": {
          "base_uri": "https://localhost:8080/",
          "height": 54
        }
      },
      "execution_count": 92,
      "outputs": [
        {
          "output_type": "execute_result",
          "data": {
            "text/plain": [
              "     2    4        \n",
              "    x    x     ⎛ 6⎞\n",
              "1 - ── + ── + O⎝x ⎠\n",
              "    2    24        "
            ],
            "text/latex": "$\\displaystyle 1 - \\frac{x^{2}}{2} + \\frac{x^{4}}{24} + O\\left(x^{6}\\right)$"
          },
          "metadata": {},
          "execution_count": 92
        }
      ]
    },
    {
      "cell_type": "code",
      "source": [
        "from sympy.abc import x\n",
        "f = tan(x)\n",
        "series(f, x, 2, 6, \"+\")"
      ],
      "metadata": {
        "id": "3xtB-R4-_G-O",
        "outputId": "f9fd08a9-e39a-4172-ea01-5b1c0011d4ff",
        "colab": {
          "base_uri": "https://localhost:8080/",
          "height": 100
        }
      },
      "execution_count": 93,
      "outputs": [
        {
          "output_type": "execute_result",
          "data": {
            "text/plain": [
              "                                                                        ⎛     \n",
              "         ⎛       2   ⎞                  2 ⎛   3            ⎞          3 ⎜1   4\n",
              "tan(2) + ⎝1 + tan (2)⎠⋅(x - 2) + (x - 2) ⋅⎝tan (2) + tan(2)⎠ + (x - 2) ⋅⎜─ + ─\n",
              "                                                                        ⎝3    \n",
              "\n",
              "    2             ⎞            ⎛               3              ⎞            ⎛  \n",
              "⋅tan (2)      4   ⎟          4 ⎜   5      5⋅tan (2)   2⋅tan(2)⎟          5 ⎜2 \n",
              "──────── + tan (2)⎟ + (x - 2) ⋅⎜tan (2) + ───────── + ────────⎟ + (x - 2) ⋅⎜──\n",
              "   3              ⎠            ⎝              3          3    ⎠            ⎝15\n",
              "\n",
              "         2                         ⎞                     \n",
              "   17⋅tan (2)        4         6   ⎟    ⎛       6       ⎞\n",
              " + ────────── + 2⋅tan (2) + tan (2)⎟ + O⎝(x - 2) ; x → 2⎠\n",
              "       15                          ⎠                     "
            ],
            "text/latex": "$\\displaystyle \\tan{\\left(2 \\right)} + \\left(1 + \\tan^{2}{\\left(2 \\right)}\\right) \\left(x - 2\\right) + \\left(x - 2\\right)^{2} \\left(\\tan^{3}{\\left(2 \\right)} + \\tan{\\left(2 \\right)}\\right) + \\left(x - 2\\right)^{3} \\cdot \\left(\\frac{1}{3} + \\frac{4 \\tan^{2}{\\left(2 \\right)}}{3} + \\tan^{4}{\\left(2 \\right)}\\right) + \\left(x - 2\\right)^{4} \\left(\\tan^{5}{\\left(2 \\right)} + \\frac{5 \\tan^{3}{\\left(2 \\right)}}{3} + \\frac{2 \\tan{\\left(2 \\right)}}{3}\\right) + \\left(x - 2\\right)^{5} \\cdot \\left(\\frac{2}{15} + \\frac{17 \\tan^{2}{\\left(2 \\right)}}{15} + 2 \\tan^{4}{\\left(2 \\right)} + \\tan^{6}{\\left(2 \\right)}\\right) + O\\left(\\left(x - 2\\right)^{6}; x\\rightarrow 2\\right)$"
          },
          "metadata": {},
          "execution_count": 93
        }
      ]
    },
    {
      "cell_type": "code",
      "source": [
        "series(f, x, 2, 3, \"-\")"
      ],
      "metadata": {
        "id": "zzYQUOZl_VhL",
        "outputId": "28f5c0ce-f2c2-4b18-da9b-39c7fc1ee667",
        "colab": {
          "base_uri": "https://localhost:8080/",
          "height": 48
        }
      },
      "execution_count": 94,
      "outputs": [
        {
          "output_type": "execute_result",
          "data": {
            "text/plain": [
              "                 ⎛     2       ⎞          2 ⎛   3            ⎞    ⎛       3   \n",
              "tan(2) + (2 - x)⋅⎝- tan (2) - 1⎠ + (2 - x) ⋅⎝tan (2) + tan(2)⎠ + O⎝(x - 2) ; x\n",
              "\n",
              "    ⎞\n",
              " → 2⎠"
            ],
            "text/latex": "$\\displaystyle \\tan{\\left(2 \\right)} + \\left(2 - x\\right) \\left(- \\tan^{2}{\\left(2 \\right)} - 1\\right) + \\left(2 - x\\right)^{2} \\left(\\tan^{3}{\\left(2 \\right)} + \\tan{\\left(2 \\right)}\\right) + O\\left(\\left(x - 2\\right)^{3}; x\\rightarrow 2\\right)$"
          },
          "metadata": {},
          "execution_count": 94
        }
      ]
    },
    {
      "cell_type": "code",
      "source": [],
      "metadata": {
        "id": "MHgPAG7q_dXj"
      },
      "execution_count": null,
      "outputs": []
    },
    {
      "cell_type": "code",
      "source": [],
      "metadata": {
        "id": "hN1LRKAp_eO_"
      },
      "execution_count": null,
      "outputs": []
    },
    {
      "cell_type": "code",
      "source": [],
      "metadata": {
        "id": "qC-8rUvC_eGb"
      },
      "execution_count": null,
      "outputs": []
    },
    {
      "cell_type": "code",
      "source": [
        "t_eval = np.linspace(0, 10, 50)\n",
        "solution = y(t)\n",
        "# Plot the result graphically using matplotlib\n",
        "plt.plot(t, solution)\n",
        "# Add title, legend, and axis labels to the plot\n",
        "plt.title('F(x)')\n",
        "plt.legend(['f(x)'], shadow=True)\n",
        "plt.xlabel('time')\n",
        "plt.ylabel('Função')\n",
        "# Finally, display the annotated plot\n",
        "plt.show()"
      ],
      "metadata": {
        "id": "7SA-lVCB9QeC"
      },
      "execution_count": null,
      "outputs": []
    }
  ]
}