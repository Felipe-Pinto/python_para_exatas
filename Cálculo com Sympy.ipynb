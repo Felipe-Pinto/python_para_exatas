{
  "nbformat": 4,
  "nbformat_minor": 0,
  "metadata": {
    "colab": {
      "provenance": [],
      "authorship_tag": "ABX9TyPDznYD+COFxRmf4B1iIhxV",
      "include_colab_link": true
    },
    "kernelspec": {
      "name": "python3",
      "display_name": "Python 3"
    },
    "language_info": {
      "name": "python"
    }
  },
  "cells": [
    {
      "cell_type": "markdown",
      "metadata": {
        "id": "view-in-github",
        "colab_type": "text"
      },
      "source": [
        "<a href=\"https://colab.research.google.com/github/Felipe-Pinto/python_para_exatas/blob/main/C%C3%A1lculo%20com%20Sympy.ipynb\" target=\"_parent\"><img src=\"https://colab.research.google.com/assets/colab-badge.svg\" alt=\"Open In Colab\"/></a>"
      ]
    },
    {
      "cell_type": "code",
      "execution_count": 1,
      "metadata": {
        "id": "umnArAsh7crp"
      },
      "outputs": [],
      "source": [
        "from sympy import *\n",
        "from sympy.plotting import *"
      ]
    },
    {
      "cell_type": "code",
      "source": [
        "init_printing(pretty_print = True)"
      ],
      "metadata": {
        "id": "Fw4WBjff7yhL"
      },
      "execution_count": 2,
      "outputs": []
    },
    {
      "cell_type": "code",
      "source": [
        "x = Symbol('x')\n",
        "y = Function('F')"
      ],
      "metadata": {
        "id": "_BFELdbQ8IOe"
      },
      "execution_count": 3,
      "outputs": []
    },
    {
      "cell_type": "code",
      "source": [
        "x**2+sin(x)"
      ],
      "metadata": {
        "colab": {
          "base_uri": "https://localhost:8080/",
          "height": 39
        },
        "id": "JdS1XCjx_PgD",
        "outputId": "3a8e7156-ab48-4986-e4fa-dbfb70608b0a"
      },
      "execution_count": 4,
      "outputs": [
        {
          "output_type": "execute_result",
          "data": {
            "text/plain": [
              " 2         \n",
              "x  + sin(x)"
            ],
            "text/latex": "$\\displaystyle x^{2} + \\sin{\\left(x \\right)}$"
          },
          "metadata": {},
          "execution_count": 4
        }
      ]
    },
    {
      "cell_type": "code",
      "source": [
        "Eq1=x**2+sin(x)"
      ],
      "metadata": {
        "id": "e_dQrkTF_bVS"
      },
      "execution_count": 5,
      "outputs": []
    },
    {
      "cell_type": "code",
      "source": [
        "(Eq1).diff(x)"
      ],
      "metadata": {
        "colab": {
          "base_uri": "https://localhost:8080/",
          "height": 39
        },
        "id": "DbZ1Mk0O_iEQ",
        "outputId": "8ea20954-d8cd-4de3-ad6b-bc340b0e265d"
      },
      "execution_count": 6,
      "outputs": [
        {
          "output_type": "execute_result",
          "data": {
            "text/plain": [
              "2⋅x + cos(x)"
            ],
            "text/latex": "$\\displaystyle 2 x + \\cos{\\left(x \\right)}$"
          },
          "metadata": {},
          "execution_count": 6
        }
      ]
    },
    {
      "cell_type": "code",
      "source": [
        "(Eq1).diff(x,2)"
      ],
      "metadata": {
        "colab": {
          "base_uri": "https://localhost:8080/",
          "height": 39
        },
        "id": "Zr5-y1iD_vRO",
        "outputId": "2c6f0a63-dd4e-4220-837c-58886bafa06c"
      },
      "execution_count": 7,
      "outputs": [
        {
          "output_type": "execute_result",
          "data": {
            "text/plain": [
              "2 - sin(x)"
            ],
            "text/latex": "$\\displaystyle 2 - \\sin{\\left(x \\right)}$"
          },
          "metadata": {},
          "execution_count": 7
        }
      ]
    },
    {
      "cell_type": "code",
      "source": [
        "Derivative(Eq1)   #Para visualizar"
      ],
      "metadata": {
        "colab": {
          "base_uri": "https://localhost:8080/",
          "height": 52
        },
        "id": "FQhStZRw_23x",
        "outputId": "5009aea0-6357-4df4-ba46-16c97a7e21d9"
      },
      "execution_count": 8,
      "outputs": [
        {
          "output_type": "execute_result",
          "data": {
            "text/plain": [
              "d ⎛ 2         ⎞\n",
              "──⎝x  + sin(x)⎠\n",
              "dx             "
            ],
            "text/latex": "$\\displaystyle \\frac{d}{d x} \\left(x^{2} + \\sin{\\left(x \\right)}\\right)$"
          },
          "metadata": {},
          "execution_count": 8
        }
      ]
    },
    {
      "cell_type": "code",
      "source": [
        "Derivative(Eq1).doit()  #Para resolver"
      ],
      "metadata": {
        "colab": {
          "base_uri": "https://localhost:8080/",
          "height": 39
        },
        "id": "rSbsktIdAI7s",
        "outputId": "e65038bc-bbdc-4ac3-b46d-77c35d4120c4"
      },
      "execution_count": 9,
      "outputs": [
        {
          "output_type": "execute_result",
          "data": {
            "text/plain": [
              "2⋅x + cos(x)"
            ],
            "text/latex": "$\\displaystyle 2 x + \\cos{\\left(x \\right)}$"
          },
          "metadata": {},
          "execution_count": 9
        }
      ]
    },
    {
      "cell_type": "code",
      "source": [
        "integrate(Eq1)"
      ],
      "metadata": {
        "colab": {
          "base_uri": "https://localhost:8080/",
          "height": 54
        },
        "id": "wF6x-XLtAcZv",
        "outputId": "29af7335-7e95-46b8-e3c6-b54b3703fb94"
      },
      "execution_count": 10,
      "outputs": [
        {
          "output_type": "execute_result",
          "data": {
            "text/plain": [
              " 3         \n",
              "x          \n",
              "── - cos(x)\n",
              "3          "
            ],
            "text/latex": "$\\displaystyle \\frac{x^{3}}{3} - \\cos{\\left(x \\right)}$"
          },
          "metadata": {},
          "execution_count": 10
        }
      ]
    },
    {
      "cell_type": "code",
      "source": [
        "Integral(Eq1)   #Para visualizar"
      ],
      "metadata": {
        "colab": {
          "base_uri": "https://localhost:8080/",
          "height": 55
        },
        "id": "a-hDVjvvAb7p",
        "outputId": "42f0e944-77ef-4e60-d295-592a875123de"
      },
      "execution_count": 11,
      "outputs": [
        {
          "output_type": "execute_result",
          "data": {
            "text/plain": [
              "⌠                 \n",
              "⎮ ⎛ 2         ⎞   \n",
              "⎮ ⎝x  + sin(x)⎠ dx\n",
              "⌡                 "
            ],
            "text/latex": "$\\displaystyle \\int \\left(x^{2} + \\sin{\\left(x \\right)}\\right)\\, dx$"
          },
          "metadata": {},
          "execution_count": 11
        }
      ]
    },
    {
      "cell_type": "code",
      "source": [
        "Integral(Eq1).doit()  #Para resolver"
      ],
      "metadata": {
        "colab": {
          "base_uri": "https://localhost:8080/",
          "height": 54
        },
        "id": "XUrNi44EBP5U",
        "outputId": "0182793c-2f87-4563-9f52-ef3273dda63f"
      },
      "execution_count": 12,
      "outputs": [
        {
          "output_type": "execute_result",
          "data": {
            "text/plain": [
              " 3         \n",
              "x          \n",
              "── - cos(x)\n",
              "3          "
            ],
            "text/latex": "$\\displaystyle \\frac{x^{3}}{3} - \\cos{\\left(x \\right)}$"
          },
          "metadata": {},
          "execution_count": 12
        }
      ]
    },
    {
      "cell_type": "code",
      "source": [
        "Eq2=x**2+sin(x)*exp(x)+2"
      ],
      "metadata": {
        "id": "Rq-6-HchCcRl"
      },
      "execution_count": 13,
      "outputs": []
    },
    {
      "cell_type": "code",
      "source": [
        "Integral(Eq2)"
      ],
      "metadata": {
        "colab": {
          "base_uri": "https://localhost:8080/",
          "height": 55
        },
        "id": "nn57jpUoC2k4",
        "outputId": "25b5942f-dd69-4906-daca-5c1f4a7c9e45"
      },
      "execution_count": 14,
      "outputs": [
        {
          "output_type": "execute_result",
          "data": {
            "text/plain": [
              "⌠                        \n",
              "⎮ ⎛ 2    x           ⎞   \n",
              "⎮ ⎝x  + ℯ ⋅sin(x) + 2⎠ dx\n",
              "⌡                        "
            ],
            "text/latex": "$\\displaystyle \\int \\left(x^{2} + e^{x} \\sin{\\left(x \\right)} + 2\\right)\\, dx$"
          },
          "metadata": {},
          "execution_count": 14
        }
      ]
    },
    {
      "cell_type": "code",
      "source": [
        "Integral(Eq2).doit()  #Para resolver"
      ],
      "metadata": {
        "colab": {
          "base_uri": "https://localhost:8080/",
          "height": 54
        },
        "id": "MNr0Lc4yC2bE",
        "outputId": "4bde3abb-4658-4921-e59f-1e8be56ea29d"
      },
      "execution_count": 15,
      "outputs": [
        {
          "output_type": "execute_result",
          "data": {
            "text/plain": [
              " 3          x           x       \n",
              "x          ℯ ⋅sin(x)   ℯ ⋅cos(x)\n",
              "── + 2⋅x + ───────── - ─────────\n",
              "3              2           2    "
            ],
            "text/latex": "$\\displaystyle \\frac{x^{3}}{3} + 2 x + \\frac{e^{x} \\sin{\\left(x \\right)}}{2} - \\frac{e^{x} \\cos{\\left(x \\right)}}{2}$"
          },
          "metadata": {},
          "execution_count": 15
        }
      ]
    },
    {
      "cell_type": "code",
      "source": [
        "y(x)"
      ],
      "metadata": {
        "colab": {
          "base_uri": "https://localhost:8080/",
          "height": 39
        },
        "id": "B5YHHwkh8h6Z",
        "outputId": "9839268c-8fed-4932-bc48-63e6e4a25ceb"
      },
      "execution_count": 16,
      "outputs": [
        {
          "output_type": "execute_result",
          "data": {
            "text/plain": [
              "F(x)"
            ],
            "text/latex": "$\\displaystyle F{\\left(x \\right)}$"
          },
          "metadata": {},
          "execution_count": 16
        }
      ]
    },
    {
      "cell_type": "code",
      "source": [
        "Eq(x**2-2*x+1,6)"
      ],
      "metadata": {
        "colab": {
          "base_uri": "https://localhost:8080/",
          "height": 39
        },
        "id": "KjQA_NfI82B9",
        "outputId": "a5397049-01e9-4ff5-8b72-672461d4c0fc"
      },
      "execution_count": 17,
      "outputs": [
        {
          "output_type": "execute_result",
          "data": {
            "text/plain": [
              " 2              \n",
              "x  - 2⋅x + 1 = 6"
            ],
            "text/latex": "$\\displaystyle x^{2} - 2 x + 1 = 6$"
          },
          "metadata": {},
          "execution_count": 17
        }
      ]
    },
    {
      "cell_type": "code",
      "source": [
        "Eq(y(x).diff(x)+y(x),3)"
      ],
      "metadata": {
        "colab": {
          "base_uri": "https://localhost:8080/",
          "height": 52
        },
        "id": "rja80OZ99Q63",
        "outputId": "e24177fb-323a-49d8-a8ac-8c27bc6503aa"
      },
      "execution_count": 18,
      "outputs": [
        {
          "output_type": "execute_result",
          "data": {
            "text/plain": [
              "       d           \n",
              "F(x) + ──(F(x)) = 3\n",
              "       dx          "
            ],
            "text/latex": "$\\displaystyle F{\\left(x \\right)} + \\frac{d}{d x} F{\\left(x \\right)} = 3$"
          },
          "metadata": {},
          "execution_count": 18
        }
      ]
    },
    {
      "cell_type": "code",
      "source": [
        "Eq3 = Eq(x**2-2*x+1,6)"
      ],
      "metadata": {
        "id": "almdwXFG9uUR"
      },
      "execution_count": 19,
      "outputs": []
    },
    {
      "cell_type": "code",
      "source": [
        "solve(Eq3,x)"
      ],
      "metadata": {
        "colab": {
          "base_uri": "https://localhost:8080/",
          "height": 48
        },
        "id": "WYS3UAyW9y34",
        "outputId": "0c256026-0aae-4086-c652-a88eda1d727e"
      },
      "execution_count": 20,
      "outputs": [
        {
          "output_type": "execute_result",
          "data": {
            "text/plain": [
              "[1 - √6, 1 + √6]"
            ],
            "text/latex": "$\\displaystyle \\left[ 1 - \\sqrt{6}, \\  1 + \\sqrt{6}\\right]$"
          },
          "metadata": {},
          "execution_count": 20
        }
      ]
    },
    {
      "cell_type": "code",
      "source": [
        "EDO = Eq(y(x).diff(x)+y(x),3)"
      ],
      "metadata": {
        "id": "x-2IDijq9zK9"
      },
      "execution_count": 21,
      "outputs": []
    },
    {
      "cell_type": "code",
      "source": [
        "dsolve(EDO,y(x))"
      ],
      "metadata": {
        "colab": {
          "base_uri": "https://localhost:8080/",
          "height": 39
        },
        "id": "sT-BfEgZ9zTb",
        "outputId": "0d580450-bccd-43d3-fb89-683b9448d2a9"
      },
      "execution_count": 22,
      "outputs": [
        {
          "output_type": "execute_result",
          "data": {
            "text/plain": [
              "           -x    \n",
              "F(x) = C₁⋅ℯ   + 3"
            ],
            "text/latex": "$\\displaystyle F{\\left(x \\right)} = C_{1} e^{- x} + 3$"
          },
          "metadata": {},
          "execution_count": 22
        }
      ]
    },
    {
      "cell_type": "code",
      "source": [
        "f = x**3 + x**2 - x\n",
        "derivative = diff(f, x)\n",
        "critical_points = solve(derivative, x, dict=True)\n",
        "print(critical_points)"
      ],
      "metadata": {
        "id": "PYBmNYaz_FNd",
        "outputId": "2afa64a1-6d4f-4a70-ce86-6fa61789cdf2",
        "colab": {
          "base_uri": "https://localhost:8080/"
        }
      },
      "execution_count": 23,
      "outputs": [
        {
          "output_type": "stream",
          "name": "stdout",
          "text": [
            "[{x: -1}, {x: 1/3}]\n"
          ]
        }
      ]
    },
    {
      "cell_type": "code",
      "source": [
        "point1, point2 = critical_points\n",
        "\n",
        "print(f.subs(point1))\n",
        "print(f.subs(point2))"
      ],
      "metadata": {
        "id": "qmWbnuhC_FVw",
        "outputId": "6383b653-48ea-49bc-c90e-3d960a1aa8ad",
        "colab": {
          "base_uri": "https://localhost:8080/"
        }
      },
      "execution_count": 25,
      "outputs": [
        {
          "output_type": "stream",
          "name": "stdout",
          "text": [
            "1\n",
            "-5/27\n"
          ]
        }
      ]
    },
    {
      "cell_type": "code",
      "source": [
        "curvature = diff(f, x, 2)\n",
        "\n",
        "print(curvature.subs(point1))\n",
        "print(curvature.subs(point2))"
      ],
      "metadata": {
        "id": "iIo7AxDkoQmF",
        "outputId": "d83063e4-8e7e-4a3f-bad8-8238bf5445c4",
        "colab": {
          "base_uri": "https://localhost:8080/"
        }
      },
      "execution_count": 28,
      "outputs": [
        {
          "output_type": "stream",
          "name": "stdout",
          "text": [
            "-4\n",
            "4\n"
          ]
        }
      ]
    },
    {
      "cell_type": "code",
      "source": [
        "#\n",
        "nsolve(cos(x) - x, x, 1)"
      ],
      "metadata": {
        "id": "OKbLFybdoQwx",
        "outputId": "a2bce2ee-0b4a-454e-b427-bb664e65b4cd",
        "colab": {
          "base_uri": "https://localhost:8080/",
          "height": 37
        }
      },
      "execution_count": 32,
      "outputs": [
        {
          "output_type": "execute_result",
          "data": {
            "text/plain": [
              "0.739085133215161"
            ],
            "text/latex": "$\\displaystyle 0.739085133215161$"
          },
          "metadata": {},
          "execution_count": 32
        }
      ]
    },
    {
      "cell_type": "code",
      "source": [
        "nsolve(x**2 + 2, I) # Imaginary initial point returns a complex root"
      ],
      "metadata": {
        "id": "o6KaMmP0oQ84",
        "outputId": "4f55825b-fe5d-46a4-f33e-c6858a0928a2",
        "colab": {
          "base_uri": "https://localhost:8080/",
          "height": 39
        }
      },
      "execution_count": 33,
      "outputs": [
        {
          "output_type": "execute_result",
          "data": {
            "text/plain": [
              "1.4142135623731⋅ⅈ"
            ],
            "text/latex": "$\\displaystyle 1.4142135623731 i$"
          },
          "metadata": {},
          "execution_count": 33
        }
      ]
    },
    {
      "cell_type": "code",
      "source": [
        "nsolve(x**2 - 1, (-10, 0), solver='bisect')"
      ],
      "metadata": {
        "id": "nHGQpb_q_FbE",
        "outputId": "071ad581-01df-4755-90f9-919c16f519fb",
        "colab": {
          "base_uri": "https://localhost:8080/",
          "height": 37
        }
      },
      "execution_count": 34,
      "outputs": [
        {
          "output_type": "execute_result",
          "data": {
            "text/plain": [
              "-1.00000000000000"
            ],
            "text/latex": "$\\displaystyle -1.0$"
          },
          "metadata": {},
          "execution_count": 34
        }
      ]
    },
    {
      "cell_type": "markdown",
      "source": [
        "\n",
        "    functions (f1, f2)\n",
        "    variables to solve for (x1, x2)\n",
        "    starting values (-1, 1)"
      ],
      "metadata": {
        "id": "sjOC_vnCsB5Q"
      }
    },
    {
      "cell_type": "code",
      "source": [
        "x1 = Symbol('x1')\n",
        "x2 = Symbol('x2')\n",
        "f1 = 3 * x1**2 - 2 * x2**2 - 1\n",
        "f2 = x1**2 - 2 * x1 + x2**2 + 2 * x2 - 8\n",
        "print(nsolve((f1, f2), (x1, x2), (-1, 1),prec=15))"
      ],
      "metadata": {
        "id": "M4eyHMSiq0kd",
        "outputId": "b504af4f-fd23-4b28-aea5-5d96a45ad6ef",
        "colab": {
          "base_uri": "https://localhost:8080/"
        }
      },
      "execution_count": 37,
      "outputs": [
        {
          "output_type": "stream",
          "name": "stdout",
          "text": [
            "Matrix([[-1.19287309935246], [1.27844411169911]])\n"
          ]
        }
      ]
    },
    {
      "cell_type": "code",
      "source": [
        "f, g = symbols(\"f g\", cls=Function)\n",
        "x = symbols(\"x\")\n",
        "eqs = [Eq(f(x).diff(x), g(x)), Eq(g(x).diff(x), f(x))]\n",
        "dsolve(eqs, [f(x), g(x)])\n",
        "dsolve(eqs, [f(x), g(x)], ics={f(0): 1, g(2): 3})"
      ],
      "metadata": {
        "id": "TCFs5xzbq0pA",
        "outputId": "ca8c0efd-850d-4686-d9f8-6cdf74a6a776",
        "colab": {
          "base_uri": "https://localhost:8080/",
          "height": 68
        }
      },
      "execution_count": 39,
      "outputs": [
        {
          "output_type": "execute_result",
          "data": {
            "text/plain": [
              "⎡       ⎛       2⎞  x   ⎛   4      2⎞  -x         ⎛       2⎞  x   ⎛   4      2\n",
              "⎢       ⎝1 + 3⋅ℯ ⎠⋅ℯ    ⎝- ℯ  + 3⋅ℯ ⎠⋅ℯ           ⎝1 + 3⋅ℯ ⎠⋅ℯ    ⎝- ℯ  + 3⋅ℯ \n",
              "⎢f(x) = ───────────── - ─────────────────, g(x) = ───────────── + ────────────\n",
              "⎢                4                 4                       4                 4\n",
              "⎣           1 + ℯ             1 + ℯ                   1 + ℯ             1 + ℯ \n",
              "\n",
              "⎞  -x⎤\n",
              "⎠⋅ℯ  ⎥\n",
              "─────⎥\n",
              "     ⎥\n",
              "     ⎦"
            ],
            "text/latex": "$\\displaystyle \\left[ f{\\left(x \\right)} = \\frac{\\left(1 + 3 e^{2}\\right) e^{x}}{1 + e^{4}} - \\frac{\\left(- e^{4} + 3 e^{2}\\right) e^{- x}}{1 + e^{4}}, \\  g{\\left(x \\right)} = \\frac{\\left(1 + 3 e^{2}\\right) e^{x}}{1 + e^{4}} + \\frac{\\left(- e^{4} + 3 e^{2}\\right) e^{- x}}{1 + e^{4}}\\right]$"
          },
          "metadata": {},
          "execution_count": 39
        }
      ]
    },
    {
      "cell_type": "code",
      "source": [
        "eqn = Eq(f(x).diff(x), f(x))\n",
        "dsolve(eqn, f(x), ics={f(x).diff(x).subs(x, 1): 2})"
      ],
      "metadata": {
        "id": "AKVxEfHnq0tU",
        "outputId": "9f8222b3-dfb6-46ed-95e1-9b22669a6f39",
        "colab": {
          "base_uri": "https://localhost:8080/",
          "height": 51
        }
      },
      "execution_count": 40,
      "outputs": [
        {
          "output_type": "execute_result",
          "data": {
            "text/plain": [
              "          -1  x\n",
              "f(x) = 2⋅ℯ  ⋅ℯ "
            ],
            "text/latex": "$\\displaystyle f{\\left(x \\right)} = \\frac{2 e^{x}}{e}$"
          },
          "metadata": {},
          "execution_count": 40
        }
      ]
    },
    {
      "cell_type": "code",
      "source": [
        "t = symbols('t')\n",
        "y = Function('y')(t); y"
      ],
      "metadata": {
        "id": "ffuqhJSRq090",
        "outputId": "520a4e24-d0f5-4453-d5a5-956e69257937",
        "colab": {
          "base_uri": "https://localhost:8080/",
          "height": 39
        }
      },
      "execution_count": 41,
      "outputs": [
        {
          "output_type": "execute_result",
          "data": {
            "text/plain": [
              "y(t)"
            ],
            "text/latex": "$\\displaystyle y{\\left(t \\right)}$"
          },
          "metadata": {},
          "execution_count": 41
        }
      ]
    },
    {
      "cell_type": "code",
      "source": [
        "yp = y.diff(t)\n",
        "ypp = yp.diff(t)\n",
        "eq = ypp + 2*yp + y; eq"
      ],
      "metadata": {
        "id": "nb5UH-wtv61o",
        "outputId": "a2f2efa5-7934-4de0-c5b5-1fa9337651ac",
        "colab": {
          "base_uri": "https://localhost:8080/",
          "height": 54
        }
      },
      "execution_count": 42,
      "outputs": [
        {
          "output_type": "execute_result",
          "data": {
            "text/plain": [
              "                      2      \n",
              "         d           d       \n",
              "y(t) + 2⋅──(y(t)) + ───(y(t))\n",
              "         dt           2      \n",
              "                    dt       "
            ],
            "text/latex": "$\\displaystyle y{\\left(t \\right)} + 2 \\frac{d}{d t} y{\\left(t \\right)} + \\frac{d^{2}}{d t^{2}} y{\\left(t \\right)}$"
          },
          "metadata": {},
          "execution_count": 42
        }
      ]
    },
    {
      "cell_type": "code",
      "source": [
        "dsolve(eq, y)"
      ],
      "metadata": {
        "id": "CN6ycnjIwK05",
        "outputId": "82fc8ee6-56b8-4782-dc79-c7cbef9af817",
        "colab": {
          "base_uri": "https://localhost:8080/",
          "height": 39
        }
      },
      "execution_count": 43,
      "outputs": [
        {
          "output_type": "execute_result",
          "data": {
            "text/plain": [
              "                    -t\n",
              "y(t) = (C₁ + C₂⋅t)⋅ℯ  "
            ],
            "text/latex": "$\\displaystyle y{\\left(t \\right)} = \\left(C_{1} + C_{2} t\\right) e^{- t}$"
          },
          "metadata": {},
          "execution_count": 43
        }
      ]
    }
  ]
}