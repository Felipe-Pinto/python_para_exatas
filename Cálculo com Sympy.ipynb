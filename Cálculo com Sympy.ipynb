{
  "nbformat": 4,
  "nbformat_minor": 0,
  "metadata": {
    "colab": {
      "provenance": [],
      "authorship_tag": "ABX9TyNOUCmTjtUGC+mW2Lw0b6Jp",
      "include_colab_link": true
    },
    "kernelspec": {
      "name": "python3",
      "display_name": "Python 3"
    },
    "language_info": {
      "name": "python"
    }
  },
  "cells": [
    {
      "cell_type": "markdown",
      "metadata": {
        "id": "view-in-github",
        "colab_type": "text"
      },
      "source": [
        "<a href=\"https://colab.research.google.com/github/Felipe-Pinto/python_para_exatas/blob/main/C%C3%A1lculo%20com%20Sympy.ipynb\" target=\"_parent\"><img src=\"https://colab.research.google.com/assets/colab-badge.svg\" alt=\"Open In Colab\"/></a>"
      ]
    },
    {
      "cell_type": "code",
      "execution_count": 14,
      "metadata": {
        "id": "umnArAsh7crp"
      },
      "outputs": [],
      "source": [
        "from sympy import *\n",
        "from sympy.plotting import *"
      ]
    },
    {
      "cell_type": "code",
      "source": [
        "init_printing(pretty_print = True)"
      ],
      "metadata": {
        "id": "Fw4WBjff7yhL"
      },
      "execution_count": 3,
      "outputs": []
    },
    {
      "cell_type": "code",
      "source": [
        "x = Symbol('x')\n",
        "y = Function('F')"
      ],
      "metadata": {
        "id": "_BFELdbQ8IOe"
      },
      "execution_count": 5,
      "outputs": []
    },
    {
      "cell_type": "code",
      "source": [
        "x**2+sin(x)"
      ],
      "metadata": {
        "colab": {
          "base_uri": "https://localhost:8080/",
          "height": 39
        },
        "id": "JdS1XCjx_PgD",
        "outputId": "20dc1e53-c102-4937-e1a6-0237b95c5167"
      },
      "execution_count": 16,
      "outputs": [
        {
          "output_type": "execute_result",
          "data": {
            "text/plain": [
              " 2         \n",
              "x  + sin(x)"
            ],
            "text/latex": "$\\displaystyle x^{2} + \\sin{\\left(x \\right)}$"
          },
          "metadata": {},
          "execution_count": 16
        }
      ]
    },
    {
      "cell_type": "code",
      "source": [
        "Eq1=x**2+sin(x)"
      ],
      "metadata": {
        "id": "e_dQrkTF_bVS"
      },
      "execution_count": 31,
      "outputs": []
    },
    {
      "cell_type": "code",
      "source": [
        "(Eq1).diff(x)"
      ],
      "metadata": {
        "colab": {
          "base_uri": "https://localhost:8080/",
          "height": 39
        },
        "id": "DbZ1Mk0O_iEQ",
        "outputId": "6bea02d0-e8fe-4ebe-a678-a5129d92675f"
      },
      "execution_count": 18,
      "outputs": [
        {
          "output_type": "execute_result",
          "data": {
            "text/plain": [
              "2⋅x + cos(x)"
            ],
            "text/latex": "$\\displaystyle 2 x + \\cos{\\left(x \\right)}$"
          },
          "metadata": {},
          "execution_count": 18
        }
      ]
    },
    {
      "cell_type": "code",
      "source": [
        "(Eq1).diff(x,2)"
      ],
      "metadata": {
        "colab": {
          "base_uri": "https://localhost:8080/",
          "height": 39
        },
        "id": "Zr5-y1iD_vRO",
        "outputId": "c69086b8-e413-4ff4-ab56-91d2a2fb5a0e"
      },
      "execution_count": 19,
      "outputs": [
        {
          "output_type": "execute_result",
          "data": {
            "text/plain": [
              "2 - sin(x)"
            ],
            "text/latex": "$\\displaystyle 2 - \\sin{\\left(x \\right)}$"
          },
          "metadata": {},
          "execution_count": 19
        }
      ]
    },
    {
      "cell_type": "code",
      "source": [
        "Derivative(Eq1)   #Para visualizar"
      ],
      "metadata": {
        "colab": {
          "base_uri": "https://localhost:8080/",
          "height": 52
        },
        "id": "FQhStZRw_23x",
        "outputId": "228fe20e-d214-43f1-ea4e-bdcee8ea928e"
      },
      "execution_count": 21,
      "outputs": [
        {
          "output_type": "execute_result",
          "data": {
            "text/plain": [
              "d ⎛ 2         ⎞\n",
              "──⎝x  + sin(x)⎠\n",
              "dx             "
            ],
            "text/latex": "$\\displaystyle \\frac{d}{d x} \\left(x^{2} + \\sin{\\left(x \\right)}\\right)$"
          },
          "metadata": {},
          "execution_count": 21
        }
      ]
    },
    {
      "cell_type": "code",
      "source": [
        "Derivative(Eq1).doit()  #Para resolver"
      ],
      "metadata": {
        "colab": {
          "base_uri": "https://localhost:8080/",
          "height": 39
        },
        "id": "rSbsktIdAI7s",
        "outputId": "e540b243-18df-405f-e266-b03b4145d20a"
      },
      "execution_count": 24,
      "outputs": [
        {
          "output_type": "execute_result",
          "data": {
            "text/plain": [
              "2⋅x + cos(x)"
            ],
            "text/latex": "$\\displaystyle 2 x + \\cos{\\left(x \\right)}$"
          },
          "metadata": {},
          "execution_count": 24
        }
      ]
    },
    {
      "cell_type": "code",
      "source": [
        "integrate(Eq1)"
      ],
      "metadata": {
        "colab": {
          "base_uri": "https://localhost:8080/",
          "height": 54
        },
        "id": "wF6x-XLtAcZv",
        "outputId": "24288c09-8e82-4464-d449-9ed34904a272"
      },
      "execution_count": 25,
      "outputs": [
        {
          "output_type": "execute_result",
          "data": {
            "text/plain": [
              " 3         \n",
              "x          \n",
              "── - cos(x)\n",
              "3          "
            ],
            "text/latex": "$\\displaystyle \\frac{x^{3}}{3} - \\cos{\\left(x \\right)}$"
          },
          "metadata": {},
          "execution_count": 25
        }
      ]
    },
    {
      "cell_type": "code",
      "source": [
        "Integral(Eq1)   #Para visualizar"
      ],
      "metadata": {
        "colab": {
          "base_uri": "https://localhost:8080/",
          "height": 55
        },
        "id": "a-hDVjvvAb7p",
        "outputId": "214a8e83-efa2-4c1c-addc-554b9e86ddb4"
      },
      "execution_count": 29,
      "outputs": [
        {
          "output_type": "execute_result",
          "data": {
            "text/plain": [
              "⌠                 \n",
              "⎮ ⎛ 2         ⎞   \n",
              "⎮ ⎝x  + sin(x)⎠ dx\n",
              "⌡                 "
            ],
            "text/latex": "$\\displaystyle \\int \\left(x^{2} + \\sin{\\left(x \\right)}\\right)\\, dx$"
          },
          "metadata": {},
          "execution_count": 29
        }
      ]
    },
    {
      "cell_type": "code",
      "source": [
        "Integral(Eq1).doit()  #Para resolver"
      ],
      "metadata": {
        "colab": {
          "base_uri": "https://localhost:8080/",
          "height": 54
        },
        "id": "XUrNi44EBP5U",
        "outputId": "391ca384-26d1-4f0f-b9c3-43f4cff1475b"
      },
      "execution_count": 30,
      "outputs": [
        {
          "output_type": "execute_result",
          "data": {
            "text/plain": [
              " 3         \n",
              "x          \n",
              "── - cos(x)\n",
              "3          "
            ],
            "text/latex": "$\\displaystyle \\frac{x^{3}}{3} - \\cos{\\left(x \\right)}$"
          },
          "metadata": {},
          "execution_count": 30
        }
      ]
    },
    {
      "cell_type": "code",
      "source": [
        "Eq2=x**2+sin(x)*exp(x)+2"
      ],
      "metadata": {
        "id": "Rq-6-HchCcRl"
      },
      "execution_count": 32,
      "outputs": []
    },
    {
      "cell_type": "code",
      "source": [
        "Integral(Eq2)"
      ],
      "metadata": {
        "colab": {
          "base_uri": "https://localhost:8080/",
          "height": 55
        },
        "id": "nn57jpUoC2k4",
        "outputId": "1d3f52e5-a97f-4340-de54-51dda93b610e"
      },
      "execution_count": 33,
      "outputs": [
        {
          "output_type": "execute_result",
          "data": {
            "text/plain": [
              "⌠                        \n",
              "⎮ ⎛ 2    x           ⎞   \n",
              "⎮ ⎝x  + ℯ ⋅sin(x) + 2⎠ dx\n",
              "⌡                        "
            ],
            "text/latex": "$\\displaystyle \\int \\left(x^{2} + e^{x} \\sin{\\left(x \\right)} + 2\\right)\\, dx$"
          },
          "metadata": {},
          "execution_count": 33
        }
      ]
    },
    {
      "cell_type": "code",
      "source": [
        "Integral(Eq2).doit()  #Para resolver"
      ],
      "metadata": {
        "colab": {
          "base_uri": "https://localhost:8080/",
          "height": 54
        },
        "id": "MNr0Lc4yC2bE",
        "outputId": "8000249f-031f-4aa6-f595-25c93c3538c5"
      },
      "execution_count": 34,
      "outputs": [
        {
          "output_type": "execute_result",
          "data": {
            "text/plain": [
              " 3          x           x       \n",
              "x          ℯ ⋅sin(x)   ℯ ⋅cos(x)\n",
              "── + 2⋅x + ───────── - ─────────\n",
              "3              2           2    "
            ],
            "text/latex": "$\\displaystyle \\frac{x^{3}}{3} + 2 x + \\frac{e^{x} \\sin{\\left(x \\right)}}{2} - \\frac{e^{x} \\cos{\\left(x \\right)}}{2}$"
          },
          "metadata": {},
          "execution_count": 34
        }
      ]
    },
    {
      "cell_type": "code",
      "source": [
        "y(x)"
      ],
      "metadata": {
        "colab": {
          "base_uri": "https://localhost:8080/",
          "height": 39
        },
        "id": "B5YHHwkh8h6Z",
        "outputId": "13c895fd-4994-48fe-e43a-57797ca6cf60"
      },
      "execution_count": 6,
      "outputs": [
        {
          "output_type": "execute_result",
          "data": {
            "text/plain": [
              "F(x)"
            ],
            "text/latex": "$\\displaystyle F{\\left(x \\right)}$"
          },
          "metadata": {},
          "execution_count": 6
        }
      ]
    },
    {
      "cell_type": "code",
      "source": [
        "Eq(x**2-2*x+1,6)"
      ],
      "metadata": {
        "colab": {
          "base_uri": "https://localhost:8080/",
          "height": 39
        },
        "id": "KjQA_NfI82B9",
        "outputId": "a029da73-dbba-44ce-dcc4-55302bf907b5"
      },
      "execution_count": 7,
      "outputs": [
        {
          "output_type": "execute_result",
          "data": {
            "text/plain": [
              " 2              \n",
              "x  - 2⋅x + 1 = 6"
            ],
            "text/latex": "$\\displaystyle x^{2} - 2 x + 1 = 6$"
          },
          "metadata": {},
          "execution_count": 7
        }
      ]
    },
    {
      "cell_type": "code",
      "source": [
        "Eq(y(x).diff(x)+y(x),3)"
      ],
      "metadata": {
        "colab": {
          "base_uri": "https://localhost:8080/",
          "height": 52
        },
        "id": "rja80OZ99Q63",
        "outputId": "0f8d7da9-2bee-4d43-b2e5-5eccfd933c15"
      },
      "execution_count": 8,
      "outputs": [
        {
          "output_type": "execute_result",
          "data": {
            "text/plain": [
              "       d           \n",
              "F(x) + ──(F(x)) = 3\n",
              "       dx          "
            ],
            "text/latex": "$\\displaystyle F{\\left(x \\right)} + \\frac{d}{d x} F{\\left(x \\right)} = 3$"
          },
          "metadata": {},
          "execution_count": 8
        }
      ]
    },
    {
      "cell_type": "code",
      "source": [
        "Eq3 = Eq(x**2-2*x+1,6)"
      ],
      "metadata": {
        "id": "almdwXFG9uUR"
      },
      "execution_count": 9,
      "outputs": []
    },
    {
      "cell_type": "code",
      "source": [
        "solve(Eq3,x)"
      ],
      "metadata": {
        "colab": {
          "base_uri": "https://localhost:8080/",
          "height": 48
        },
        "id": "WYS3UAyW9y34",
        "outputId": "d353712f-a6d1-47ff-b33f-56bd3551cf9c"
      },
      "execution_count": 11,
      "outputs": [
        {
          "output_type": "execute_result",
          "data": {
            "text/plain": [
              "[1 - √6, 1 + √6]"
            ],
            "text/latex": "$\\displaystyle \\left[ 1 - \\sqrt{6}, \\  1 + \\sqrt{6}\\right]$"
          },
          "metadata": {},
          "execution_count": 11
        }
      ]
    },
    {
      "cell_type": "code",
      "source": [
        "EDO = Eq(y(x).diff(x)+y(x),3)"
      ],
      "metadata": {
        "id": "x-2IDijq9zK9"
      },
      "execution_count": 12,
      "outputs": []
    },
    {
      "cell_type": "code",
      "source": [
        "dsolve(EDO,y(x))"
      ],
      "metadata": {
        "colab": {
          "base_uri": "https://localhost:8080/",
          "height": 39
        },
        "id": "sT-BfEgZ9zTb",
        "outputId": "d7bfc664-9059-4c46-d472-8d2b72a36d39"
      },
      "execution_count": 13,
      "outputs": [
        {
          "output_type": "execute_result",
          "data": {
            "text/plain": [
              "           -x    \n",
              "F(x) = C₁⋅ℯ   + 3"
            ],
            "text/latex": "$\\displaystyle F{\\left(x \\right)} = C_{1} e^{- x} + 3$"
          },
          "metadata": {},
          "execution_count": 13
        }
      ]
    },
    {
      "cell_type": "code",
      "source": [],
      "metadata": {
        "id": "PYBmNYaz_FNd"
      },
      "execution_count": null,
      "outputs": []
    },
    {
      "cell_type": "code",
      "source": [],
      "metadata": {
        "id": "qmWbnuhC_FVw"
      },
      "execution_count": null,
      "outputs": []
    },
    {
      "cell_type": "code",
      "source": [],
      "metadata": {
        "id": "nHGQpb_q_FbE"
      },
      "execution_count": null,
      "outputs": []
    }
  ]
}