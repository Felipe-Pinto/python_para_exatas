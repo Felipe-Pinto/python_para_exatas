{
  "nbformat": 4,
  "nbformat_minor": 0,
  "metadata": {
    "colab": {
      "name": "pyt_exatas_01_numpy.ipynb",
      "provenance": [],
      "authorship_tag": "ABX9TyNdOCT9s66F1bQP8N/EF+/w"
    },
    "kernelspec": {
      "name": "python3",
      "display_name": "Python 3"
    },
    "language_info": {
      "name": "python"
    }
  },
  "cells": [
    {
      "cell_type": "code",
      "metadata": {
        "id": "lPQnom4nhjmE",
        "colab": {
          "base_uri": "https://localhost:8080/"
        },
        "outputId": "91b41520-a144-4925-c018-1d21c91bc562"
      },
      "source": [
        "print(\"Olá mundo!\") "
      ],
      "execution_count": 1,
      "outputs": [
        {
          "output_type": "stream",
          "name": "stdout",
          "text": [
            "Olá mundo!\n"
          ]
        }
      ]
    },
    {
      "cell_type": "code",
      "metadata": {
        "id": "926DXtxZ1-ap",
        "colab": {
          "base_uri": "https://localhost:8080/"
        },
        "outputId": "b320a46a-4561-4a1b-c25c-e4a51b3a50e8"
      },
      "source": [
        "import numpy as np\n",
        "\n",
        "vet1 = np.array([1, 2, 3])\n",
        "print(\"vetor 1 =\", vet1)\n",
        "\n",
        "vet2 = np.array([1.5, 2., 4.])\n",
        "print(\"vetor 2 =\", vet2)\n",
        "\n",
        "vet_s=vet1+vet2\n",
        "print(\"vetor 3 =\", vet_s)"
      ],
      "execution_count": 2,
      "outputs": [
        {
          "output_type": "stream",
          "name": "stdout",
          "text": [
            "vetor 1 = [1 2 3]\n",
            "vetor 2 = [1.5 2.  4. ]\n",
            "vetor 3 = [2.5 4.  7. ]\n"
          ]
        }
      ]
    },
    {
      "cell_type": "code",
      "metadata": {
        "id": "Cr3tJhrN_osD",
        "colab": {
          "base_uri": "https://localhost:8080/"
        },
        "outputId": "aa1d9d14-cddb-4f71-8fbc-cf6ccb47b0eb"
      },
      "source": [
        "import numpy as np\n",
        "\n",
        "mat1 = np.array([[1, 2], [3, 4]])\n",
        "print(\"matriz 1 = \\n\", mat1)\n",
        "\n",
        "mat2=2*mat1-2\n",
        "print(\"matriz 2 = \\n\", mat2)"
      ],
      "execution_count": 3,
      "outputs": [
        {
          "output_type": "stream",
          "name": "stdout",
          "text": [
            "matriz 1 = \n",
            " [[1 2]\n",
            " [3 4]]\n",
            "matriz 2 = \n",
            " [[0 2]\n",
            " [4 6]]\n"
          ]
        }
      ]
    },
    {
      "cell_type": "code",
      "metadata": {
        "id": "8ypG16OmHQKQ",
        "colab": {
          "base_uri": "https://localhost:8080/"
        },
        "outputId": "672b42e1-f096-4c63-b31e-0ccd90f72d50"
      },
      "source": [
        "import numpy as np\n",
        "\n",
        "v1 = np.array([1, 2, 3])\n",
        "v2 = np.array([0, 2., 4.])\n",
        "vprod=v1*v2\n",
        "vdot=np.dot(v1,v2)\n",
        "vcross=np.cross(v1,v2)\n",
        "print(\"v1*v2=\", vprod)\n",
        "print(\"v1 . v2=\", vdot)\n",
        "print(\"v1 x v2=\", vcross)"
      ],
      "execution_count": 4,
      "outputs": [
        {
          "output_type": "stream",
          "name": "stdout",
          "text": [
            "v1*v2= [ 0.  4. 12.]\n",
            "v1 . v2= 16.0\n",
            "v1 x v2= [ 2. -4.  2.]\n"
          ]
        }
      ]
    },
    {
      "cell_type": "code",
      "metadata": {
        "id": "hgl8xwKpKcRt",
        "colab": {
          "base_uri": "https://localhost:8080/"
        },
        "outputId": "261be55f-7f1a-413c-efa1-43dba26bb289"
      },
      "source": [
        "import numpy as np\n",
        "\n",
        "M1 = np.array([[1, 2], [3, 4]])\n",
        "M2 = np.array([[1, 0], [-1, 2]])\n",
        "\n",
        "Mprod=M1*M2\n",
        "Mdot=np.dot(M1,M2)\n",
        "\n",
        "print(\"M1*M2 = \\n\", Mprod)\n",
        "print(\"M1 . M2 = \\n\", Mdot)\n",
        "\n",
        "Mquad1=M1**2\n",
        "M3 = np.matrix([[1, 2], [3, 4]])\n",
        "Mquad3=M3**2\n",
        "\n",
        "print(\"Mquad1= = \\n\", Mquad1)\n",
        "print(\"Mquad2= = \\n\", Mquad3)"
      ],
      "execution_count": 5,
      "outputs": [
        {
          "output_type": "stream",
          "name": "stdout",
          "text": [
            "M1*M2 = \n",
            " [[ 1  0]\n",
            " [-3  8]]\n",
            "M1 . M2 = \n",
            " [[-1  4]\n",
            " [-1  8]]\n",
            "Mquad1= = \n",
            " [[ 1  4]\n",
            " [ 9 16]]\n",
            "Mquad2= = \n",
            " [[ 7 10]\n",
            " [15 22]]\n"
          ]
        }
      ]
    },
    {
      "cell_type": "code",
      "metadata": {
        "id": "_7FXU6JVYvJm",
        "colab": {
          "base_uri": "https://localhost:8080/"
        },
        "outputId": "1f643c33-931b-4365-a6ff-db276aff1a50"
      },
      "source": [
        "import numpy as np\n",
        "\n",
        "M1 = np.array([[1, 2], [3, 4]])\n",
        "\n",
        "M1_T=np.transpose(M1)\n",
        "\n",
        "\n",
        "M1_inv=np.linalg.inv(M1)\n",
        "\n",
        "print(\"M1= = \\n\", M1)\n",
        "print(\"M1 transposta = \\n\", M1_T)\n",
        "print(\"M1 inversa = \\n\", M1_inv)"
      ],
      "execution_count": 6,
      "outputs": [
        {
          "output_type": "stream",
          "name": "stdout",
          "text": [
            "M1= = \n",
            " [[1 2]\n",
            " [3 4]]\n",
            "M1 transposta = \n",
            " [[1 3]\n",
            " [2 4]]\n",
            "M1 inversa = \n",
            " [[-2.   1. ]\n",
            " [ 1.5 -0.5]]\n"
          ]
        }
      ]
    },
    {
      "cell_type": "code",
      "metadata": {
        "id": "Ama3FAInR7OG",
        "colab": {
          "base_uri": "https://localhost:8080/",
          "height": 286
        },
        "outputId": "b6a05ffa-04ff-4c2b-bbb6-4d7ed2c34ca1"
      },
      "source": [
        "import numpy as np\n",
        "import matplotlib.pyplot as plt\n",
        "\n",
        "v1 = np.array([1, 2])\n",
        "v2 = np.array([0, 2])\n",
        "v3 = v2-v1;\n",
        "origem = np.array([0, 0])\n",
        "plt.figure()\n",
        "plt.quiver(origem[0],origem[1],v1[0],v1[1], \n",
        "           angles='xy', scale_units='xy', scale=1, color=['r'])\n",
        "plt.quiver(origem[0],origem[1],v2[0],v2[1], \n",
        "           angles='xy', scale_units='xy', scale=1, color=['g'])\n",
        "plt.quiver(v1[0],v1[1],v3[0],v3[1], \n",
        "           angles='xy', scale_units='xy', scale=1, color=['b'])\n",
        "plt.xlim(-3, 3)\n",
        "plt.ylim(-3, 3)\n",
        "plt.legend(['v1','v2','v3=v2-v1'])"
      ],
      "execution_count": 7,
      "outputs": [
        {
          "output_type": "execute_result",
          "data": {
            "text/plain": [
              "<matplotlib.legend.Legend at 0x7f8d37fc56d0>"
            ]
          },
          "metadata": {},
          "execution_count": 7
        },
        {
          "output_type": "display_data",
          "data": {
            "image/png": "[encoded data removed]",
            "text/plain": [
              "<Figure size 432x288 with 1 Axes>"
            ]
          },
          "metadata": {
            "needs_background": "light"
          }
        }
      ]
    }
  ]
}