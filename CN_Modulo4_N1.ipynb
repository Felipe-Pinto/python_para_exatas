{
  "nbformat": 4,
  "nbformat_minor": 0,
  "metadata": {
    "colab": {
      "provenance": [],
      "include_colab_link": true
    },
    "kernelspec": {
      "name": "python3",
      "display_name": "Python 3"
    }
  },
  "cells": [
    {
      "cell_type": "markdown",
      "metadata": {
        "id": "view-in-github",
        "colab_type": "text"
      },
      "source": [
        "<a href=\"https://colab.research.google.com/github/Felipe-Pinto/python_para_exatas/blob/main/CN_Modulo4_N1.ipynb\" target=\"_parent\"><img src=\"https://colab.research.google.com/assets/colab-badge.svg\" alt=\"Open In Colab\"/></a>"
      ]
    },
    {
      "cell_type": "markdown",
      "metadata": {
        "id": "LM5TOcqM8WGq"
      },
      "source": [
        "# Exemplo 1:\n",
        "\n",
        "Seja o sistema não-linear $F(x) = 0$ dado por:\n",
        "\n",
        "$f_1(x_1, x_2) = x_1^3 - 3x_1x_2^2 + 1 = 0$\n",
        "\n",
        "$f_2(x_1, x_2) = 3x_1^2x_2 - x_2^3 = 0$\n",
        "\n",
        "A solução desse sistema é conjunto de pares ordenados $(x_1*, x_2*)$ tais que: $f_1(x_1*,x_2*) = 0$ e $f_2(x_1*,x_2*) = 0$.\n",
        "\n",
        "Geometricamente isto corresponde a encontrar os pontos de intersecção das curvas $f_1(x_1,x_2)$ e $f_2(x_1,x_2)$.\n",
        "\n",
        "Portanto, nas próximas seções será indicado como elaborar os gráficos de cada uma das curvas."
      ]
    },
    {
      "cell_type": "markdown",
      "metadata": {
        "id": "ZiEffZ0V9MdY"
      },
      "source": [
        "# 1.1 Desenhando Curvas Quaisquer\n",
        "\n",
        "As curvas relativadas às funções $f_1(x_1,x_2)$ e $f_2(x_1,x_2)$ são dadas a seguir. É importante destacar que os pontos $(x_1*,x_2*)$ de intersecção das duas curvas, ou seja, que satisfazem ambas as equações, são as possíveis as soluções do sistema não-linear.\n",
        "\n",
        "O código a seguir ajuda na construção das curvas.\n"
      ]
    },
    {
      "cell_type": "code",
      "metadata": {
        "id": "GSwWehmt9jPx",
        "outputId": "3c0cfd1c-a2da-4f27-9370-b1acf1b3d74a",
        "colab": {
          "base_uri": "https://localhost:8080/",
          "height": 269
        }
      },
      "source": [
        "import numpy as np\n",
        "import matplotlib.pyplot as plt\n",
        "\n",
        "x1 = np.linspace(-3, 3, 400)\n",
        "x2 = np.linspace(-3, 3, 400)\n",
        "x1, x2 = np.meshgrid(x1, x2)\n",
        "\n",
        "a = 1.0\n",
        "b = 1.0\n",
        "plt.contour(x1, x2,(x1**3 - 3*x1*(x2**2) + 1), [0], colors='b')\n",
        "plt.contour(x1, x2,(3*(x1**2)*x2 - (x2**3) ), [0], colors='r')\n",
        "plt.grid()\n",
        "plt.show()"
      ],
      "execution_count": null,
      "outputs": [
        {
          "output_type": "display_data",
          "data": {
            "image/png": "[encoded data removed]",
            "text/plain": [
              "<Figure size 432x288 with 1 Axes>"
            ]
          },
          "metadata": {
            "tags": [],
            "needs_background": "light"
          }
        }
      ]
    },
    {
      "cell_type": "markdown",
      "metadata": {
        "id": "tTr2MKVg7yt6"
      },
      "source": [
        "# Exemplo 2:\n",
        "\n",
        "Seja o sistema não-linear $F(x) = 0$ dado por:\n",
        "\n",
        "$f_1(x_1, x_2) = x_1^2 + x_2^2 - 2 = 0$\n",
        "\n",
        "$f_2(x_1, x_2) = x_1^2 - \\frac{x_2^2}{9} - 1 = 0$\n",
        "\n",
        "A solução desse sistema é conjunto de pares ordenados $(x_1*, x_2*)$ tais que: $f_1(x_1*,x_2*) = 0$ e $f_2(x_1*,x_2*) = 0$.\n",
        "\n",
        "Geometricamente isto corresponde a encontrar os pontos de intersecção das curvas $f_1(x_1,x_2)$ e $f_2(x_1,x_2)$.\n",
        "\n",
        "Portanto, nas próximas seções será indicado como elaborar os gráficos de cada uma das curvas."
      ]
    },
    {
      "cell_type": "markdown",
      "metadata": {
        "id": "b7p3aDrCnnR2"
      },
      "source": [
        "# 2.1. Desenhando Elipses\n",
        "\n",
        "Elipses na forma padrão seguem a seguinte equação:\n",
        "\n",
        "$\\frac{x_1^2}{a^2} + \\frac{x_2^2}{b^2} = r$,\n",
        "\n",
        "onde: a > b > 0 e r = 1.\n",
        "\n",
        "No caso de círculos, têm-se a = b = 1 e r qualquer.\n",
        "\n",
        "Para o caso a ser estudado, usa-se a = b = 1, r = 2. Além disso, a equação é modificada de forma que o segundo termo contenha apenas o valor zero:\n",
        "\n",
        "$\\frac{x_1^2}{1^2} + \\frac{x_2^2}{1^2} - 2 = 0$.\n",
        "\n",
        "O código correspondente é dado a seguir."
      ]
    },
    {
      "cell_type": "code",
      "metadata": {
        "id": "IyqkHyvCnPkL",
        "outputId": "cbc95a3d-1dcb-43e8-f337-3f59224b9c99",
        "colab": {
          "base_uri": "https://localhost:8080/",
          "height": 269
        }
      },
      "source": [
        "import numpy as np\n",
        "import matplotlib.pyplot as plt\n",
        "\n",
        "x = np.linspace(-3, 3, 400)\n",
        "y = np.linspace(-3, 3, 400)\n",
        "x, y = np.meshgrid(x, y)\n",
        "\n",
        "a = 1.0\n",
        "b = 1.0\n",
        "plt.contour(x, y,(x**2/a**2 + y**2/b**2 - 2), [0], colors='k')\n",
        "plt.grid()\n",
        "plt.show()"
      ],
      "execution_count": null,
      "outputs": [
        {
          "output_type": "display_data",
          "data": {
            "image/png": "[encoded data removed]",
            "text/plain": [
              "<Figure size 432x288 with 1 Axes>"
            ]
          },
          "metadata": {
            "tags": [],
            "needs_background": "light"
          }
        }
      ]
    },
    {
      "cell_type": "markdown",
      "metadata": {
        "id": "15-GEGkfzB7R"
      },
      "source": [
        "# 2.2. Desenhando Hipérboles\n",
        "\n",
        "\n",
        "Hipérboles na forma padrão seguem a seguinte equação:\n",
        "\n",
        "$\\frac{x_1^2}{a^2} - \\frac{x_2^2}{b^2} = 1$,\n",
        "\n",
        "onde: a > b > 0.\n",
        "\n",
        "No caso a ser estudado, têm-se a = 1 e b = 3. Além disso, a equação é modificada de forma que o segundo termo contenha apenas o valor zero:\n",
        "\n",
        "$\\frac{x_1^2}{a^2} - \\frac{x_2^2}{b^2} - 1 = 0$.\n",
        "\n",
        "O código correspondente é dado a seguir."
      ]
    },
    {
      "cell_type": "code",
      "metadata": {
        "id": "XTCMoIHTzFUl",
        "outputId": "f5eb9a27-6fb0-4d0a-d331-6811c350ebe7",
        "colab": {
          "base_uri": "https://localhost:8080/",
          "height": 269
        }
      },
      "source": [
        "x = np.linspace(-3, 3, 400)\n",
        "y = np.linspace(-3, 3, 400)\n",
        "x, y = np.meshgrid(x, y)\n",
        "\n",
        "a = 1.\n",
        "b = 3.\n",
        "plt.contour(x, y,(x**2/a**2 - y**2/b**2 - 1), [0], colors='b')\n",
        "plt.grid()\n",
        "plt.show()"
      ],
      "execution_count": null,
      "outputs": [
        {
          "output_type": "display_data",
          "data": {
            "image/png": "[encoded data removed]",
            "text/plain": [
              "<Figure size 432x288 with 1 Axes>"
            ]
          },
          "metadata": {
            "tags": [],
            "needs_background": "light"
          }
        }
      ]
    },
    {
      "cell_type": "markdown",
      "metadata": {
        "id": "pz17fm5S0fVS"
      },
      "source": [
        "# 2.3. Resolução de sistemas não-lineares\n",
        "\n",
        "Seja o sistema não-linear $F(x) = 0$ dado por:\n",
        "\n",
        "$f_1(x_1, x_2) = x_1^2 + x_2^2 - 2 = 0$\n",
        "\n",
        "$f_2(x_1, x_2) = x_1^2 - \\frac{x_2^2}{9} - 1 = 0$\n",
        "\n",
        "A solução desse sistema é conjunto de pares ordenados $(x_1*, x_2*)$ tais que: $f_1(x_1*,x_2*) = 0$ e $f_2(x_1*,x_2*) = 0$.\n",
        "\n",
        "Geometricamente isto corresponde a encontrar os pontos de intersecção das curvas $f_1(x_1,x_2)$ e $f_2(x_1,x_2)$.\n",
        "\n",
        "Ou seja, os códigos anteriormente empregados serão unificados em um único código para desenhar as duas curvas.\n",
        "\n",
        "\n"
      ]
    },
    {
      "cell_type": "code",
      "metadata": {
        "id": "7ROLFqDh4xxR",
        "outputId": "be087629-24c8-4335-aa1c-add76f4e04da",
        "colab": {
          "base_uri": "https://localhost:8080/",
          "height": 269
        }
      },
      "source": [
        "import numpy as np\n",
        "import matplotlib.pyplot as plt\n",
        "\n",
        "x = np.linspace(-3, 3, 400)\n",
        "y = np.linspace(-3, 3, 400)\n",
        "x, y = np.meshgrid(x, y)\n",
        "\n",
        "a = 1.0\n",
        "b = 1.0\n",
        "plt.contour(x, y,(x**2/a**2 + y**2/b**2 - 2), [0], colors='k')\n",
        "a = 1.\n",
        "b = 3.\n",
        "plt.contour(x, y,(x**2/a**2 - y**2/b**2 - 1), [0], colors='b')\n",
        "plt.grid()\n",
        "plt.show()\n"
      ],
      "execution_count": null,
      "outputs": [
        {
          "output_type": "display_data",
          "data": {
            "image/png": "[encoded data removed]",
            "text/plain": [
              "<Figure size 432x288 with 1 Axes>"
            ]
          },
          "metadata": {
            "tags": [],
            "needs_background": "light"
          }
        }
      ]
    },
    {
      "cell_type": "markdown",
      "metadata": {
        "id": "ZHenQsv6GvTx"
      },
      "source": [
        "# 3. Método de Newton para um sistema não-linear\n",
        "\n",
        "O código a seguir tem por objetivo fornecer o primeiro passo para a implementação de um método de Newton na resolução de um sistema não-linear.\n",
        "\n",
        "De modo geral o método de Newton para um sistema não-linear compreender os seguintes passos:\n",
        "\n",
        "1. A avaliação da função e da matriz Jacobiana em $x^{(k)}$;\n",
        "2. A resolução do sistema linear $J(x^{(k)})s = - F(x^{(k)})$;\n",
        "3. Calcular o novo ponto $x^{(k+1)} = x^{(k)} + s^{(k)}$;\n",
        "4. Avaliar as condições de parada: $||s^{k}||_\\infty < \\epsilon$ ou $||F(x^{k+1})||_\\infty < \\epsilon$ ou # iteração > maxiter.\n",
        "\n",
        "\n",
        "O sistema não-linear $F(x) = 0$ a ser resolvido é dado por:\n",
        "\n",
        "$f_1(x_1, x_2) = x_1^2 + x_2^2 - 2 = 0$\n",
        "\n",
        "$f_2(x_1, x_2) = x_1^2 - \\frac{x_2^2}{9} - 1 = 0$\n",
        "\n",
        "A solução inicial $x^{(0)} = (x_1^{(0)},x_2^{(0)}) = (1, 1)$.\n",
        "\n",
        "A referência para a implementação do código será o sistema não-linear detalhado na seção 2.3."
      ]
    },
    {
      "cell_type": "code",
      "metadata": {
        "id": "dygLld3n7kKP",
        "outputId": "ad4005c6-9174-4c38-8fb0-4184c713c19f",
        "colab": {
          "base_uri": "https://localhost:8080/",
          "height": 70
        }
      },
      "source": [
        "import numpy as np\n",
        "import matplotlib.pyplot as plt\n",
        "from scipy.optimize import fsolve\n",
        "\n",
        "def f(x):\n",
        "  N = len(x)\n",
        "  b = [0]*N\n",
        "  b[0] = x[0]**2 + x[1]**2 - 2\n",
        "  b[1] = x[0]**2 - (x[1]**2)/9 - 1\n",
        "\n",
        "  return b\n",
        "\n",
        "def J(x):\n",
        "  A = [[0,0],[0,0]]\n",
        "  A[0][0] = 2*x[0]\n",
        "  A[0][1] = 2*x[1]\n",
        "  A[1][0] = 2*x[0]\n",
        "  A[1][1] = (-2/9)*x[1]\n",
        "\n",
        "  return A\n",
        "\n",
        "\n",
        "x0 = [1, 1]\n",
        "A  = J(x0)\n",
        "A  = np.array(A)\n",
        "b  = f(x0)\n",
        "b  = -np.array(b)\n",
        "s  = np.linalg.solve(A,b)\n",
        "print(\"s = \",s)\n",
        "x1 = np.array(x0) + s\n",
        "print(\"x1 = \",x1)\n",
        "print(\"f(x1) = \",f(x1))"
      ],
      "execution_count": null,
      "outputs": [
        {
          "output_type": "stream",
          "text": [
            "s =  [ 0.05 -0.05]\n",
            "x1 =  [1.05 0.95]\n",
            "f(x1) =  [0.004999999999999893, 0.0022222222222223476]\n"
          ],
          "name": "stdout"
        }
      ]
    },
    {
      "cell_type": "markdown",
      "metadata": {
        "id": "V-gbNnrs_Snl"
      },
      "source": [
        "# 3.1. Método de Newton Completo\n",
        "\n",
        "O código a seguir generaliza o código fornecido anteriormente de modo a se obter não apenas um passo do método de Newton, mas o processo iterativo que contempla os 3 critérios de parada: $||s^{k}||_\\infty < \\epsilon$ ou $||F(x^{k+1})||_\\infty < \\epsilon$ ou # iteração > maxiter.\n",
        "\n",
        "O sistema não-linear $F(x) = 0$ a ser resolvido é dado por:\n",
        "\n",
        "$f_1(x_1, x_2) = x_1^2 + x_2^2 - 2 = 0$\n",
        "\n",
        "$f_2(x_1, x_2) = x_1^2 - \\frac{x_2^2}{9} - 1 = 0$\n",
        "\n",
        "A solução inicial $x^{(0)} = (x_1^{(0)},x_2^{(0)}) = (1, 1)$."
      ]
    },
    {
      "cell_type": "code",
      "metadata": {
        "id": "KmxQgGX59ZBr",
        "outputId": "bdac4b4e-53f2-4d08-f896-b7add1d9b2f2",
        "colab": {
          "base_uri": "https://localhost:8080/",
          "height": 87
        }
      },
      "source": [
        "import numpy as np\n",
        "import matplotlib.pyplot as plt\n",
        "from scipy.optimize import fsolve\n",
        "from numpy import linalg as LA\n",
        "\n",
        "def f(x):\n",
        "  N = len(x)\n",
        "  b = [0]*N\n",
        "  b[0] = x[0]**2 + x[1]**2 - 2\n",
        "  b[1] = x[0]**2 - (x[1]**2)/9 - 1\n",
        "\n",
        "  return b\n",
        "\n",
        "  return b\n",
        "\n",
        "def J(x):\n",
        "  A = [[0,0],[0,0]]\n",
        "  A[0][0] = 2*x[0]\n",
        "  A[0][1] = 2*x[1]\n",
        "  A[1][0] = 2*x[0]\n",
        "  A[1][1] = (-2/9)*x[1]\n",
        "\n",
        "  return A\n",
        "\n",
        "\n",
        "x0 = [1, 1]\n",
        "maxiter = 10\n",
        "iter = 0\n",
        "eps = 0.01\n",
        "div = 10**20\n",
        "\n",
        "while (iter < maxiter):\n",
        "  A  = np.array(J(x0))\n",
        "  b  = -np.array(f(x0))\n",
        "  s  = np.linalg.solve(A,b)\n",
        "  x1 = np.array(x0) + s\n",
        "  iter = iter + 1\n",
        "  print(\"Iteração \", iter,\": \",x1)\n",
        "\n",
        "  if (LA.norm(s, np.inf) < eps)|(LA.norm(b, np.inf) < eps):\n",
        "    print(\"Convergiu\")\n",
        "    print(LA.norm(s, np.inf))\n",
        "    break\n",
        "  if (LA.norm(s, np.inf) > div):\n",
        "    print(\"Divergiu\")\n",
        "    break\n",
        "\n",
        "  x0 = x1\n"
      ],
      "execution_count": null,
      "outputs": [
        {
          "output_type": "stream",
          "text": [
            "Iteração  1 :  [1.05 0.95]\n",
            "Iteração  2 :  [1.04880952 0.94868421]\n",
            "Convergiu\n",
            "0.0013157894736841006\n"
          ],
          "name": "stdout"
        }
      ]
    },
    {
      "cell_type": "markdown",
      "metadata": {
        "id": "L2dKE5KYUH53"
      },
      "source": [
        "# 3.2. Método de Newton Completo: Novo exemplo\n",
        "\n",
        "O sistema não-linear $F(x) = 0$ a ser resolvido pelo método de Newton é dado por:\n",
        "\n",
        "$f_1(x_1, x_2) = x_1 + x_2 - 3 = 0$\n",
        "\n",
        "$f_2(x_1, x_2) = x_1^2 + x_2^2 - 9 = 0$\n",
        "\n",
        "A solução inicial $x^{(0)} = (x_1^{(0)},x_2^{(0)}) = (1, 5)$.\n",
        "\n",
        "O código a seguir será adaptado para esse novo exemplo."
      ]
    },
    {
      "cell_type": "code",
      "metadata": {
        "id": "_TRSIeTrG1t9",
        "outputId": "7e50c2b4-90b0-4e3c-8416-19dbc338fb94",
        "colab": {
          "base_uri": "https://localhost:8080/",
          "height": 140
        }
      },
      "source": [
        "import numpy as np\n",
        "import matplotlib.pyplot as plt\n",
        "from scipy.optimize import fsolve\n",
        "from numpy import linalg as LA\n",
        "\n",
        "def f(x):\n",
        "  N = len(x)\n",
        "  b = [0]*N\n",
        "  b[0] = x[0] + x[1] - 3\n",
        "  b[1] = x[0]**2 + x[1]**2 - 9\n",
        "\n",
        "  return b\n",
        "\n",
        "def J(x):\n",
        "  A = [[0,0],[0,0]]\n",
        "  A[0][0] = 1\n",
        "  A[0][1] = 1\n",
        "  A[1][0] = 2*x[0]\n",
        "  A[1][1] = 2*x[1]\n",
        "\n",
        "  return A\n",
        "\n",
        "\n",
        "x0 = [1, 5]\n",
        "maxiter = 10\n",
        "iter = 0\n",
        "eps = 0.01\n",
        "div = 10**20\n",
        "\n",
        "while (iter < maxiter):\n",
        "  A  = np.array(J(x0))\n",
        "  b  = -np.array(f(x0))\n",
        "  s  = np.linalg.solve(A,b)\n",
        "  x1 = np.array(x0) + s\n",
        "  iter = iter + 1\n",
        "  print(\"Iteração \", iter,\": \",x1)\n",
        "\n",
        "  if (LA.norm(s, np.inf) < eps)|(LA.norm(b, np.inf) < eps):\n",
        "    print(s)\n",
        "    print(LA.norm(s, np.inf))\n",
        "    print(\"Convergiu\")\n",
        "    break\n",
        "  if (LA.norm(s, np.inf) > div):\n",
        "    print(\"Divergiu\")\n",
        "    break\n",
        "\n",
        "  x0 = x1\n"
      ],
      "execution_count": null,
      "outputs": [
        {
          "output_type": "stream",
          "text": [
            "Iteração  1 :  [-0.625  3.625]\n",
            "Iteração  2 :  [-0.09191176  3.09191176]\n",
            "Iteração  3 :  [-2.65334194e-03  3.00265334e+00]\n",
            "Iteração  4 :  [-2.34259734e-06  3.00000234e+00]\n",
            "[ 0.002651 -0.002651]\n",
            "0.002650999339899264\n",
            "Convergiu\n"
          ],
          "name": "stdout"
        }
      ]
    },
    {
      "cell_type": "markdown",
      "metadata": {
        "id": "JqGGSpr7aQc9"
      },
      "source": [
        "# 3.3 Código do Método de Newton + Gráfico\n",
        "\n",
        "O código anterior é modificado para que as iterações sejam colocadas em um gráfico."
      ]
    },
    {
      "cell_type": "code",
      "metadata": {
        "id": "UIhR7biMaYwl",
        "outputId": "e652a592-e1f2-4f4b-818e-7828332e2c7e",
        "colab": {
          "base_uri": "https://localhost:8080/",
          "height": 390
        }
      },
      "source": [
        "import numpy as np\n",
        "import matplotlib.pyplot as plt\n",
        "from scipy.optimize import fsolve\n",
        "from numpy import linalg as LA\n",
        "\n",
        "def f(x):\n",
        "  N = len(x)\n",
        "  b = [0]*N\n",
        "  b[0] = x[0] + x[1] - 3\n",
        "  b[1] = x[0]**2 + x[1]**2 - 9\n",
        "\n",
        "  return b\n",
        "\n",
        "def J(x):\n",
        "  A = [[0,0],[0,0]]\n",
        "  A[0][0] = 1\n",
        "  A[0][1] = 1\n",
        "  A[1][0] = 2*x[0]\n",
        "  A[1][1] = 2*x[1]\n",
        "\n",
        "  return A\n",
        "\n",
        "x0 = [1, 5]\n",
        "xv = []\n",
        "xv.append(np.array(x0))\n",
        "maxiter = 10\n",
        "iter = 0\n",
        "eps = 0.01\n",
        "div = 10**20\n",
        "\n",
        "while (iter < maxiter):\n",
        "  A  = np.array(J(x0))\n",
        "  b  = -np.array(f(x0))\n",
        "  s  = np.linalg.solve(A,b)\n",
        "  x1 = np.array(x0) + s\n",
        "  xv.append(x1)\n",
        "  iter = iter + 1\n",
        "  print(\"Iteração \", iter,\": \",x1)\n",
        "\n",
        "  if (LA.norm(s, np.inf) < eps)|(LA.norm(b, np.inf) < eps):\n",
        "    print(s)\n",
        "    print(LA.norm(s, np.inf))\n",
        "    print(\"Convergiu\")\n",
        "    break\n",
        "  if (LA.norm(s, np.inf) > div):\n",
        "    print(\"Divergiu\")\n",
        "    break\n",
        "\n",
        "  x0 = x1\n",
        "\n",
        "\n",
        "x = np.linspace(-4, 4, 400)\n",
        "y = np.linspace(-4, 4, 400)\n",
        "x, y = np.meshgrid(x, y)\n",
        "\n",
        "a = 1.0\n",
        "b = 1.0\n",
        "plt.contour(x, y,(x + y - 3), [0], colors='k')\n",
        "a = 1.\n",
        "b = 3.\n",
        "plt.contour(x, y,(x**2 + y**2 - 9), [0], colors='b')\n",
        "cont = 0\n",
        "for e in xv:\n",
        "  plt.plot(e[0],e[1],'or')\n",
        "  #name = '$x_'+str(cont)+'$'\n",
        "  name = cont\n",
        "  plt.text(e[0]+0.1, e[1]+0.1, name, fontsize=12)\n",
        "  cont = cont + 1\n",
        "\n",
        "plt.grid()\n",
        "plt.show()\n"
      ],
      "execution_count": null,
      "outputs": [
        {
          "output_type": "stream",
          "text": [
            "Iteração  1 :  [-0.625  3.625]\n",
            "Iteração  2 :  [-0.09191176  3.09191176]\n",
            "Iteração  3 :  [-2.65334194e-03  3.00265334e+00]\n",
            "Iteração  4 :  [-2.34259734e-06  3.00000234e+00]\n",
            "[ 0.002651 -0.002651]\n",
            "0.002650999339899264\n",
            "Convergiu\n"
          ],
          "name": "stdout"
        },
        {
          "output_type": "display_data",
          "data": {
            "image/png": "[encoded data removed]",
            "text/plain": [
              "<Figure size 432x288 with 1 Axes>"
            ]
          },
          "metadata": {
            "tags": [],
            "needs_background": "light"
          }
        }
      ]
    }
  ]
}