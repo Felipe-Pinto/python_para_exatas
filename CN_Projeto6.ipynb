{
  "nbformat": 4,
  "nbformat_minor": 0,
  "metadata": {
    "colab": {
      "provenance": [],
      "include_colab_link": true
    },
    "kernelspec": {
      "name": "python3",
      "display_name": "Python 3"
    }
  },
  "cells": [
    {
      "cell_type": "markdown",
      "metadata": {
        "id": "view-in-github",
        "colab_type": "text"
      },
      "source": [
        "<a href=\"https://colab.research.google.com/github/Felipe-Pinto/python_para_exatas/blob/main/CN_Projeto6.ipynb\" target=\"_parent\"><img src=\"https://colab.research.google.com/assets/colab-badge.svg\" alt=\"Open In Colab\"/></a>"
      ]
    },
    {
      "cell_type": "markdown",
      "metadata": {
        "id": "Zd9Np2r_vo6j"
      },
      "source": [
        "# Projeto 6: Achando o melhor polinômio usando método dos quadrados mínimos\n",
        "\n",
        "O método dos quadrados mínimos consiste em escolher os coeficientes $\\alpha_1, \\alpha_2, \\cdots, \\alpha_n$ de modo a encontrar uma função $\\varphi(x)$ que minimize a seguinte função:\n",
        "\n",
        "**Min** F($\\alpha_1, \\alpha_2, \\cdots, \\alpha_n$) = $\\displaystyle \\sum_{k=1}^{m} d_k^2 = \\displaystyle \\sum_{k=1}^{m} (f(x_k) - \\varphi(x_k))^2$\n",
        "\n",
        "onde:\n",
        "\n",
        "$\\varphi(x_k) = \\alpha_1 g_1(x_k) + \\alpha_2 g_2(x_k) + \\cdots + \\alpha_n g_n(x_k)$, $g_i(x_k), \\forall i = 1,\\cdots, n$ são funções $n$ contínuas em $[a,b]$, $d_k^2$ são os desvios quadráticos entre o valor tabelado $f(x_k)$ e o modelo proposto pela função $\\varphi(x)$ no k-ésimo ponto tabelado $x_k$.\n",
        "\n",
        "É importante frisar que os n pontos tabelados devem ser distintos e a representação geométrica para encontrar o modelo tal que minimiza os erros entre os valores tabelados. No caso apresentado na Figura 1, é suposto que o modelo é um polinômio de grau 1 (reta).\n",
        "\n",
        "![](https://drive.google.com/uc?export=view&id=1M1iSigR_fpvq8YFBemgHH5J6Jyj_lCZ5)\n",
        "Figura 1: Reta que minimiza o erro entre valores tabelados e o valor fornecido pelo modelo.\n",
        "\n",
        "É importante ressaltar que neste caso: $\\varphi(x) = a + bx$, tal que $g_1(x) = 1$, $g_2(x) = x$, $\\alpha_1 = a$ e $\\alpha_2 = b$.\n",
        "\n",
        "A resolução deste problema consiste na obtenção e resolução de um sistema de equações associado, denominado **sistema normal A x = b**.\n",
        "\n",
        "Para o caso de se querer realizar a ajuste com um modelo quadrático, deverão ser empregadas as seguintes funções: **$g_1(x) = 1$**, **$g_2(x) = x$** e **$g_3(x) = x^2$**.\n",
        "\n",
        "O sistema poderá ser escrito com:\n",
        "\n",
        "![](https://drive.google.com/uc?export=view&id=1MNwv5si9JDb8oKGMpUSqdo5EptoWLzA8)\n",
        "\n",
        "Esse sistema pode ser reagrupado para deixar em evidência os componentes da matriz **A** e do vetor **b** do **sistema normal** associado.\n",
        "\n",
        "\n",
        "![](https://drive.google.com/uc?export=view&id=1dYUvNKPseOUSvxRikyQPL6YWrNpgwHBs)\n",
        "\n",
        "O código dado a seguir fornece a melhor curva para qualquer polinômio de grau **dim-1**. Por exemplo, se **dim = 3**, então, serão usadas as funções $g_1(x) = 1$, $g_2(x) = x$ e $g_3(x) = x^2$. O código irá determinar quais são os valores $\\alpha_1$, $\\alpha_2$ e $\\alpha_3$ associados que minimizam a soma do erro quadrático entre o valor tabelado $f(x)$ e $\\varphi$ nos m pontos tabelados dados."
      ]
    },
    {
      "cell_type": "code",
      "metadata": {
        "colab": {
          "base_uri": "https://localhost:8080/"
        },
        "id": "SUU_PPrFtnyp",
        "outputId": "467ba7a4-2876-413d-874a-dbccdbcbd65b"
      },
      "source": [
        "import numpy as np\n",
        "\n",
        "def sistemaAumentado(x,y,dim):\n",
        "  n = len(x)\n",
        "  A = np.empty((dim,dim))\n",
        "  b = np.empty((dim))\n",
        "  soma = []\n",
        "  for i in range(0,2*dim+1):\n",
        "    aux = 0\n",
        "    for k in range(0,n):\n",
        "      aux = aux + x[k]**i\n",
        "    soma.append(aux)\n",
        "\n",
        "  for i in range(0,dim):\n",
        "    for j in range(i,dim):\n",
        "      A[i,j] = soma[i+j]\n",
        "      if (i != j):\n",
        "        A[j,i] = A[i,j]\n",
        "\n",
        "\n",
        "  b = []\n",
        "  for i in range(0,dim):\n",
        "    aux = 0\n",
        "    for k in range(0,n):\n",
        "      aux = aux + y[k]*(x[k]**(i))\n",
        "    b.append(aux)\n",
        "\n",
        "  return A, b\n",
        "\n",
        "x = [-1.0, -0.75, -0.6,\t-0.5,\t-0.3, 0, 0.2, 0.4, 0.5,\t0.7, 1]\n",
        "y = [2.05, 1.153, 0.45,\t0.4,\t0.5, 0,\t0.2, 0.6, 0.512, 1.2, 2.05]\n",
        "A, b = sistemaAumentado(x,y,10)\n",
        "print(\"A = \",A)\n",
        "print(\"b = \",b)\n",
        "coef = np.linalg.solve(A,b)\n",
        "print(\"coef = \",coef)"
      ],
      "execution_count": null,
      "outputs": [
        {
          "output_type": "stream",
          "text": [
            "A =  [[ 1.10000000e+01 -3.50000000e-01  4.20250000e+00 -2.49875000e-01\n",
            "   2.84640625e+00 -1.38864687e-01  2.37842252e+00 -7.76906867e-02\n",
            "   2.18309312e+00 -4.45658023e-02]\n",
            " [-3.50000000e-01  4.20250000e+00 -2.49875000e-01  2.84640625e+00\n",
            "  -1.38864687e-01  2.37842252e+00 -7.76906867e-02  2.18309312e+00\n",
            "  -4.45658023e-02  2.09267165e+00]\n",
            " [ 4.20250000e+00 -2.49875000e-01  2.84640625e+00 -1.38864687e-01\n",
            "   2.37842252e+00 -7.76906867e-02  2.18309312e+00 -4.45658023e-02\n",
            "   2.09267165e+00 -2.60496471e-02]\n",
            " [-2.49875000e-01  2.84640625e+00 -1.38864687e-01  2.37842252e+00\n",
            "  -7.76906867e-02  2.18309312e+00 -4.45658023e-02  2.09267165e+00\n",
            "  -2.60496471e-02  2.04820002e+00]\n",
            " [ 2.84640625e+00 -1.38864687e-01  2.37842252e+00 -7.76906867e-02\n",
            "   2.18309312e+00 -4.45658023e-02  2.09267165e+00 -2.60496471e-02\n",
            "   2.04820002e+00 -1.53678801e-02]\n",
            " [-1.38864687e-01  2.37842252e+00 -7.76906867e-02  2.18309312e+00\n",
            "  -4.45658023e-02  2.09267165e+00 -2.60496471e-02  2.04820002e+00\n",
            "  -1.53678801e-02  2.02550862e+00]\n",
            " [ 2.37842252e+00 -7.76906867e-02  2.18309312e+00 -4.45658023e-02\n",
            "   2.09267165e+00 -2.60496471e-02  2.04820002e+00 -1.53678801e-02\n",
            "   2.02550862e+00 -9.08502506e-03]\n",
            " [-7.76906867e-02  2.18309312e+00 -4.45658023e-02  2.09267165e+00\n",
            "  -2.60496471e-02  2.04820002e+00 -1.53678801e-02  2.02550862e+00\n",
            "  -9.08502506e-03  2.01365895e+00]\n",
            " [ 2.18309312e+00 -4.45658023e-02  2.09267165e+00 -2.60496471e-02\n",
            "   2.04820002e+00 -1.53678801e-02  2.02550862e+00 -9.08502506e-03\n",
            "   2.01365895e+00 -5.35973776e-03]\n",
            " [-4.45658023e-02  2.09267165e+00 -2.60496471e-02  2.04820002e+00\n",
            "  -1.53678801e-02  2.02550862e+00 -9.08502506e-03  2.01365895e+00\n",
            "  -5.35973776e-03  2.00737538e+00]]\n",
            "b =  [9.115, -0.10874999999999968, 5.8755625, -0.1315218749999998, 4.88798640625, -0.0984273046875006, 4.4844681285156245, -0.06592763138671831, 4.296155108040038, -0.04231698078002921]\n",
            "coef =  [-7.00377619e-03 -9.25268076e-01  9.62263701e+00  1.47502480e+01\n",
            " -5.57635464e+01 -6.77707607e+01  1.15396091e+02  1.18556986e+02\n",
            " -6.71981472e+01 -6.46112184e+01]\n"
          ],
          "name": "stdout"
        }
      ]
    },
    {
      "cell_type": "code",
      "metadata": {
        "colab": {
          "base_uri": "https://localhost:8080/",
          "height": 265
        },
        "id": "41992fuLw57r",
        "outputId": "e17d73ac-efcc-4fba-b524-88f7aca32d33"
      },
      "source": [
        "import numpy as np\n",
        "import matplotlib.pyplot as plt\n",
        "\n",
        "plt.plot(x, y,'ro')\n",
        "data = np.linspace(min(x), max(x), 100)\n",
        "# p = coe[0]*x^2 + coef[1]*x + coef[0]\n",
        "c = coef[::-1].copy()\n",
        "p = np.poly1d(c)\n",
        "plt.plot(data, p(data),'b-')\n",
        "plt.grid()\n",
        "plt.show()\n"
      ],
      "execution_count": null,
      "outputs": [
        {
          "output_type": "display_data",
          "data": {
            "image/png": "[encoded data removed]",
            "text/plain": [
              "<Figure size 432x288 with 1 Axes>"
            ]
          },
          "metadata": {
            "tags": [],
            "needs_background": "light"
          }
        }
      ]
    },
    {
      "cell_type": "markdown",
      "metadata": {
        "id": "QecoLlv6w8EI"
      },
      "source": [
        "O projeto consiste em se realizar o ajuste de curvas para todos os polinômios de grau 1 até 10 e verificar qual deles possui o menor erro de ajuste para os dados fornecidos.\n",
        "\n",
        "Para obter os dados é necessário rodar o código dado a seguir."
      ]
    },
    {
      "cell_type": "code",
      "metadata": {
        "colab": {
          "base_uri": "https://localhost:8080/",
          "height": 354
        },
        "id": "xEGCuQN4xAqI",
        "outputId": "b94f61ed-e049-422c-decb-553d1d9fed39"
      },
      "source": [
        "import random\n",
        "import numpy as np\n",
        "import matplotlib.pyplot as plt\n",
        "\n",
        "\n",
        "def runge(x):\n",
        "  return 1 / (1 + 25 * x ** 2)\n",
        "\n",
        "\n",
        "# Obtendo valores para gerar as opções de parâmetros para o problema a ser explicado em vídeo.\n",
        "texto    = input('Digite o número da matrícula: ')\n",
        "num      = int(texto)\n",
        "random.seed(num)\n",
        "x = []\n",
        "y = []\n",
        "aux = -1\n",
        "for i in range(0,30):\n",
        "  aux = aux + random.random()/7\n",
        "  x.append(aux)\n",
        "  y.append(runge(aux))\n",
        "\n",
        "print(\" Valores tabelados \")\n",
        "print(\" x = \",x)\n",
        "print(\" y = \",y)\n",
        "\n",
        "\n",
        "plt.plot(x, y,'ro')\n",
        "plt.grid()\n",
        "plt.show()"
      ],
      "execution_count": null,
      "outputs": [
        {
          "output_type": "stream",
          "text": [
            "Digite o número da matrícula: 950219\n",
            " Valores tabelados \n",
            " x =  [-0.9534968312177337, -0.8754124245812684, -0.8658189566072368, -0.8347397398769127, -0.7423708558134187, -0.6982032688713943, -0.6252903542734847, -0.6163691910404758, -0.6023740077967298, -0.47070594830264867, -0.4161238820880398, -0.3889393491676608, -0.35915308208847246, -0.2267231115742238, -0.09732694983155857, -0.04546658326744325, 0.06047744449105728, 0.1387261591192251, 0.20021816304062473, 0.2656368512328874, 0.3777801721361632, 0.44271984746932425, 0.47139110268834805, 0.5780495421662782, 0.6313344336737318, 0.7177782661017162, 0.7959488182092872, 0.8105353430537655, 0.919132775290399, 1.0539685560340124]\n",
            " y =  [0.04214269442585524, 0.04960644029213395, 0.05065583696612729, 0.054289521403295175, 0.06766878640554756, 0.07583113703562835, 0.09281000278533084, 0.09525828553475123, 0.0992914450113147, 0.15292619118914982, 0.1876532729262217, 0.20912428349138593, 0.23669908492345185, 0.43762062926948375, 0.8085294167317996, 0.9508593466388355, 0.9162224243632222, 0.6751630624090524, 0.4994548898677133, 0.3617848908683058, 0.2189167514182826, 0.16949090538630895, 0.15254973242060127, 0.10691148735884769, 0.0912027706413028, 0.07204537772940726, 0.05938819576495332, 0.057391481769358946, 0.04520769813714861, 0.034756927342783205]\n"
          ],
          "name": "stdout"
        },
        {
          "output_type": "display_data",
          "data": {
            "image/png": "[encoded data removed]",
            "text/plain": [
              "<Figure size 432x288 with 1 Axes>"
            ]
          },
          "metadata": {
            "tags": [],
            "needs_background": "light"
          }
        }
      ]
    }
  ]
}