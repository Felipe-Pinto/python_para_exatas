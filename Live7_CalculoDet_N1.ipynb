{
  "nbformat": 4,
  "nbformat_minor": 0,
  "metadata": {
    "colab": {
      "provenance": [],
      "include_colab_link": true
    },
    "kernelspec": {
      "name": "python3",
      "display_name": "Python 3"
    }
  },
  "cells": [
    {
      "cell_type": "markdown",
      "metadata": {
        "id": "view-in-github",
        "colab_type": "text"
      },
      "source": [
        "<a href=\"https://colab.research.google.com/github/Felipe-Pinto/python_para_exatas/blob/main/Live7_CalculoDet_N1.ipynb\" target=\"_parent\"><img src=\"https://colab.research.google.com/assets/colab-badge.svg\" alt=\"Open In Colab\"/></a>"
      ]
    },
    {
      "cell_type": "markdown",
      "metadata": {
        "id": "2lo_0jDoHiKZ"
      },
      "source": [
        "# 1. Solução de um sistema linear via regra de Cramer\n",
        "\n",
        "A solução de um sistema linear $Ax = b$ é dada pelo vetor $x*$. Cada componente $j$ do vetor solução $x^{*}_j$ pode ser obtida pelo seguinte equacionamento:\n",
        "\n",
        "$x^{*}_j = \\frac{det(A_j)}{det(A)}$,\n",
        "\n",
        "onde:\n",
        "\n",
        "$A_j$ é a matriz se obtém a partir da matriz $A$ substituindo-se a j-ésima coluna de $A$ pelos termos independentes do vetor $b$.\n",
        "\n",
        "O determinante da matriz $A$ pode ser calculado através da seguinte equação:\n",
        "\n",
        "$det(A) = \\displaystyle \\sum_{j=1}^{n} (-1)^{i+j} a_{ij} |A_{ij}|$\n",
        "\n",
        "onde:\n",
        "\n",
        "$A_{ij}$ é a matriz que se obtém a partir da matriz $A$ eliminando a a i-ésima linha e a j-ésima coluna.\n",
        "\n"
      ]
    },
    {
      "cell_type": "code",
      "metadata": {
        "id": "x4Lige3CGdIj",
        "outputId": "757feb69-cffb-40ff-e631-b70375c14afa",
        "colab": {
          "base_uri": "https://localhost:8080/",
          "height": 281
        }
      },
      "source": [
        "import numpy as np\n",
        "\n",
        "A = [[3, 1], [2, 3]]\n",
        "b = [9, 13]\n",
        "\n",
        "a = np.array(A)\n",
        "print(\"A = \",a)\n",
        "deta = np.linalg.det(a)\n",
        "print(\"det(A) = \",deta)\n",
        "\n",
        "print(\"------------\")\n",
        "\n",
        "a1 = a.copy()\n",
        "a1[:,0] = b.copy()\n",
        "print(\"A_1 = \",a1)\n",
        "deta1 = np.linalg.det(a1)\n",
        "print(\"det(A1) = \",deta1)\n",
        "x1 = deta1/deta\n",
        "print(\"x1 = \", x1)\n",
        "\n",
        "print(\"------------\")\n",
        "\n",
        "a2 = a.copy()\n",
        "print(a2)\n",
        "a2[:,1] = b.copy()\n",
        "print(\"A_2 = \",a2)\n",
        "deta2 = np.linalg.det(a2)\n",
        "print(\"det(A2) = \",deta2)\n",
        "x2 = deta2/deta\n",
        "print(\"x2 = \",x2)"
      ],
      "execution_count": null,
      "outputs": [
        {
          "output_type": "stream",
          "text": [
            "A =  [[3 1]\n",
            " [2 3]]\n",
            "det(A) =  7.000000000000001\n",
            "------------\n",
            "A_1 =  [[ 9  1]\n",
            " [13  3]]\n",
            "det(A1) =  13.999999999999996\n",
            "x1 =  1.9999999999999993\n",
            "------------\n",
            "[[3 1]\n",
            " [2 3]]\n",
            "A_2 =  [[ 3  9]\n",
            " [ 2 13]]\n",
            "det(A2) =  21.0\n",
            "x2 =  2.9999999999999996\n"
          ],
          "name": "stdout"
        }
      ]
    }
  ]
}